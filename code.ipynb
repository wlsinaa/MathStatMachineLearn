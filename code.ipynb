{
 "cells": [
  {
   "cell_type": "code",
   "execution_count": 176,
   "metadata": {
    "vscode": {
     "languageId": "r"
    }
   },
   "outputs": [
    {
     "data": {
      "text/html": [
       "3376"
      ],
      "text/latex": [
       "3376"
      ],
      "text/markdown": [
       "3376"
      ],
      "text/plain": [
       "[1] 3376"
      ]
     },
     "metadata": {},
     "output_type": "display_data"
    },
    {
     "name": "stderr",
     "output_type": "stream",
     "text": [
      "Installing package into 'C:/Users/ivywa/OneDrive/Documents/R/win-library/3.6'\n",
      "(as 'lib' is unspecified)\n",
      "Warning message:\n",
      "\"package 'factoextra' is in use and will not be installed\""
     ]
    },
    {
     "data": {
      "text/html": [
       "<ol class=list-inline>\n",
       "\t<li>'revenue'</li>\n",
       "\t<li>'budget'</li>\n",
       "\t<li>'genres'</li>\n",
       "\t<li>'keywords'</li>\n",
       "\t<li>'production_companies'</li>\n",
       "\t<li>'release_date'</li>\n",
       "\t<li>'cast'</li>\n",
       "\t<li>'crew'</li>\n",
       "</ol>\n"
      ],
      "text/latex": [
       "\\begin{enumerate*}\n",
       "\\item 'revenue'\n",
       "\\item 'budget'\n",
       "\\item 'genres'\n",
       "\\item 'keywords'\n",
       "\\item 'production\\_companies'\n",
       "\\item 'release\\_date'\n",
       "\\item 'cast'\n",
       "\\item 'crew'\n",
       "\\end{enumerate*}\n"
      ],
      "text/markdown": [
       "1. 'revenue'\n",
       "2. 'budget'\n",
       "3. 'genres'\n",
       "4. 'keywords'\n",
       "5. 'production_companies'\n",
       "6. 'release_date'\n",
       "7. 'cast'\n",
       "8. 'crew'\n",
       "\n",
       "\n"
      ],
      "text/plain": [
       "[1] \"revenue\"              \"budget\"               \"genres\"              \n",
       "[4] \"keywords\"             \"production_companies\" \"release_date\"        \n",
       "[7] \"cast\"                 \"crew\"                "
      ]
     },
     "metadata": {},
     "output_type": "display_data"
    },
    {
     "data": {
      "text/html": [
       "<ol class=list-inline>\n",
       "\t<li>'revenue'</li>\n",
       "\t<li>'budget'</li>\n",
       "\t<li>'genres'</li>\n",
       "\t<li>'keywords'</li>\n",
       "\t<li>'production_companies'</li>\n",
       "\t<li>'release_date'</li>\n",
       "\t<li>'cast'</li>\n",
       "\t<li>'crew'</li>\n",
       "</ol>\n"
      ],
      "text/latex": [
       "\\begin{enumerate*}\n",
       "\\item 'revenue'\n",
       "\\item 'budget'\n",
       "\\item 'genres'\n",
       "\\item 'keywords'\n",
       "\\item 'production\\_companies'\n",
       "\\item 'release\\_date'\n",
       "\\item 'cast'\n",
       "\\item 'crew'\n",
       "\\end{enumerate*}\n"
      ],
      "text/markdown": [
       "1. 'revenue'\n",
       "2. 'budget'\n",
       "3. 'genres'\n",
       "4. 'keywords'\n",
       "5. 'production_companies'\n",
       "6. 'release_date'\n",
       "7. 'cast'\n",
       "8. 'crew'\n",
       "\n",
       "\n"
      ],
      "text/plain": [
       "[1] \"revenue\"              \"budget\"               \"genres\"              \n",
       "[4] \"keywords\"             \"production_companies\" \"release_date\"        \n",
       "[7] \"cast\"                 \"crew\"                "
      ]
     },
     "metadata": {},
     "output_type": "display_data"
    },
    {
     "data": {
      "text/plain": [
       "    revenue         \n",
       " Min.   : 1.609438  \n",
       " 1st Qu.:16.546813  \n",
       " Median :17.761970  \n",
       " Mean   :17.385960  \n",
       " 3rd Qu.:18.758332  \n",
       " Max.   :21.748578  "
      ]
     },
     "metadata": {},
     "output_type": "display_data"
    }
   ],
   "source": [
    "# Read the data\n",
    "data <- read.csv('data_final.csv')\n",
    "nrow(data)\n",
    "# using library to read JSON format data\n",
    "library(jsonlite)\n",
    "install.packages('factoextra')\n",
    "library(factoextra)\n",
    "\n",
    "set.seed(123)\n",
    "\n",
    "sample_size <- 3000\n",
    "sample_index <- sample(seq_len(nrow(data)),size = sample_size)\n",
    "trainingData <- data[sample_index,]\n",
    "testData <- data[-sample_index,]\n",
    "colnames(trainingData)\n",
    "\n",
    "only <- c('revenue','budget')\n",
    "target_df <- trainingData[only]\n",
    "target_df$revenue <- log(target_df$revenue)\n",
    "\n",
    "Final_dummy_df <- data.frame()\n",
    "\n",
    "\n",
    "\n",
    "target_col <- colnames(trainingData)[3] # genres\n",
    "\n",
    "\n",
    "\n",
    "colnames(trainingData)\n",
    "\n",
    "library(dplyr)\n",
    "library(stringr)\n",
    "library(caret)\n",
    "library(car)\n",
    "library(tidyr)\n",
    "library(ggpubr)\n",
    "date_format <- c(\"year\", \"month\", \"day\")\n",
    "if (target_col == 'release_date'){\n",
    "  trainingData[[target_col]] <- as.factor(trainingData[[target_col]])\n",
    "  Split_df <- separate(trainingData[target_col], release_date ,sep=\"-\", into = date_format)\n",
    "  OBJ <-data.frame()\n",
    "  OBJ <- cbind(trainingData[target_col],Split_df)\n",
    "  for (col in date_format){\n",
    "    OBJ[[col]]<- as.integer(OBJ[[col]])\n",
    "  }\n",
    "  # chagne month to season\n",
    "  \n",
    "  OBJ[which(OBJ$month > 11 | OBJ$month < 3 ), 'month'] <- -999\n",
    "  \n",
    "  OBJ[which(OBJ$month > 2 & OBJ$month < 6),'month'] <- 1\n",
    "  \n",
    "  OBJ[which(OBJ$month > 5 & OBJ$month < 9),'month'] <- 2\n",
    "  \n",
    "  OBJ[which(OBJ$month > 8 & OBJ$month < 12),'month'] <- 3\n",
    "  \n",
    "  OBJ[which(OBJ$month == -999 ), 'month'] <- 4\n",
    "  colnames(OBJ) <- c('release_date','year','season','day')\n",
    "  OBJ <- cbind(trainingData['revenue'],OBJ)\n",
    "  OBJ$revenue <- log(OBJ$revenue)\n",
    "  OBJ$season <- as.factor(OBJ$season)\n",
    "  \n",
    "  ggboxplot(OBJ, x = \"season\", y = \"revenue\", \n",
    "            order = c(\"1\", \"2\", \"3\",\"4\"),\n",
    "            ylab = \"revenue\", xlab = \"season\",ylim = c(12.5,21.748578))\n",
    "  res.aov <- aov(revenue ~ season, data = OBJ)\n",
    "  print(summary(res.aov))\n",
    "  # Extract the residuals\n",
    "  aov_residuals <- residuals(object = res.aov )\n",
    "  # Run Shapiro-Wilk test\n",
    "  plot(res.aov, 2)\n",
    "  print(shapiro.test(x = aov_residuals ))\n",
    "  leveneTest(revenue ~ season, data = OBJ)\n",
    "  kruskal.test(revenue ~ season, data = OBJ)\n",
    "  \n",
    "}\n",
    "\n",
    "\n",
    "# summary\n",
    "revenue <- data[colnames(data)[1]]\n",
    "revenue$revenue <- log(revenue$revenue)\n",
    "budget <- data[colnames(data)[2]]\n",
    "summary(revenue,digits=10)\n",
    "\n",
    "\n",
    "library(ggplot2)\n",
    "#plot(y = revenue$revenue, x= budget$budget /1000000,xlab = 'budget (milions)', ylab = 'Log(revenue($))',main = 'The plot of budget against log(revenue)')\n",
    "#plot(y = revenue$revenue, x= OBJ$year ,xlab = 'Year', ylab = 'Log(revenue($))',main = 'The plot of year against log(revenue)')\n",
    "#reg1 <- lm(revenue$revenue ~ as.numeric(OBJ$year) )\n",
    "#abline(reg1,col=\"red\",lwd=3)\n",
    "\n"
   ]
  },
  {
   "cell_type": "code",
   "execution_count": 177,
   "metadata": {
    "vscode": {
     "languageId": "r"
    }
   },
   "outputs": [],
   "source": [
    "\n",
    "###############################################################################################\n",
    "\n",
    "response = 'revenue'\n",
    "target <- fromJSON(toJSON(trainingData[[target_col]]))\n",
    "###############################################################################################\n"
   ]
  },
  {
   "cell_type": "code",
   "execution_count": 178,
   "metadata": {
    "vscode": {
     "languageId": "r"
    }
   },
   "outputs": [
    {
     "data": {
      "text/html": [
       "<table>\n",
       "<thead><tr><th scope=col>id</th><th scope=col>name</th></tr></thead>\n",
       "<tbody>\n",
       "\t<tr><td>  18    </td><td>Drama   </td></tr>\n",
       "\t<tr><td>  28    </td><td>Action  </td></tr>\n",
       "\t<tr><td>  27    </td><td>Horror  </td></tr>\n",
       "\t<tr><td>9648    </td><td>Mystery </td></tr>\n",
       "\t<tr><td>  53    </td><td>Thriller</td></tr>\n",
       "</tbody>\n",
       "</table>\n"
      ],
      "text/latex": [
       "\\begin{tabular}{r|ll}\n",
       " id & name\\\\\n",
       "\\hline\n",
       "\t   18     & Drama   \\\\\n",
       "\t   28     & Action  \\\\\n",
       "\t   27     & Horror  \\\\\n",
       "\t 9648     & Mystery \\\\\n",
       "\t   53     & Thriller\\\\\n",
       "\\end{tabular}\n"
      ],
      "text/markdown": [
       "\n",
       "| id | name |\n",
       "|---|---|\n",
       "|   18     | Drama    |\n",
       "|   28     | Action   |\n",
       "|   27     | Horror   |\n",
       "| 9648     | Mystery  |\n",
       "|   53     | Thriller |\n",
       "\n"
      ],
      "text/plain": [
       "  id   name    \n",
       "1   18 Drama   \n",
       "2   28 Action  \n",
       "3   27 Horror  \n",
       "4 9648 Mystery \n",
       "5   53 Thriller"
      ]
     },
     "metadata": {},
     "output_type": "display_data"
    },
    {
     "name": "stdout",
     "output_type": "stream",
     "text": [
      " [1] 18    28    27    9648  53    14    12    35    16    10751 878   10749\n",
      "[13] 36    80    10402 10752 99    37    10769\n",
      "19 Levels: 12 14 16 18 27 28 35 36 37 53 80 99 878 9648 10402 10749 ... 10769\n"
     ]
    },
    {
     "data": {
      "text/html": [
       "<table>\n",
       "<thead><tr><th scope=col>TypeAction</th><th scope=col>TypeAdventure</th><th scope=col>TypeAnimation</th><th scope=col>TypeComedy</th><th scope=col>TypeCrime</th><th scope=col>TypeDocumentary</th><th scope=col>TypeDrama</th><th scope=col>TypeFamily</th><th scope=col>TypeFantasy</th><th scope=col>TypeForeign</th><th scope=col>TypeHistory</th><th scope=col>TypeHorror</th><th scope=col>TypeMusic</th><th scope=col>TypeMystery</th><th scope=col>TypeRomance</th><th scope=col>TypeScienceFiction</th><th scope=col>TypeThriller</th><th scope=col>TypeWar</th><th scope=col>TypeWestern</th></tr></thead>\n",
       "<tbody>\n",
       "\t<tr><td>1</td><td>0</td><td>0</td><td>0</td><td>0</td><td>0</td><td>1</td><td>0</td><td>0</td><td>0</td><td>0</td><td>0</td><td>0</td><td>0</td><td>0</td><td>0</td><td>0</td><td>0</td><td>0</td></tr>\n",
       "\t<tr><td>0</td><td>0</td><td>0</td><td>0</td><td>0</td><td>0</td><td>0</td><td>0</td><td>0</td><td>0</td><td>0</td><td>1</td><td>0</td><td>1</td><td>0</td><td>0</td><td>1</td><td>0</td><td>0</td></tr>\n",
       "\t<tr><td>1</td><td>0</td><td>0</td><td>0</td><td>0</td><td>0</td><td>1</td><td>0</td><td>1</td><td>0</td><td>0</td><td>1</td><td>0</td><td>0</td><td>0</td><td>0</td><td>1</td><td>0</td><td>0</td></tr>\n",
       "\t<tr><td>1</td><td>1</td><td>0</td><td>1</td><td>0</td><td>0</td><td>0</td><td>0</td><td>0</td><td>0</td><td>0</td><td>0</td><td>0</td><td>0</td><td>0</td><td>0</td><td>1</td><td>0</td><td>0</td></tr>\n",
       "\t<tr><td>1</td><td>0</td><td>1</td><td>1</td><td>0</td><td>0</td><td>0</td><td>1</td><td>0</td><td>0</td><td>0</td><td>0</td><td>0</td><td>0</td><td>0</td><td>1</td><td>0</td><td>0</td><td>0</td></tr>\n",
       "\t<tr><td>0</td><td>0</td><td>0</td><td>1</td><td>0</td><td>0</td><td>1</td><td>0</td><td>0</td><td>0</td><td>0</td><td>0</td><td>0</td><td>0</td><td>0</td><td>0</td><td>0</td><td>0</td><td>0</td></tr>\n",
       "\t<tr><td>0</td><td>0</td><td>0</td><td>1</td><td>0</td><td>0</td><td>0</td><td>0</td><td>0</td><td>0</td><td>0</td><td>0</td><td>0</td><td>0</td><td>1</td><td>0</td><td>0</td><td>0</td><td>0</td></tr>\n",
       "\t<tr><td>0</td><td>0</td><td>0</td><td>0</td><td>0</td><td>0</td><td>1</td><td>0</td><td>0</td><td>0</td><td>1</td><td>0</td><td>0</td><td>1</td><td>0</td><td>0</td><td>0</td><td>0</td><td>0</td></tr>\n",
       "\t<tr><td>0</td><td>0</td><td>0</td><td>0</td><td>0</td><td>0</td><td>0</td><td>0</td><td>0</td><td>0</td><td>0</td><td>0</td><td>0</td><td>1</td><td>1</td><td>1</td><td>1</td><td>0</td><td>0</td></tr>\n",
       "\t<tr><td>0</td><td>0</td><td>0</td><td>0</td><td>1</td><td>0</td><td>0</td><td>0</td><td>0</td><td>0</td><td>0</td><td>0</td><td>0</td><td>0</td><td>0</td><td>0</td><td>1</td><td>0</td><td>0</td></tr>\n",
       "\t<tr><td>1</td><td>1</td><td>0</td><td>1</td><td>1</td><td>0</td><td>0</td><td>0</td><td>0</td><td>0</td><td>0</td><td>0</td><td>0</td><td>0</td><td>0</td><td>0</td><td>1</td><td>0</td><td>0</td></tr>\n",
       "\t<tr><td>0</td><td>0</td><td>1</td><td>1</td><td>0</td><td>0</td><td>0</td><td>1</td><td>0</td><td>0</td><td>0</td><td>0</td><td>0</td><td>0</td><td>0</td><td>0</td><td>0</td><td>0</td><td>0</td></tr>\n",
       "\t<tr><td>0</td><td>0</td><td>0</td><td>0</td><td>1</td><td>0</td><td>1</td><td>0</td><td>0</td><td>0</td><td>0</td><td>0</td><td>0</td><td>0</td><td>0</td><td>0</td><td>0</td><td>0</td><td>0</td></tr>\n",
       "\t<tr><td>0</td><td>0</td><td>0</td><td>1</td><td>0</td><td>0</td><td>0</td><td>0</td><td>0</td><td>0</td><td>0</td><td>0</td><td>0</td><td>0</td><td>1</td><td>0</td><td>0</td><td>0</td><td>0</td></tr>\n",
       "\t<tr><td>0</td><td>0</td><td>0</td><td>0</td><td>0</td><td>0</td><td>0</td><td>0</td><td>0</td><td>0</td><td>0</td><td>1</td><td>0</td><td>1</td><td>0</td><td>0</td><td>1</td><td>0</td><td>0</td></tr>\n",
       "\t<tr><td>1</td><td>0</td><td>0</td><td>0</td><td>0</td><td>0</td><td>0</td><td>0</td><td>0</td><td>0</td><td>0</td><td>0</td><td>0</td><td>0</td><td>0</td><td>0</td><td>1</td><td>0</td><td>0</td></tr>\n",
       "\t<tr><td>1</td><td>0</td><td>0</td><td>1</td><td>1</td><td>0</td><td>0</td><td>0</td><td>0</td><td>0</td><td>0</td><td>0</td><td>0</td><td>0</td><td>1</td><td>0</td><td>0</td><td>0</td><td>0</td></tr>\n",
       "\t<tr><td>1</td><td>0</td><td>0</td><td>0</td><td>0</td><td>0</td><td>0</td><td>0</td><td>0</td><td>0</td><td>0</td><td>0</td><td>0</td><td>0</td><td>0</td><td>1</td><td>1</td><td>0</td><td>0</td></tr>\n",
       "\t<tr><td>0</td><td>0</td><td>0</td><td>0</td><td>1</td><td>0</td><td>1</td><td>0</td><td>0</td><td>0</td><td>0</td><td>0</td><td>0</td><td>0</td><td>0</td><td>0</td><td>1</td><td>0</td><td>0</td></tr>\n",
       "\t<tr><td>0</td><td>1</td><td>0</td><td>1</td><td>0</td><td>0</td><td>1</td><td>0</td><td>0</td><td>0</td><td>0</td><td>0</td><td>0</td><td>0</td><td>0</td><td>0</td><td>0</td><td>0</td><td>0</td></tr>\n",
       "\t<tr><td>0</td><td>0</td><td>0</td><td>1</td><td>0</td><td>0</td><td>1</td><td>0</td><td>0</td><td>0</td><td>0</td><td>0</td><td>0</td><td>0</td><td>1</td><td>0</td><td>0</td><td>0</td><td>0</td></tr>\n",
       "\t<tr><td>1</td><td>0</td><td>0</td><td>0</td><td>1</td><td>0</td><td>1</td><td>0</td><td>0</td><td>0</td><td>0</td><td>0</td><td>0</td><td>0</td><td>0</td><td>0</td><td>1</td><td>0</td><td>0</td></tr>\n",
       "\t<tr><td>0</td><td>0</td><td>0</td><td>0</td><td>0</td><td>0</td><td>1</td><td>0</td><td>0</td><td>0</td><td>0</td><td>0</td><td>0</td><td>0</td><td>0</td><td>1</td><td>0</td><td>0</td><td>0</td></tr>\n",
       "\t<tr><td>0</td><td>0</td><td>0</td><td>0</td><td>0</td><td>0</td><td>0</td><td>0</td><td>0</td><td>0</td><td>0</td><td>0</td><td>1</td><td>0</td><td>0</td><td>0</td><td>0</td><td>0</td><td>0</td></tr>\n",
       "\t<tr><td>0</td><td>0</td><td>0</td><td>0</td><td>0</td><td>0</td><td>0</td><td>0</td><td>0</td><td>0</td><td>0</td><td>1</td><td>0</td><td>0</td><td>0</td><td>0</td><td>1</td><td>0</td><td>0</td></tr>\n",
       "\t<tr><td>0</td><td>0</td><td>0</td><td>0</td><td>0</td><td>0</td><td>1</td><td>0</td><td>0</td><td>0</td><td>0</td><td>0</td><td>0</td><td>0</td><td>1</td><td>0</td><td>0</td><td>0</td><td>0</td></tr>\n",
       "\t<tr><td>0</td><td>0</td><td>0</td><td>0</td><td>0</td><td>0</td><td>1</td><td>0</td><td>0</td><td>0</td><td>1</td><td>0</td><td>0</td><td>0</td><td>0</td><td>0</td><td>0</td><td>0</td><td>0</td></tr>\n",
       "\t<tr><td>0</td><td>0</td><td>0</td><td>1</td><td>0</td><td>0</td><td>1</td><td>0</td><td>0</td><td>0</td><td>0</td><td>0</td><td>0</td><td>0</td><td>1</td><td>0</td><td>0</td><td>0</td><td>0</td></tr>\n",
       "\t<tr><td>1</td><td>1</td><td>0</td><td>0</td><td>0</td><td>0</td><td>0</td><td>0</td><td>0</td><td>0</td><td>0</td><td>0</td><td>0</td><td>0</td><td>0</td><td>1</td><td>1</td><td>0</td><td>0</td></tr>\n",
       "\t<tr><td>0</td><td>0</td><td>0</td><td>0</td><td>0</td><td>0</td><td>1</td><td>0</td><td>0</td><td>0</td><td>0</td><td>0</td><td>0</td><td>0</td><td>1</td><td>0</td><td>0</td><td>1</td><td>0</td></tr>\n",
       "\t<tr><td>...</td><td>...</td><td>...</td><td>...</td><td>...</td><td>...</td><td>...</td><td>...</td><td>...</td><td>...</td><td>...</td><td>...</td><td>...</td><td>...</td><td>...</td><td>...</td><td>...</td><td>...</td><td>...</td></tr>\n",
       "\t<tr><td>1</td><td>0</td><td>0</td><td>0</td><td>1</td><td>0</td><td>0</td><td>0</td><td>0</td><td>0</td><td>0</td><td>0</td><td>0</td><td>0</td><td>0</td><td>0</td><td>1</td><td>0</td><td>0</td></tr>\n",
       "\t<tr><td>0</td><td>0</td><td>0</td><td>1</td><td>0</td><td>0</td><td>1</td><td>0</td><td>0</td><td>0</td><td>0</td><td>0</td><td>0</td><td>0</td><td>0</td><td>0</td><td>0</td><td>0</td><td>0</td></tr>\n",
       "\t<tr><td>0</td><td>1</td><td>0</td><td>0</td><td>0</td><td>0</td><td>1</td><td>0</td><td>0</td><td>0</td><td>0</td><td>0</td><td>0</td><td>0</td><td>1</td><td>0</td><td>0</td><td>0</td><td>0</td></tr>\n",
       "\t<tr><td>0</td><td>0</td><td>0</td><td>0</td><td>0</td><td>0</td><td>1</td><td>0</td><td>1</td><td>0</td><td>0</td><td>0</td><td>0</td><td>1</td><td>0</td><td>0</td><td>1</td><td>0</td><td>0</td></tr>\n",
       "\t<tr><td>0</td><td>0</td><td>0</td><td>0</td><td>1</td><td>0</td><td>1</td><td>0</td><td>0</td><td>0</td><td>0</td><td>0</td><td>0</td><td>0</td><td>1</td><td>0</td><td>1</td><td>0</td><td>0</td></tr>\n",
       "\t<tr><td>0</td><td>0</td><td>0</td><td>1</td><td>0</td><td>0</td><td>1</td><td>0</td><td>0</td><td>0</td><td>0</td><td>0</td><td>0</td><td>0</td><td>1</td><td>0</td><td>0</td><td>0</td><td>0</td></tr>\n",
       "\t<tr><td>0</td><td>0</td><td>0</td><td>1</td><td>0</td><td>0</td><td>1</td><td>0</td><td>0</td><td>0</td><td>0</td><td>0</td><td>0</td><td>0</td><td>0</td><td>0</td><td>0</td><td>0</td><td>0</td></tr>\n",
       "\t<tr><td>0</td><td>0</td><td>0</td><td>1</td><td>0</td><td>0</td><td>0</td><td>0</td><td>0</td><td>0</td><td>0</td><td>0</td><td>0</td><td>0</td><td>1</td><td>0</td><td>0</td><td>0</td><td>0</td></tr>\n",
       "\t<tr><td>0</td><td>0</td><td>0</td><td>0</td><td>0</td><td>0</td><td>1</td><td>0</td><td>0</td><td>0</td><td>0</td><td>0</td><td>0</td><td>0</td><td>0</td><td>0</td><td>0</td><td>0</td><td>0</td></tr>\n",
       "\t<tr><td>0</td><td>0</td><td>0</td><td>0</td><td>0</td><td>0</td><td>1</td><td>0</td><td>0</td><td>0</td><td>1</td><td>0</td><td>0</td><td>0</td><td>0</td><td>0</td><td>0</td><td>1</td><td>0</td></tr>\n",
       "\t<tr><td>1</td><td>0</td><td>0</td><td>0</td><td>0</td><td>0</td><td>0</td><td>0</td><td>0</td><td>0</td><td>0</td><td>0</td><td>0</td><td>0</td><td>0</td><td>1</td><td>1</td><td>0</td><td>0</td></tr>\n",
       "\t<tr><td>0</td><td>1</td><td>0</td><td>1</td><td>0</td><td>0</td><td>0</td><td>0</td><td>0</td><td>0</td><td>0</td><td>0</td><td>0</td><td>0</td><td>0</td><td>1</td><td>0</td><td>0</td><td>0</td></tr>\n",
       "\t<tr><td>0</td><td>0</td><td>0</td><td>0</td><td>0</td><td>0</td><td>1</td><td>0</td><td>0</td><td>0</td><td>0</td><td>0</td><td>0</td><td>0</td><td>0</td><td>0</td><td>0</td><td>0</td><td>0</td></tr>\n",
       "\t<tr><td>0</td><td>0</td><td>0</td><td>1</td><td>0</td><td>0</td><td>1</td><td>0</td><td>0</td><td>0</td><td>0</td><td>0</td><td>0</td><td>0</td><td>0</td><td>0</td><td>0</td><td>0</td><td>0</td></tr>\n",
       "\t<tr><td>0</td><td>0</td><td>0</td><td>0</td><td>0</td><td>0</td><td>0</td><td>0</td><td>0</td><td>0</td><td>0</td><td>1</td><td>0</td><td>1</td><td>0</td><td>0</td><td>1</td><td>0</td><td>0</td></tr>\n",
       "\t<tr><td>0</td><td>0</td><td>0</td><td>0</td><td>0</td><td>0</td><td>0</td><td>0</td><td>0</td><td>0</td><td>0</td><td>0</td><td>0</td><td>0</td><td>0</td><td>0</td><td>0</td><td>0</td><td>1</td></tr>\n",
       "\t<tr><td>0</td><td>1</td><td>1</td><td>1</td><td>0</td><td>0</td><td>0</td><td>1</td><td>0</td><td>0</td><td>0</td><td>0</td><td>0</td><td>0</td><td>0</td><td>0</td><td>0</td><td>0</td><td>0</td></tr>\n",
       "\t<tr><td>0</td><td>0</td><td>0</td><td>0</td><td>0</td><td>0</td><td>1</td><td>0</td><td>0</td><td>0</td><td>0</td><td>0</td><td>0</td><td>0</td><td>1</td><td>0</td><td>0</td><td>0</td><td>0</td></tr>\n",
       "\t<tr><td>0</td><td>0</td><td>0</td><td>1</td><td>0</td><td>0</td><td>0</td><td>0</td><td>0</td><td>0</td><td>0</td><td>0</td><td>1</td><td>0</td><td>1</td><td>0</td><td>0</td><td>0</td><td>0</td></tr>\n",
       "\t<tr><td>0</td><td>0</td><td>0</td><td>0</td><td>0</td><td>0</td><td>1</td><td>0</td><td>0</td><td>0</td><td>0</td><td>0</td><td>0</td><td>0</td><td>0</td><td>0</td><td>0</td><td>0</td><td>0</td></tr>\n",
       "\t<tr><td>1</td><td>1</td><td>0</td><td>1</td><td>0</td><td>0</td><td>0</td><td>0</td><td>0</td><td>0</td><td>0</td><td>0</td><td>0</td><td>0</td><td>0</td><td>1</td><td>0</td><td>0</td><td>0</td></tr>\n",
       "\t<tr><td>0</td><td>0</td><td>0</td><td>1</td><td>0</td><td>0</td><td>1</td><td>0</td><td>0</td><td>0</td><td>0</td><td>0</td><td>0</td><td>0</td><td>0</td><td>0</td><td>0</td><td>0</td><td>0</td></tr>\n",
       "\t<tr><td>0</td><td>0</td><td>0</td><td>0</td><td>1</td><td>0</td><td>1</td><td>0</td><td>0</td><td>0</td><td>0</td><td>0</td><td>0</td><td>0</td><td>0</td><td>0</td><td>1</td><td>0</td><td>0</td></tr>\n",
       "\t<tr><td>0</td><td>0</td><td>0</td><td>1</td><td>0</td><td>0</td><td>0</td><td>0</td><td>0</td><td>0</td><td>0</td><td>0</td><td>0</td><td>0</td><td>0</td><td>0</td><td>0</td><td>0</td><td>0</td></tr>\n",
       "\t<tr><td>0</td><td>0</td><td>0</td><td>1</td><td>0</td><td>0</td><td>1</td><td>0</td><td>0</td><td>0</td><td>0</td><td>0</td><td>0</td><td>0</td><td>1</td><td>0</td><td>0</td><td>0</td><td>0</td></tr>\n",
       "\t<tr><td>0</td><td>0</td><td>0</td><td>1</td><td>0</td><td>0</td><td>0</td><td>0</td><td>0</td><td>0</td><td>0</td><td>0</td><td>0</td><td>0</td><td>0</td><td>0</td><td>0</td><td>0</td><td>0</td></tr>\n",
       "\t<tr><td>1</td><td>1</td><td>0</td><td>1</td><td>0</td><td>0</td><td>0</td><td>0</td><td>1</td><td>0</td><td>0</td><td>0</td><td>0</td><td>0</td><td>0</td><td>0</td><td>0</td><td>0</td><td>0</td></tr>\n",
       "\t<tr><td>0</td><td>0</td><td>0</td><td>0</td><td>0</td><td>0</td><td>1</td><td>0</td><td>1</td><td>0</td><td>0</td><td>0</td><td>0</td><td>0</td><td>1</td><td>1</td><td>0</td><td>0</td><td>0</td></tr>\n",
       "\t<tr><td>0</td><td>0</td><td>0</td><td>1</td><td>0</td><td>0</td><td>0</td><td>0</td><td>0</td><td>0</td><td>0</td><td>0</td><td>0</td><td>0</td><td>0</td><td>0</td><td>0</td><td>0</td><td>0</td></tr>\n",
       "\t<tr><td>1</td><td>0</td><td>0</td><td>0</td><td>0</td><td>0</td><td>0</td><td>0</td><td>1</td><td>0</td><td>0</td><td>0</td><td>0</td><td>0</td><td>0</td><td>1</td><td>0</td><td>0</td><td>0</td></tr>\n",
       "</tbody>\n",
       "</table>\n"
      ],
      "text/latex": [
       "\\begin{tabular}{r|lllllllllllllllllll}\n",
       " TypeAction & TypeAdventure & TypeAnimation & TypeComedy & TypeCrime & TypeDocumentary & TypeDrama & TypeFamily & TypeFantasy & TypeForeign & TypeHistory & TypeHorror & TypeMusic & TypeMystery & TypeRomance & TypeScienceFiction & TypeThriller & TypeWar & TypeWestern\\\\\n",
       "\\hline\n",
       "\t 1 & 0 & 0 & 0 & 0 & 0 & 1 & 0 & 0 & 0 & 0 & 0 & 0 & 0 & 0 & 0 & 0 & 0 & 0\\\\\n",
       "\t 0 & 0 & 0 & 0 & 0 & 0 & 0 & 0 & 0 & 0 & 0 & 1 & 0 & 1 & 0 & 0 & 1 & 0 & 0\\\\\n",
       "\t 1 & 0 & 0 & 0 & 0 & 0 & 1 & 0 & 1 & 0 & 0 & 1 & 0 & 0 & 0 & 0 & 1 & 0 & 0\\\\\n",
       "\t 1 & 1 & 0 & 1 & 0 & 0 & 0 & 0 & 0 & 0 & 0 & 0 & 0 & 0 & 0 & 0 & 1 & 0 & 0\\\\\n",
       "\t 1 & 0 & 1 & 1 & 0 & 0 & 0 & 1 & 0 & 0 & 0 & 0 & 0 & 0 & 0 & 1 & 0 & 0 & 0\\\\\n",
       "\t 0 & 0 & 0 & 1 & 0 & 0 & 1 & 0 & 0 & 0 & 0 & 0 & 0 & 0 & 0 & 0 & 0 & 0 & 0\\\\\n",
       "\t 0 & 0 & 0 & 1 & 0 & 0 & 0 & 0 & 0 & 0 & 0 & 0 & 0 & 0 & 1 & 0 & 0 & 0 & 0\\\\\n",
       "\t 0 & 0 & 0 & 0 & 0 & 0 & 1 & 0 & 0 & 0 & 1 & 0 & 0 & 1 & 0 & 0 & 0 & 0 & 0\\\\\n",
       "\t 0 & 0 & 0 & 0 & 0 & 0 & 0 & 0 & 0 & 0 & 0 & 0 & 0 & 1 & 1 & 1 & 1 & 0 & 0\\\\\n",
       "\t 0 & 0 & 0 & 0 & 1 & 0 & 0 & 0 & 0 & 0 & 0 & 0 & 0 & 0 & 0 & 0 & 1 & 0 & 0\\\\\n",
       "\t 1 & 1 & 0 & 1 & 1 & 0 & 0 & 0 & 0 & 0 & 0 & 0 & 0 & 0 & 0 & 0 & 1 & 0 & 0\\\\\n",
       "\t 0 & 0 & 1 & 1 & 0 & 0 & 0 & 1 & 0 & 0 & 0 & 0 & 0 & 0 & 0 & 0 & 0 & 0 & 0\\\\\n",
       "\t 0 & 0 & 0 & 0 & 1 & 0 & 1 & 0 & 0 & 0 & 0 & 0 & 0 & 0 & 0 & 0 & 0 & 0 & 0\\\\\n",
       "\t 0 & 0 & 0 & 1 & 0 & 0 & 0 & 0 & 0 & 0 & 0 & 0 & 0 & 0 & 1 & 0 & 0 & 0 & 0\\\\\n",
       "\t 0 & 0 & 0 & 0 & 0 & 0 & 0 & 0 & 0 & 0 & 0 & 1 & 0 & 1 & 0 & 0 & 1 & 0 & 0\\\\\n",
       "\t 1 & 0 & 0 & 0 & 0 & 0 & 0 & 0 & 0 & 0 & 0 & 0 & 0 & 0 & 0 & 0 & 1 & 0 & 0\\\\\n",
       "\t 1 & 0 & 0 & 1 & 1 & 0 & 0 & 0 & 0 & 0 & 0 & 0 & 0 & 0 & 1 & 0 & 0 & 0 & 0\\\\\n",
       "\t 1 & 0 & 0 & 0 & 0 & 0 & 0 & 0 & 0 & 0 & 0 & 0 & 0 & 0 & 0 & 1 & 1 & 0 & 0\\\\\n",
       "\t 0 & 0 & 0 & 0 & 1 & 0 & 1 & 0 & 0 & 0 & 0 & 0 & 0 & 0 & 0 & 0 & 1 & 0 & 0\\\\\n",
       "\t 0 & 1 & 0 & 1 & 0 & 0 & 1 & 0 & 0 & 0 & 0 & 0 & 0 & 0 & 0 & 0 & 0 & 0 & 0\\\\\n",
       "\t 0 & 0 & 0 & 1 & 0 & 0 & 1 & 0 & 0 & 0 & 0 & 0 & 0 & 0 & 1 & 0 & 0 & 0 & 0\\\\\n",
       "\t 1 & 0 & 0 & 0 & 1 & 0 & 1 & 0 & 0 & 0 & 0 & 0 & 0 & 0 & 0 & 0 & 1 & 0 & 0\\\\\n",
       "\t 0 & 0 & 0 & 0 & 0 & 0 & 1 & 0 & 0 & 0 & 0 & 0 & 0 & 0 & 0 & 1 & 0 & 0 & 0\\\\\n",
       "\t 0 & 0 & 0 & 0 & 0 & 0 & 0 & 0 & 0 & 0 & 0 & 0 & 1 & 0 & 0 & 0 & 0 & 0 & 0\\\\\n",
       "\t 0 & 0 & 0 & 0 & 0 & 0 & 0 & 0 & 0 & 0 & 0 & 1 & 0 & 0 & 0 & 0 & 1 & 0 & 0\\\\\n",
       "\t 0 & 0 & 0 & 0 & 0 & 0 & 1 & 0 & 0 & 0 & 0 & 0 & 0 & 0 & 1 & 0 & 0 & 0 & 0\\\\\n",
       "\t 0 & 0 & 0 & 0 & 0 & 0 & 1 & 0 & 0 & 0 & 1 & 0 & 0 & 0 & 0 & 0 & 0 & 0 & 0\\\\\n",
       "\t 0 & 0 & 0 & 1 & 0 & 0 & 1 & 0 & 0 & 0 & 0 & 0 & 0 & 0 & 1 & 0 & 0 & 0 & 0\\\\\n",
       "\t 1 & 1 & 0 & 0 & 0 & 0 & 0 & 0 & 0 & 0 & 0 & 0 & 0 & 0 & 0 & 1 & 1 & 0 & 0\\\\\n",
       "\t 0 & 0 & 0 & 0 & 0 & 0 & 1 & 0 & 0 & 0 & 0 & 0 & 0 & 0 & 1 & 0 & 0 & 1 & 0\\\\\n",
       "\t ... & ... & ... & ... & ... & ... & ... & ... & ... & ... & ... & ... & ... & ... & ... & ... & ... & ... & ...\\\\\n",
       "\t 1 & 0 & 0 & 0 & 1 & 0 & 0 & 0 & 0 & 0 & 0 & 0 & 0 & 0 & 0 & 0 & 1 & 0 & 0\\\\\n",
       "\t 0 & 0 & 0 & 1 & 0 & 0 & 1 & 0 & 0 & 0 & 0 & 0 & 0 & 0 & 0 & 0 & 0 & 0 & 0\\\\\n",
       "\t 0 & 1 & 0 & 0 & 0 & 0 & 1 & 0 & 0 & 0 & 0 & 0 & 0 & 0 & 1 & 0 & 0 & 0 & 0\\\\\n",
       "\t 0 & 0 & 0 & 0 & 0 & 0 & 1 & 0 & 1 & 0 & 0 & 0 & 0 & 1 & 0 & 0 & 1 & 0 & 0\\\\\n",
       "\t 0 & 0 & 0 & 0 & 1 & 0 & 1 & 0 & 0 & 0 & 0 & 0 & 0 & 0 & 1 & 0 & 1 & 0 & 0\\\\\n",
       "\t 0 & 0 & 0 & 1 & 0 & 0 & 1 & 0 & 0 & 0 & 0 & 0 & 0 & 0 & 1 & 0 & 0 & 0 & 0\\\\\n",
       "\t 0 & 0 & 0 & 1 & 0 & 0 & 1 & 0 & 0 & 0 & 0 & 0 & 0 & 0 & 0 & 0 & 0 & 0 & 0\\\\\n",
       "\t 0 & 0 & 0 & 1 & 0 & 0 & 0 & 0 & 0 & 0 & 0 & 0 & 0 & 0 & 1 & 0 & 0 & 0 & 0\\\\\n",
       "\t 0 & 0 & 0 & 0 & 0 & 0 & 1 & 0 & 0 & 0 & 0 & 0 & 0 & 0 & 0 & 0 & 0 & 0 & 0\\\\\n",
       "\t 0 & 0 & 0 & 0 & 0 & 0 & 1 & 0 & 0 & 0 & 1 & 0 & 0 & 0 & 0 & 0 & 0 & 1 & 0\\\\\n",
       "\t 1 & 0 & 0 & 0 & 0 & 0 & 0 & 0 & 0 & 0 & 0 & 0 & 0 & 0 & 0 & 1 & 1 & 0 & 0\\\\\n",
       "\t 0 & 1 & 0 & 1 & 0 & 0 & 0 & 0 & 0 & 0 & 0 & 0 & 0 & 0 & 0 & 1 & 0 & 0 & 0\\\\\n",
       "\t 0 & 0 & 0 & 0 & 0 & 0 & 1 & 0 & 0 & 0 & 0 & 0 & 0 & 0 & 0 & 0 & 0 & 0 & 0\\\\\n",
       "\t 0 & 0 & 0 & 1 & 0 & 0 & 1 & 0 & 0 & 0 & 0 & 0 & 0 & 0 & 0 & 0 & 0 & 0 & 0\\\\\n",
       "\t 0 & 0 & 0 & 0 & 0 & 0 & 0 & 0 & 0 & 0 & 0 & 1 & 0 & 1 & 0 & 0 & 1 & 0 & 0\\\\\n",
       "\t 0 & 0 & 0 & 0 & 0 & 0 & 0 & 0 & 0 & 0 & 0 & 0 & 0 & 0 & 0 & 0 & 0 & 0 & 1\\\\\n",
       "\t 0 & 1 & 1 & 1 & 0 & 0 & 0 & 1 & 0 & 0 & 0 & 0 & 0 & 0 & 0 & 0 & 0 & 0 & 0\\\\\n",
       "\t 0 & 0 & 0 & 0 & 0 & 0 & 1 & 0 & 0 & 0 & 0 & 0 & 0 & 0 & 1 & 0 & 0 & 0 & 0\\\\\n",
       "\t 0 & 0 & 0 & 1 & 0 & 0 & 0 & 0 & 0 & 0 & 0 & 0 & 1 & 0 & 1 & 0 & 0 & 0 & 0\\\\\n",
       "\t 0 & 0 & 0 & 0 & 0 & 0 & 1 & 0 & 0 & 0 & 0 & 0 & 0 & 0 & 0 & 0 & 0 & 0 & 0\\\\\n",
       "\t 1 & 1 & 0 & 1 & 0 & 0 & 0 & 0 & 0 & 0 & 0 & 0 & 0 & 0 & 0 & 1 & 0 & 0 & 0\\\\\n",
       "\t 0 & 0 & 0 & 1 & 0 & 0 & 1 & 0 & 0 & 0 & 0 & 0 & 0 & 0 & 0 & 0 & 0 & 0 & 0\\\\\n",
       "\t 0 & 0 & 0 & 0 & 1 & 0 & 1 & 0 & 0 & 0 & 0 & 0 & 0 & 0 & 0 & 0 & 1 & 0 & 0\\\\\n",
       "\t 0 & 0 & 0 & 1 & 0 & 0 & 0 & 0 & 0 & 0 & 0 & 0 & 0 & 0 & 0 & 0 & 0 & 0 & 0\\\\\n",
       "\t 0 & 0 & 0 & 1 & 0 & 0 & 1 & 0 & 0 & 0 & 0 & 0 & 0 & 0 & 1 & 0 & 0 & 0 & 0\\\\\n",
       "\t 0 & 0 & 0 & 1 & 0 & 0 & 0 & 0 & 0 & 0 & 0 & 0 & 0 & 0 & 0 & 0 & 0 & 0 & 0\\\\\n",
       "\t 1 & 1 & 0 & 1 & 0 & 0 & 0 & 0 & 1 & 0 & 0 & 0 & 0 & 0 & 0 & 0 & 0 & 0 & 0\\\\\n",
       "\t 0 & 0 & 0 & 0 & 0 & 0 & 1 & 0 & 1 & 0 & 0 & 0 & 0 & 0 & 1 & 1 & 0 & 0 & 0\\\\\n",
       "\t 0 & 0 & 0 & 1 & 0 & 0 & 0 & 0 & 0 & 0 & 0 & 0 & 0 & 0 & 0 & 0 & 0 & 0 & 0\\\\\n",
       "\t 1 & 0 & 0 & 0 & 0 & 0 & 0 & 0 & 1 & 0 & 0 & 0 & 0 & 0 & 0 & 1 & 0 & 0 & 0\\\\\n",
       "\\end{tabular}\n"
      ],
      "text/markdown": [
       "\n",
       "| TypeAction | TypeAdventure | TypeAnimation | TypeComedy | TypeCrime | TypeDocumentary | TypeDrama | TypeFamily | TypeFantasy | TypeForeign | TypeHistory | TypeHorror | TypeMusic | TypeMystery | TypeRomance | TypeScienceFiction | TypeThriller | TypeWar | TypeWestern |\n",
       "|---|---|---|---|---|---|---|---|---|---|---|---|---|---|---|---|---|---|---|\n",
       "| 1 | 0 | 0 | 0 | 0 | 0 | 1 | 0 | 0 | 0 | 0 | 0 | 0 | 0 | 0 | 0 | 0 | 0 | 0 |\n",
       "| 0 | 0 | 0 | 0 | 0 | 0 | 0 | 0 | 0 | 0 | 0 | 1 | 0 | 1 | 0 | 0 | 1 | 0 | 0 |\n",
       "| 1 | 0 | 0 | 0 | 0 | 0 | 1 | 0 | 1 | 0 | 0 | 1 | 0 | 0 | 0 | 0 | 1 | 0 | 0 |\n",
       "| 1 | 1 | 0 | 1 | 0 | 0 | 0 | 0 | 0 | 0 | 0 | 0 | 0 | 0 | 0 | 0 | 1 | 0 | 0 |\n",
       "| 1 | 0 | 1 | 1 | 0 | 0 | 0 | 1 | 0 | 0 | 0 | 0 | 0 | 0 | 0 | 1 | 0 | 0 | 0 |\n",
       "| 0 | 0 | 0 | 1 | 0 | 0 | 1 | 0 | 0 | 0 | 0 | 0 | 0 | 0 | 0 | 0 | 0 | 0 | 0 |\n",
       "| 0 | 0 | 0 | 1 | 0 | 0 | 0 | 0 | 0 | 0 | 0 | 0 | 0 | 0 | 1 | 0 | 0 | 0 | 0 |\n",
       "| 0 | 0 | 0 | 0 | 0 | 0 | 1 | 0 | 0 | 0 | 1 | 0 | 0 | 1 | 0 | 0 | 0 | 0 | 0 |\n",
       "| 0 | 0 | 0 | 0 | 0 | 0 | 0 | 0 | 0 | 0 | 0 | 0 | 0 | 1 | 1 | 1 | 1 | 0 | 0 |\n",
       "| 0 | 0 | 0 | 0 | 1 | 0 | 0 | 0 | 0 | 0 | 0 | 0 | 0 | 0 | 0 | 0 | 1 | 0 | 0 |\n",
       "| 1 | 1 | 0 | 1 | 1 | 0 | 0 | 0 | 0 | 0 | 0 | 0 | 0 | 0 | 0 | 0 | 1 | 0 | 0 |\n",
       "| 0 | 0 | 1 | 1 | 0 | 0 | 0 | 1 | 0 | 0 | 0 | 0 | 0 | 0 | 0 | 0 | 0 | 0 | 0 |\n",
       "| 0 | 0 | 0 | 0 | 1 | 0 | 1 | 0 | 0 | 0 | 0 | 0 | 0 | 0 | 0 | 0 | 0 | 0 | 0 |\n",
       "| 0 | 0 | 0 | 1 | 0 | 0 | 0 | 0 | 0 | 0 | 0 | 0 | 0 | 0 | 1 | 0 | 0 | 0 | 0 |\n",
       "| 0 | 0 | 0 | 0 | 0 | 0 | 0 | 0 | 0 | 0 | 0 | 1 | 0 | 1 | 0 | 0 | 1 | 0 | 0 |\n",
       "| 1 | 0 | 0 | 0 | 0 | 0 | 0 | 0 | 0 | 0 | 0 | 0 | 0 | 0 | 0 | 0 | 1 | 0 | 0 |\n",
       "| 1 | 0 | 0 | 1 | 1 | 0 | 0 | 0 | 0 | 0 | 0 | 0 | 0 | 0 | 1 | 0 | 0 | 0 | 0 |\n",
       "| 1 | 0 | 0 | 0 | 0 | 0 | 0 | 0 | 0 | 0 | 0 | 0 | 0 | 0 | 0 | 1 | 1 | 0 | 0 |\n",
       "| 0 | 0 | 0 | 0 | 1 | 0 | 1 | 0 | 0 | 0 | 0 | 0 | 0 | 0 | 0 | 0 | 1 | 0 | 0 |\n",
       "| 0 | 1 | 0 | 1 | 0 | 0 | 1 | 0 | 0 | 0 | 0 | 0 | 0 | 0 | 0 | 0 | 0 | 0 | 0 |\n",
       "| 0 | 0 | 0 | 1 | 0 | 0 | 1 | 0 | 0 | 0 | 0 | 0 | 0 | 0 | 1 | 0 | 0 | 0 | 0 |\n",
       "| 1 | 0 | 0 | 0 | 1 | 0 | 1 | 0 | 0 | 0 | 0 | 0 | 0 | 0 | 0 | 0 | 1 | 0 | 0 |\n",
       "| 0 | 0 | 0 | 0 | 0 | 0 | 1 | 0 | 0 | 0 | 0 | 0 | 0 | 0 | 0 | 1 | 0 | 0 | 0 |\n",
       "| 0 | 0 | 0 | 0 | 0 | 0 | 0 | 0 | 0 | 0 | 0 | 0 | 1 | 0 | 0 | 0 | 0 | 0 | 0 |\n",
       "| 0 | 0 | 0 | 0 | 0 | 0 | 0 | 0 | 0 | 0 | 0 | 1 | 0 | 0 | 0 | 0 | 1 | 0 | 0 |\n",
       "| 0 | 0 | 0 | 0 | 0 | 0 | 1 | 0 | 0 | 0 | 0 | 0 | 0 | 0 | 1 | 0 | 0 | 0 | 0 |\n",
       "| 0 | 0 | 0 | 0 | 0 | 0 | 1 | 0 | 0 | 0 | 1 | 0 | 0 | 0 | 0 | 0 | 0 | 0 | 0 |\n",
       "| 0 | 0 | 0 | 1 | 0 | 0 | 1 | 0 | 0 | 0 | 0 | 0 | 0 | 0 | 1 | 0 | 0 | 0 | 0 |\n",
       "| 1 | 1 | 0 | 0 | 0 | 0 | 0 | 0 | 0 | 0 | 0 | 0 | 0 | 0 | 0 | 1 | 1 | 0 | 0 |\n",
       "| 0 | 0 | 0 | 0 | 0 | 0 | 1 | 0 | 0 | 0 | 0 | 0 | 0 | 0 | 1 | 0 | 0 | 1 | 0 |\n",
       "| ... | ... | ... | ... | ... | ... | ... | ... | ... | ... | ... | ... | ... | ... | ... | ... | ... | ... | ... |\n",
       "| 1 | 0 | 0 | 0 | 1 | 0 | 0 | 0 | 0 | 0 | 0 | 0 | 0 | 0 | 0 | 0 | 1 | 0 | 0 |\n",
       "| 0 | 0 | 0 | 1 | 0 | 0 | 1 | 0 | 0 | 0 | 0 | 0 | 0 | 0 | 0 | 0 | 0 | 0 | 0 |\n",
       "| 0 | 1 | 0 | 0 | 0 | 0 | 1 | 0 | 0 | 0 | 0 | 0 | 0 | 0 | 1 | 0 | 0 | 0 | 0 |\n",
       "| 0 | 0 | 0 | 0 | 0 | 0 | 1 | 0 | 1 | 0 | 0 | 0 | 0 | 1 | 0 | 0 | 1 | 0 | 0 |\n",
       "| 0 | 0 | 0 | 0 | 1 | 0 | 1 | 0 | 0 | 0 | 0 | 0 | 0 | 0 | 1 | 0 | 1 | 0 | 0 |\n",
       "| 0 | 0 | 0 | 1 | 0 | 0 | 1 | 0 | 0 | 0 | 0 | 0 | 0 | 0 | 1 | 0 | 0 | 0 | 0 |\n",
       "| 0 | 0 | 0 | 1 | 0 | 0 | 1 | 0 | 0 | 0 | 0 | 0 | 0 | 0 | 0 | 0 | 0 | 0 | 0 |\n",
       "| 0 | 0 | 0 | 1 | 0 | 0 | 0 | 0 | 0 | 0 | 0 | 0 | 0 | 0 | 1 | 0 | 0 | 0 | 0 |\n",
       "| 0 | 0 | 0 | 0 | 0 | 0 | 1 | 0 | 0 | 0 | 0 | 0 | 0 | 0 | 0 | 0 | 0 | 0 | 0 |\n",
       "| 0 | 0 | 0 | 0 | 0 | 0 | 1 | 0 | 0 | 0 | 1 | 0 | 0 | 0 | 0 | 0 | 0 | 1 | 0 |\n",
       "| 1 | 0 | 0 | 0 | 0 | 0 | 0 | 0 | 0 | 0 | 0 | 0 | 0 | 0 | 0 | 1 | 1 | 0 | 0 |\n",
       "| 0 | 1 | 0 | 1 | 0 | 0 | 0 | 0 | 0 | 0 | 0 | 0 | 0 | 0 | 0 | 1 | 0 | 0 | 0 |\n",
       "| 0 | 0 | 0 | 0 | 0 | 0 | 1 | 0 | 0 | 0 | 0 | 0 | 0 | 0 | 0 | 0 | 0 | 0 | 0 |\n",
       "| 0 | 0 | 0 | 1 | 0 | 0 | 1 | 0 | 0 | 0 | 0 | 0 | 0 | 0 | 0 | 0 | 0 | 0 | 0 |\n",
       "| 0 | 0 | 0 | 0 | 0 | 0 | 0 | 0 | 0 | 0 | 0 | 1 | 0 | 1 | 0 | 0 | 1 | 0 | 0 |\n",
       "| 0 | 0 | 0 | 0 | 0 | 0 | 0 | 0 | 0 | 0 | 0 | 0 | 0 | 0 | 0 | 0 | 0 | 0 | 1 |\n",
       "| 0 | 1 | 1 | 1 | 0 | 0 | 0 | 1 | 0 | 0 | 0 | 0 | 0 | 0 | 0 | 0 | 0 | 0 | 0 |\n",
       "| 0 | 0 | 0 | 0 | 0 | 0 | 1 | 0 | 0 | 0 | 0 | 0 | 0 | 0 | 1 | 0 | 0 | 0 | 0 |\n",
       "| 0 | 0 | 0 | 1 | 0 | 0 | 0 | 0 | 0 | 0 | 0 | 0 | 1 | 0 | 1 | 0 | 0 | 0 | 0 |\n",
       "| 0 | 0 | 0 | 0 | 0 | 0 | 1 | 0 | 0 | 0 | 0 | 0 | 0 | 0 | 0 | 0 | 0 | 0 | 0 |\n",
       "| 1 | 1 | 0 | 1 | 0 | 0 | 0 | 0 | 0 | 0 | 0 | 0 | 0 | 0 | 0 | 1 | 0 | 0 | 0 |\n",
       "| 0 | 0 | 0 | 1 | 0 | 0 | 1 | 0 | 0 | 0 | 0 | 0 | 0 | 0 | 0 | 0 | 0 | 0 | 0 |\n",
       "| 0 | 0 | 0 | 0 | 1 | 0 | 1 | 0 | 0 | 0 | 0 | 0 | 0 | 0 | 0 | 0 | 1 | 0 | 0 |\n",
       "| 0 | 0 | 0 | 1 | 0 | 0 | 0 | 0 | 0 | 0 | 0 | 0 | 0 | 0 | 0 | 0 | 0 | 0 | 0 |\n",
       "| 0 | 0 | 0 | 1 | 0 | 0 | 1 | 0 | 0 | 0 | 0 | 0 | 0 | 0 | 1 | 0 | 0 | 0 | 0 |\n",
       "| 0 | 0 | 0 | 1 | 0 | 0 | 0 | 0 | 0 | 0 | 0 | 0 | 0 | 0 | 0 | 0 | 0 | 0 | 0 |\n",
       "| 1 | 1 | 0 | 1 | 0 | 0 | 0 | 0 | 1 | 0 | 0 | 0 | 0 | 0 | 0 | 0 | 0 | 0 | 0 |\n",
       "| 0 | 0 | 0 | 0 | 0 | 0 | 1 | 0 | 1 | 0 | 0 | 0 | 0 | 0 | 1 | 1 | 0 | 0 | 0 |\n",
       "| 0 | 0 | 0 | 1 | 0 | 0 | 0 | 0 | 0 | 0 | 0 | 0 | 0 | 0 | 0 | 0 | 0 | 0 | 0 |\n",
       "| 1 | 0 | 0 | 0 | 0 | 0 | 0 | 0 | 1 | 0 | 0 | 0 | 0 | 0 | 0 | 1 | 0 | 0 | 0 |\n",
       "\n"
      ],
      "text/plain": [
       "     TypeAction TypeAdventure TypeAnimation TypeComedy TypeCrime\n",
       "1    1          0             0             0          0        \n",
       "2    0          0             0             0          0        \n",
       "3    1          0             0             0          0        \n",
       "4    1          1             0             1          0        \n",
       "5    1          0             1             1          0        \n",
       "6    0          0             0             1          0        \n",
       "7    0          0             0             1          0        \n",
       "8    0          0             0             0          0        \n",
       "9    0          0             0             0          0        \n",
       "10   0          0             0             0          1        \n",
       "11   1          1             0             1          1        \n",
       "12   0          0             1             1          0        \n",
       "13   0          0             0             0          1        \n",
       "14   0          0             0             1          0        \n",
       "15   0          0             0             0          0        \n",
       "16   1          0             0             0          0        \n",
       "17   1          0             0             1          1        \n",
       "18   1          0             0             0          0        \n",
       "19   0          0             0             0          1        \n",
       "20   0          1             0             1          0        \n",
       "21   0          0             0             1          0        \n",
       "22   1          0             0             0          1        \n",
       "23   0          0             0             0          0        \n",
       "24   0          0             0             0          0        \n",
       "25   0          0             0             0          0        \n",
       "26   0          0             0             0          0        \n",
       "27   0          0             0             0          0        \n",
       "28   0          0             0             1          0        \n",
       "29   1          1             0             0          0        \n",
       "30   0          0             0             0          0        \n",
       "...  ...        ...           ...           ...        ...      \n",
       "2971 1          0             0             0          1        \n",
       "2972 0          0             0             1          0        \n",
       "2973 0          1             0             0          0        \n",
       "2974 0          0             0             0          0        \n",
       "2975 0          0             0             0          1        \n",
       "2976 0          0             0             1          0        \n",
       "2977 0          0             0             1          0        \n",
       "2978 0          0             0             1          0        \n",
       "2979 0          0             0             0          0        \n",
       "2980 0          0             0             0          0        \n",
       "2981 1          0             0             0          0        \n",
       "2982 0          1             0             1          0        \n",
       "2983 0          0             0             0          0        \n",
       "2984 0          0             0             1          0        \n",
       "2985 0          0             0             0          0        \n",
       "2986 0          0             0             0          0        \n",
       "2987 0          1             1             1          0        \n",
       "2988 0          0             0             0          0        \n",
       "2989 0          0             0             1          0        \n",
       "2990 0          0             0             0          0        \n",
       "2991 1          1             0             1          0        \n",
       "2992 0          0             0             1          0        \n",
       "2993 0          0             0             0          1        \n",
       "2994 0          0             0             1          0        \n",
       "2995 0          0             0             1          0        \n",
       "2996 0          0             0             1          0        \n",
       "2997 1          1             0             1          0        \n",
       "2998 0          0             0             0          0        \n",
       "2999 0          0             0             1          0        \n",
       "3000 1          0             0             0          0        \n",
       "     TypeDocumentary TypeDrama TypeFamily TypeFantasy TypeForeign TypeHistory\n",
       "1    0               1         0          0           0           0          \n",
       "2    0               0         0          0           0           0          \n",
       "3    0               1         0          1           0           0          \n",
       "4    0               0         0          0           0           0          \n",
       "5    0               0         1          0           0           0          \n",
       "6    0               1         0          0           0           0          \n",
       "7    0               0         0          0           0           0          \n",
       "8    0               1         0          0           0           1          \n",
       "9    0               0         0          0           0           0          \n",
       "10   0               0         0          0           0           0          \n",
       "11   0               0         0          0           0           0          \n",
       "12   0               0         1          0           0           0          \n",
       "13   0               1         0          0           0           0          \n",
       "14   0               0         0          0           0           0          \n",
       "15   0               0         0          0           0           0          \n",
       "16   0               0         0          0           0           0          \n",
       "17   0               0         0          0           0           0          \n",
       "18   0               0         0          0           0           0          \n",
       "19   0               1         0          0           0           0          \n",
       "20   0               1         0          0           0           0          \n",
       "21   0               1         0          0           0           0          \n",
       "22   0               1         0          0           0           0          \n",
       "23   0               1         0          0           0           0          \n",
       "24   0               0         0          0           0           0          \n",
       "25   0               0         0          0           0           0          \n",
       "26   0               1         0          0           0           0          \n",
       "27   0               1         0          0           0           1          \n",
       "28   0               1         0          0           0           0          \n",
       "29   0               0         0          0           0           0          \n",
       "30   0               1         0          0           0           0          \n",
       "...  ...             ...       ...        ...         ...         ...        \n",
       "2971 0               0         0          0           0           0          \n",
       "2972 0               1         0          0           0           0          \n",
       "2973 0               1         0          0           0           0          \n",
       "2974 0               1         0          1           0           0          \n",
       "2975 0               1         0          0           0           0          \n",
       "2976 0               1         0          0           0           0          \n",
       "2977 0               1         0          0           0           0          \n",
       "2978 0               0         0          0           0           0          \n",
       "2979 0               1         0          0           0           0          \n",
       "2980 0               1         0          0           0           1          \n",
       "2981 0               0         0          0           0           0          \n",
       "2982 0               0         0          0           0           0          \n",
       "2983 0               1         0          0           0           0          \n",
       "2984 0               1         0          0           0           0          \n",
       "2985 0               0         0          0           0           0          \n",
       "2986 0               0         0          0           0           0          \n",
       "2987 0               0         1          0           0           0          \n",
       "2988 0               1         0          0           0           0          \n",
       "2989 0               0         0          0           0           0          \n",
       "2990 0               1         0          0           0           0          \n",
       "2991 0               0         0          0           0           0          \n",
       "2992 0               1         0          0           0           0          \n",
       "2993 0               1         0          0           0           0          \n",
       "2994 0               0         0          0           0           0          \n",
       "2995 0               1         0          0           0           0          \n",
       "2996 0               0         0          0           0           0          \n",
       "2997 0               0         0          1           0           0          \n",
       "2998 0               1         0          1           0           0          \n",
       "2999 0               0         0          0           0           0          \n",
       "3000 0               0         0          1           0           0          \n",
       "     TypeHorror TypeMusic TypeMystery TypeRomance TypeScienceFiction\n",
       "1    0          0         0           0           0                 \n",
       "2    1          0         1           0           0                 \n",
       "3    1          0         0           0           0                 \n",
       "4    0          0         0           0           0                 \n",
       "5    0          0         0           0           1                 \n",
       "6    0          0         0           0           0                 \n",
       "7    0          0         0           1           0                 \n",
       "8    0          0         1           0           0                 \n",
       "9    0          0         1           1           1                 \n",
       "10   0          0         0           0           0                 \n",
       "11   0          0         0           0           0                 \n",
       "12   0          0         0           0           0                 \n",
       "13   0          0         0           0           0                 \n",
       "14   0          0         0           1           0                 \n",
       "15   1          0         1           0           0                 \n",
       "16   0          0         0           0           0                 \n",
       "17   0          0         0           1           0                 \n",
       "18   0          0         0           0           1                 \n",
       "19   0          0         0           0           0                 \n",
       "20   0          0         0           0           0                 \n",
       "21   0          0         0           1           0                 \n",
       "22   0          0         0           0           0                 \n",
       "23   0          0         0           0           1                 \n",
       "24   0          1         0           0           0                 \n",
       "25   1          0         0           0           0                 \n",
       "26   0          0         0           1           0                 \n",
       "27   0          0         0           0           0                 \n",
       "28   0          0         0           1           0                 \n",
       "29   0          0         0           0           1                 \n",
       "30   0          0         0           1           0                 \n",
       "...  ...        ...       ...         ...         ...               \n",
       "2971 0          0         0           0           0                 \n",
       "2972 0          0         0           0           0                 \n",
       "2973 0          0         0           1           0                 \n",
       "2974 0          0         1           0           0                 \n",
       "2975 0          0         0           1           0                 \n",
       "2976 0          0         0           1           0                 \n",
       "2977 0          0         0           0           0                 \n",
       "2978 0          0         0           1           0                 \n",
       "2979 0          0         0           0           0                 \n",
       "2980 0          0         0           0           0                 \n",
       "2981 0          0         0           0           1                 \n",
       "2982 0          0         0           0           1                 \n",
       "2983 0          0         0           0           0                 \n",
       "2984 0          0         0           0           0                 \n",
       "2985 1          0         1           0           0                 \n",
       "2986 0          0         0           0           0                 \n",
       "2987 0          0         0           0           0                 \n",
       "2988 0          0         0           1           0                 \n",
       "2989 0          1         0           1           0                 \n",
       "2990 0          0         0           0           0                 \n",
       "2991 0          0         0           0           1                 \n",
       "2992 0          0         0           0           0                 \n",
       "2993 0          0         0           0           0                 \n",
       "2994 0          0         0           0           0                 \n",
       "2995 0          0         0           1           0                 \n",
       "2996 0          0         0           0           0                 \n",
       "2997 0          0         0           0           0                 \n",
       "2998 0          0         0           1           1                 \n",
       "2999 0          0         0           0           0                 \n",
       "3000 0          0         0           0           1                 \n",
       "     TypeThriller TypeWar TypeWestern\n",
       "1    0            0       0          \n",
       "2    1            0       0          \n",
       "3    1            0       0          \n",
       "4    1            0       0          \n",
       "5    0            0       0          \n",
       "6    0            0       0          \n",
       "7    0            0       0          \n",
       "8    0            0       0          \n",
       "9    1            0       0          \n",
       "10   1            0       0          \n",
       "11   1            0       0          \n",
       "12   0            0       0          \n",
       "13   0            0       0          \n",
       "14   0            0       0          \n",
       "15   1            0       0          \n",
       "16   1            0       0          \n",
       "17   0            0       0          \n",
       "18   1            0       0          \n",
       "19   1            0       0          \n",
       "20   0            0       0          \n",
       "21   0            0       0          \n",
       "22   1            0       0          \n",
       "23   0            0       0          \n",
       "24   0            0       0          \n",
       "25   1            0       0          \n",
       "26   0            0       0          \n",
       "27   0            0       0          \n",
       "28   0            0       0          \n",
       "29   1            0       0          \n",
       "30   0            1       0          \n",
       "...  ...          ...     ...        \n",
       "2971 1            0       0          \n",
       "2972 0            0       0          \n",
       "2973 0            0       0          \n",
       "2974 1            0       0          \n",
       "2975 1            0       0          \n",
       "2976 0            0       0          \n",
       "2977 0            0       0          \n",
       "2978 0            0       0          \n",
       "2979 0            0       0          \n",
       "2980 0            1       0          \n",
       "2981 1            0       0          \n",
       "2982 0            0       0          \n",
       "2983 0            0       0          \n",
       "2984 0            0       0          \n",
       "2985 1            0       0          \n",
       "2986 0            0       1          \n",
       "2987 0            0       0          \n",
       "2988 0            0       0          \n",
       "2989 0            0       0          \n",
       "2990 0            0       0          \n",
       "2991 0            0       0          \n",
       "2992 0            0       0          \n",
       "2993 1            0       0          \n",
       "2994 0            0       0          \n",
       "2995 0            0       0          \n",
       "2996 0            0       0          \n",
       "2997 0            0       0          \n",
       "2998 0            0       0          \n",
       "2999 0            0       0          \n",
       "3000 0            0       0          "
      ]
     },
     "metadata": {},
     "output_type": "display_data"
    }
   ],
   "source": [
    "\n",
    "genres_target_dict_df<- data.frame()\n",
    "add <- TRUE\n",
    "loop <- 1\n",
    "while(add){\n",
    "  \n",
    "  obs <- fromJSON(target[loop])\n",
    "  \n",
    "  if (class(obs) == 'data.frame'){\n",
    "    genres_target_dict_df <- obs\n",
    "    add <- FALSE\n",
    "  }\n",
    "  loop<- loop + 1\n",
    "}\n",
    "# to obtain column name\n",
    "for (i in seq(1,length(target))){\n",
    "  df_i <- fromJSON(target[i])\n",
    "  if (class(df_i) == 'data.frame'){ #missing coloumn\n",
    "    genres_target_dict_df = union(genres_target_dict_df,df_i)\n",
    "  }\n",
    "}\n",
    "head(genres_target_dict_df,5)\n",
    "\n",
    "\n",
    "\n",
    "\n",
    "\n",
    "#genres\n",
    "display = target_col\n",
    "colname <- c(target_col,'Type') #\n",
    "colnames(genres_target_dict_df) <- colname\n",
    "\n",
    "\n",
    "genres_target_dict_df[[target_col]] <- as.factor(genres_target_dict_df[[target_col]])\n",
    "\n",
    "print(genres_target_dict_df[[target_col]])\n",
    "dummy_var <-dummyVars(~ Type ,data = genres_target_dict_df) # change\n",
    "\n",
    "trsf <- data.frame(predict(dummy_var, newdata = genres_target_dict_df))\n",
    "\n",
    "#col name\n",
    "genres_colnames_vector <- colnames(trsf)\n",
    "genres_colnames_vector <- sub(\"\\\\.\", \"\", genres_colnames_vector) #\n",
    "dummycol <- data.frame(matrix(0, nrow = nrow(trainingData), ncol = length(genres_colnames_vector), dimnames = list(NULL, paste0(\"ColumnName_\", 1:length(genres_colnames_vector)))))\n",
    "colnames(dummycol) <- genres_colnames_vector\n",
    "for (j in seq(1,length(target))){\n",
    "  \n",
    "  df_j <- fromJSON(target[j])\n",
    "  if (class(df_j) == 'data.frame'){\n",
    "    #id sequence\n",
    "    colnames(df_j) <- colname\n",
    "    fill_colname <- rep('Type',length(df_j$Type)) #change\n",
    "    fill_colname <- paste(fill_colname,sub(\" \", \"\",df_j$Type),sep = '') #\n",
    "    dummycol[j,fill_colname]<-1\n",
    "  }\n",
    "  \n",
    "}\n",
    "dummycol\n",
    "\n",
    "target_df <- cbind(target_df,dummycol)\n"
   ]
  },
  {
   "cell_type": "code",
   "execution_count": 179,
   "metadata": {
    "vscode": {
     "languageId": "r"
    }
   },
   "outputs": [
    {
     "data": {
      "text/html": [
       "<ol class=list-inline>\n",
       "\t<li>'revenue'</li>\n",
       "\t<li>'budget'</li>\n",
       "\t<li>'genres'</li>\n",
       "\t<li>'keywords'</li>\n",
       "\t<li>'production_companies'</li>\n",
       "\t<li>'release_date'</li>\n",
       "\t<li>'cast'</li>\n",
       "\t<li>'crew'</li>\n",
       "</ol>\n"
      ],
      "text/latex": [
       "\\begin{enumerate*}\n",
       "\\item 'revenue'\n",
       "\\item 'budget'\n",
       "\\item 'genres'\n",
       "\\item 'keywords'\n",
       "\\item 'production\\_companies'\n",
       "\\item 'release\\_date'\n",
       "\\item 'cast'\n",
       "\\item 'crew'\n",
       "\\end{enumerate*}\n"
      ],
      "text/markdown": [
       "1. 'revenue'\n",
       "2. 'budget'\n",
       "3. 'genres'\n",
       "4. 'keywords'\n",
       "5. 'production_companies'\n",
       "6. 'release_date'\n",
       "7. 'cast'\n",
       "8. 'crew'\n",
       "\n",
       "\n"
      ],
      "text/plain": [
       "[1] \"revenue\"              \"budget\"               \"genres\"              \n",
       "[4] \"keywords\"             \"production_companies\" \"release_date\"        \n",
       "[7] \"cast\"                 \"crew\"                "
      ]
     },
     "metadata": {},
     "output_type": "display_data"
    },
    {
     "name": "stdout",
     "output_type": "stream",
     "text": [
      "              Df Sum Sq Mean Sq F value   Pr(>F)    \n",
      "season         3    164   54.57   11.01 3.47e-07 ***\n",
      "Residuals   2996  14854    4.96                     \n",
      "---\n",
      "Signif. codes:  0 '***' 0.001 '**' 0.01 '*' 0.05 '.' 0.1 ' ' 1\n",
      "\n",
      "\tShapiro-Wilk normality test\n",
      "\n",
      "data:  aov_residuals\n",
      "W = 0.82255, p-value < 2.2e-16\n",
      "\n"
     ]
    },
    {
     "data": {
      "text/plain": [
       "\n",
       "\tKruskal-Wallis rank sum test\n",
       "\n",
       "data:  revenue by season\n",
       "Kruskal-Wallis chi-squared = 43.781, df = 3, p-value = 1.68e-09\n"
      ]
     },
     "metadata": {},
     "output_type": "display_data"
    },
    {
     "data": {
      "text/html": [
       "<table>\n",
       "<thead><tr><th></th><th scope=col>revenue</th><th scope=col>release_date</th><th scope=col>year</th><th scope=col>season</th><th scope=col>day</th></tr></thead>\n",
       "<tbody>\n",
       "\t<tr><th scope=row>2463</th><td> 2.397895 </td><td>1978-04-26</td><td>1978      </td><td>1         </td><td>26        </td></tr>\n",
       "\t<tr><th scope=row>2511</th><td>17.977333 </td><td>2016-01-22</td><td>2016      </td><td>4         </td><td>22        </td></tr>\n",
       "\t<tr><th scope=row>2227</th><td>16.653429 </td><td>1984-05-11</td><td>1984      </td><td>1         </td><td>11        </td></tr>\n",
       "\t<tr><th scope=row>526</th><td>17.750130 </td><td>2003-06-09</td><td>2003      </td><td>2         </td><td> 9        </td></tr>\n",
       "\t<tr><th scope=row>195</th><td>19.589712 </td><td>2010-10-28</td><td>2010      </td><td>3         </td><td>28        </td></tr>\n",
       "</tbody>\n",
       "</table>\n"
      ],
      "text/latex": [
       "\\begin{tabular}{r|lllll}\n",
       "  & revenue & release\\_date & year & season & day\\\\\n",
       "\\hline\n",
       "\t2463 &  2.397895  & 1978-04-26 & 1978       & 1          & 26        \\\\\n",
       "\t2511 & 17.977333  & 2016-01-22 & 2016       & 4          & 22        \\\\\n",
       "\t2227 & 16.653429  & 1984-05-11 & 1984       & 1          & 11        \\\\\n",
       "\t526 & 17.750130  & 2003-06-09 & 2003       & 2          &  9        \\\\\n",
       "\t195 & 19.589712  & 2010-10-28 & 2010       & 3          & 28        \\\\\n",
       "\\end{tabular}\n"
      ],
      "text/markdown": [
       "\n",
       "| <!--/--> | revenue | release_date | year | season | day |\n",
       "|---|---|---|---|---|---|\n",
       "| 2463 |  2.397895  | 1978-04-26 | 1978       | 1          | 26         |\n",
       "| 2511 | 17.977333  | 2016-01-22 | 2016       | 4          | 22         |\n",
       "| 2227 | 16.653429  | 1984-05-11 | 1984       | 1          | 11         |\n",
       "| 526 | 17.750130  | 2003-06-09 | 2003       | 2          |  9         |\n",
       "| 195 | 19.589712  | 2010-10-28 | 2010       | 3          | 28         |\n",
       "\n"
      ],
      "text/plain": [
       "     revenue   release_date year season day\n",
       "2463  2.397895 1978-04-26   1978 1      26 \n",
       "2511 17.977333 2016-01-22   2016 4      22 \n",
       "2227 16.653429 1984-05-11   1984 1      11 \n",
       "526  17.750130 2003-06-09   2003 2       9 \n",
       "195  19.589712 2010-10-28   2010 3      28 "
      ]
     },
     "metadata": {},
     "output_type": "display_data"
    },
    {
     "data": {
      "text/html": [
       "<table>\n",
       "<thead><tr><th></th><th scope=col>revenue</th><th scope=col>budget</th><th scope=col>TypeAction</th><th scope=col>TypeAdventure</th><th scope=col>TypeAnimation</th><th scope=col>TypeComedy</th><th scope=col>TypeCrime</th><th scope=col>TypeDocumentary</th><th scope=col>TypeDrama</th><th scope=col>TypeFamily</th><th scope=col>...</th><th scope=col>TypeHorror</th><th scope=col>TypeMusic</th><th scope=col>TypeMystery</th><th scope=col>TypeRomance</th><th scope=col>TypeScienceFiction</th><th scope=col>TypeThriller</th><th scope=col>TypeWar</th><th scope=col>TypeWestern</th><th scope=col>year</th><th scope=col>season</th></tr></thead>\n",
       "<tbody>\n",
       "\t<tr><th scope=row>2463</th><td> 2.397895</td><td>       11</td><td>1        </td><td>0        </td><td>0        </td><td>0        </td><td>0        </td><td>0        </td><td>1        </td><td>0        </td><td>...      </td><td>0        </td><td>0        </td><td>0        </td><td>0        </td><td>0        </td><td>0        </td><td>0        </td><td>0        </td><td>1978     </td><td>1        </td></tr>\n",
       "\t<tr><th scope=row>2511</th><td>17.977333</td><td> 10000000</td><td>0        </td><td>0        </td><td>0        </td><td>0        </td><td>0        </td><td>0        </td><td>0        </td><td>0        </td><td>...      </td><td>1        </td><td>0        </td><td>1        </td><td>0        </td><td>0        </td><td>1        </td><td>0        </td><td>0        </td><td>2016     </td><td>4        </td></tr>\n",
       "\t<tr><th scope=row>2227</th><td>16.653429</td><td> 15000000</td><td>1        </td><td>0        </td><td>0        </td><td>0        </td><td>0        </td><td>0        </td><td>1        </td><td>0        </td><td>...      </td><td>1        </td><td>0        </td><td>0        </td><td>0        </td><td>0        </td><td>1        </td><td>0        </td><td>0        </td><td>1984     </td><td>1        </td></tr>\n",
       "\t<tr><th scope=row>526</th><td>17.750130</td><td> 75000000</td><td>1        </td><td>1        </td><td>0        </td><td>1        </td><td>0        </td><td>0        </td><td>0        </td><td>0        </td><td>...      </td><td>0        </td><td>0        </td><td>0        </td><td>0        </td><td>0        </td><td>1        </td><td>0        </td><td>0        </td><td>2003     </td><td>2        </td></tr>\n",
       "\t<tr><th scope=row>195</th><td>19.589712</td><td>130000000</td><td>1        </td><td>0        </td><td>1        </td><td>1        </td><td>0        </td><td>0        </td><td>0        </td><td>1        </td><td>...      </td><td>0        </td><td>0        </td><td>0        </td><td>0        </td><td>1        </td><td>0        </td><td>0        </td><td>0        </td><td>2010     </td><td>3        </td></tr>\n",
       "</tbody>\n",
       "</table>\n"
      ],
      "text/latex": [
       "\\begin{tabular}{r|lllllllllllllllllllllll}\n",
       "  & revenue & budget & TypeAction & TypeAdventure & TypeAnimation & TypeComedy & TypeCrime & TypeDocumentary & TypeDrama & TypeFamily & ... & TypeHorror & TypeMusic & TypeMystery & TypeRomance & TypeScienceFiction & TypeThriller & TypeWar & TypeWestern & year & season\\\\\n",
       "\\hline\n",
       "\t2463 &  2.397895 &        11 & 1         & 0         & 0         & 0         & 0         & 0         & 1         & 0         & ...       & 0         & 0         & 0         & 0         & 0         & 0         & 0         & 0         & 1978      & 1        \\\\\n",
       "\t2511 & 17.977333 &  10000000 & 0         & 0         & 0         & 0         & 0         & 0         & 0         & 0         & ...       & 1         & 0         & 1         & 0         & 0         & 1         & 0         & 0         & 2016      & 4        \\\\\n",
       "\t2227 & 16.653429 &  15000000 & 1         & 0         & 0         & 0         & 0         & 0         & 1         & 0         & ...       & 1         & 0         & 0         & 0         & 0         & 1         & 0         & 0         & 1984      & 1        \\\\\n",
       "\t526 & 17.750130 &  75000000 & 1         & 1         & 0         & 1         & 0         & 0         & 0         & 0         & ...       & 0         & 0         & 0         & 0         & 0         & 1         & 0         & 0         & 2003      & 2        \\\\\n",
       "\t195 & 19.589712 & 130000000 & 1         & 0         & 1         & 1         & 0         & 0         & 0         & 1         & ...       & 0         & 0         & 0         & 0         & 1         & 0         & 0         & 0         & 2010      & 3        \\\\\n",
       "\\end{tabular}\n"
      ],
      "text/markdown": [
       "\n",
       "| <!--/--> | revenue | budget | TypeAction | TypeAdventure | TypeAnimation | TypeComedy | TypeCrime | TypeDocumentary | TypeDrama | TypeFamily | ... | TypeHorror | TypeMusic | TypeMystery | TypeRomance | TypeScienceFiction | TypeThriller | TypeWar | TypeWestern | year | season |\n",
       "|---|---|---|---|---|---|---|---|---|---|---|---|---|---|---|---|---|---|---|---|---|---|\n",
       "| 2463 |  2.397895 |        11 | 1         | 0         | 0         | 0         | 0         | 0         | 1         | 0         | ...       | 0         | 0         | 0         | 0         | 0         | 0         | 0         | 0         | 1978      | 1         |\n",
       "| 2511 | 17.977333 |  10000000 | 0         | 0         | 0         | 0         | 0         | 0         | 0         | 0         | ...       | 1         | 0         | 1         | 0         | 0         | 1         | 0         | 0         | 2016      | 4         |\n",
       "| 2227 | 16.653429 |  15000000 | 1         | 0         | 0         | 0         | 0         | 0         | 1         | 0         | ...       | 1         | 0         | 0         | 0         | 0         | 1         | 0         | 0         | 1984      | 1         |\n",
       "| 526 | 17.750130 |  75000000 | 1         | 1         | 0         | 1         | 0         | 0         | 0         | 0         | ...       | 0         | 0         | 0         | 0         | 0         | 1         | 0         | 0         | 2003      | 2         |\n",
       "| 195 | 19.589712 | 130000000 | 1         | 0         | 1         | 1         | 0         | 0         | 0         | 1         | ...       | 0         | 0         | 0         | 0         | 1         | 0         | 0         | 0         | 2010      | 3         |\n",
       "\n"
      ],
      "text/plain": [
       "     revenue   budget    TypeAction TypeAdventure TypeAnimation TypeComedy\n",
       "2463  2.397895        11 1          0             0             0         \n",
       "2511 17.977333  10000000 0          0             0             0         \n",
       "2227 16.653429  15000000 1          0             0             0         \n",
       "526  17.750130  75000000 1          1             0             1         \n",
       "195  19.589712 130000000 1          0             1             1         \n",
       "     TypeCrime TypeDocumentary TypeDrama TypeFamily ... TypeHorror TypeMusic\n",
       "2463 0         0               1         0          ... 0          0        \n",
       "2511 0         0               0         0          ... 1          0        \n",
       "2227 0         0               1         0          ... 1          0        \n",
       "526  0         0               0         0          ... 0          0        \n",
       "195  0         0               0         1          ... 0          0        \n",
       "     TypeMystery TypeRomance TypeScienceFiction TypeThriller TypeWar\n",
       "2463 0           0           0                  0            0      \n",
       "2511 1           0           0                  1            0      \n",
       "2227 0           0           0                  1            0      \n",
       "526  0           0           0                  1            0      \n",
       "195  0           0           1                  0            0      \n",
       "     TypeWestern year season\n",
       "2463 0           1978 1     \n",
       "2511 0           2016 4     \n",
       "2227 0           1984 1     \n",
       "526  0           2003 2     \n",
       "195  0           2010 3     "
      ]
     },
     "metadata": {},
     "output_type": "display_data"
    },
    {
     "data": {
      "image/png": "[encoded data removed]",
      "text/plain": [
       "Plot with title \"\""
      ]
     },
     "metadata": {},
     "output_type": "display_data"
    }
   ],
   "source": [
    "##################################### DATE ###########################\n",
    "target_col <- colnames(trainingData)[6]\n",
    "\n",
    "colnames(trainingData)\n",
    "\n",
    "library(dplyr)\n",
    "library(stringr)\n",
    "library(caret)\n",
    "library(car)\n",
    "library(tidyr)\n",
    "library(ggpubr)\n",
    "date_format <- c(\"year\", \"month\", \"day\")\n",
    "if (target_col == 'release_date'){\n",
    "  trainingData[[target_col]] <- as.factor(trainingData[[target_col]])\n",
    "  Split_df <- separate(trainingData[target_col], release_date ,sep=\"-\", into = date_format)\n",
    "  OBJ <-data.frame()\n",
    "  OBJ <- cbind(trainingData[target_col],Split_df)\n",
    "  for (col in date_format){\n",
    "    OBJ[[col]]<- as.integer(OBJ[[col]])\n",
    "  }\n",
    "  # chagne month to season\n",
    "  \n",
    "  OBJ[which(OBJ$month > 11 | OBJ$month < 3 ), 'month'] <- -999\n",
    "  \n",
    "  OBJ[which(OBJ$month > 2 & OBJ$month < 6),'month'] <- 1\n",
    "  \n",
    "  OBJ[which(OBJ$month > 5 & OBJ$month < 9),'month'] <- 2\n",
    "  \n",
    "  OBJ[which(OBJ$month > 8 & OBJ$month < 12),'month'] <- 3\n",
    "  \n",
    "  OBJ[which(OBJ$month == -999 ), 'month'] <- 4\n",
    "  colnames(OBJ) <- c('release_date','year','season','day')\n",
    "  OBJ <- cbind(trainingData['revenue'],OBJ)\n",
    "  OBJ$revenue <- log(OBJ$revenue)\n",
    "  OBJ$season <- as.factor(OBJ$season)\n",
    "  \n",
    "  ggboxplot(OBJ, x = \"season\", y = \"revenue\", \n",
    "            order = c(\"1\", \"2\", \"3\",\"4\"),\n",
    "            ylab = \"revenue\", xlab = \"season\",ylim = c(12.5,21.748578))\n",
    "  res.aov <- aov(revenue ~ season, data = OBJ)\n",
    "  print(summary(res.aov))\n",
    "  # Extract the residuals\n",
    "  aov_residuals <- residuals(object = res.aov )\n",
    "  # Run Shapiro-Wilk test\n",
    "  plot(res.aov, 2)\n",
    "  print(shapiro.test(x = aov_residuals ))\n",
    "  leveneTest(revenue ~ season, data = OBJ)\n",
    "  kruskal.test(revenue ~ season, data = OBJ)\n",
    "  \n",
    "}\n",
    "\n",
    "# add target_df\n",
    "head(OBJ, 5)\n",
    "target_df <- cbind(target_df,OBJ[c('year','season')])\n",
    "head(target_df,5)"
   ]
  },
  {
   "cell_type": "code",
   "execution_count": 180,
   "metadata": {
    "vscode": {
     "languageId": "r"
    }
   },
   "outputs": [
    {
     "data": {
      "text/plain": [
       "     name                 id            above            below        \n",
       " Length:3468        Min.   :    1   Min.   :  0.00   Min.   :  0.000  \n",
       " Class :character   1st Qu.: 2980   1st Qu.:  0.00   1st Qu.:  0.000  \n",
       " Mode  :character   Median :11084   Median :  2.00   Median :  2.000  \n",
       "                    Mean   :19519   Mean   :  4.71   Mean   :  2.736  \n",
       "                    3rd Qu.:24048   3rd Qu.:  3.00   3rd Qu.:  3.000  \n",
       "                    Max.   :95063   Max.   :515.00   Max.   :214.000  \n",
       "     ratio      \n",
       " Min.   :1.000  \n",
       " 1st Qu.:1.000  \n",
       " Median :3.000  \n",
       " Mean   :2.591  \n",
       " 3rd Qu.:4.000  \n",
       " Max.   :4.000  "
      ]
     },
     "metadata": {},
     "output_type": "display_data"
    },
    {
     "data": {
      "text/html": [
       "<dl class=dl-horizontal>\n",
       "\t<dt>1</dt>\n",
       "\t\t<dd>1289</dd>\n",
       "\t<dt>2</dt>\n",
       "\t\t<dd>274</dd>\n",
       "\t<dt>3</dt>\n",
       "\t\t<dd>473</dd>\n",
       "\t<dt>4</dt>\n",
       "\t\t<dd>1432</dd>\n",
       "</dl>\n"
      ],
      "text/latex": [
       "\\begin{description*}\n",
       "\\item[1] 1289\n",
       "\\item[2] 274\n",
       "\\item[3] 473\n",
       "\\item[4] 1432\n",
       "\\end{description*}\n"
      ],
      "text/markdown": [
       "1\n",
       ":   12892\n",
       ":   2743\n",
       ":   4734\n",
       ":   1432\n",
       "\n"
      ],
      "text/plain": [
       "   1    2    3    4 \n",
       "1289  274  473 1432 "
      ]
     },
     "metadata": {},
     "output_type": "display_data"
    },
    {
     "data": {
      "text/html": [
       "2411"
      ],
      "text/latex": [
       "2411"
      ],
      "text/markdown": [
       "2411"
      ],
      "text/plain": [
       "[1] 2411"
      ]
     },
     "metadata": {},
     "output_type": "display_data"
    },
    {
     "data": {
      "text/html": [
       "11"
      ],
      "text/latex": [
       "11"
      ],
      "text/markdown": [
       "11"
      ],
      "text/plain": [
       "[1] 11"
      ]
     },
     "metadata": {},
     "output_type": "display_data"
    },
    {
     "data": {
      "text/html": [
       "5061"
      ],
      "text/latex": [
       "5061"
      ],
      "text/markdown": [
       "5061"
      ],
      "text/plain": [
       "[1] 5061"
      ]
     },
     "metadata": {},
     "output_type": "display_data"
    },
    {
     "data": {
      "text/html": [
       "2082"
      ],
      "text/latex": [
       "2082"
      ],
      "text/markdown": [
       "2082"
      ],
      "text/plain": [
       "[1] 2082"
      ]
     },
     "metadata": {},
     "output_type": "display_data"
    }
   ],
   "source": [
    "##################################### company ###########################\n",
    "target_col <- colnames(trainingData)[5]\n",
    "\n",
    "# company \n",
    "library(data.table)\n",
    "#q <- boxplot(revenue ~ TypeDocumentary,target_df,col=c('white',\"red\"),cex.axis=2,cex.lab=2.0)\n",
    "#q <- boxplot(revenue ~ TypeAnimation,target_df,col=c('white',\"blue\"),cex.axis=2,cex.lab=2.0)\n",
    "#q <- boxplot(revenue ~ TypeAdventure,target_df,col=c('white',\"green\"),cex.axis=2,cex.lab=2.0)\n",
    "target <- fromJSON(toJSON(trainingData[[target_col]]))\n",
    "\n",
    "company_target_dict_df<- data.frame\n",
    "\n",
    "add <- TRUE\n",
    "loop <- 1\n",
    "while(add){\n",
    "  \n",
    "  obs <- fromJSON(target[loop])\n",
    "  \n",
    "  if (class(obs) == 'data.frame'){\n",
    "    company_target_dict_df <- obs\n",
    "    add <- FALSE\n",
    "  }\n",
    "  loop<- loop + 1\n",
    "}\n",
    "# to obtain column name\n",
    "for (i in seq(1,length(target))){\n",
    "  df_i <- fromJSON(target[i])\n",
    "  if (class(df_i) == 'data.frame'){ #missing coloumn\n",
    "    company_target_dict_df = union(company_target_dict_df,df_i)\n",
    "  }\n",
    "}\n",
    "\n",
    "# check mean renvue in each genres\n",
    "colname_genres = colnames(dummycol)\n",
    "mean_genres_df <- data.frame()\n",
    "response <- 'revenue'\n",
    "for (sub_col in colname_genres){\n",
    "  index <- which(dummycol[[sub_col]] == 1)\n",
    "  sub_mean <-mean(target_df[index,response])\n",
    "  mean_genres_df <- rbind(mean_genres_df,data.frame(name = sub_col, mean = sub_mean))\n",
    "}\n",
    "# check the revenue of company in each genres\n",
    "\n",
    "\n",
    "test_df <- target_df\n",
    "target_col <- colnames(trainingData)\n",
    "target_col <- colnames(trainingData)[5]\n",
    "target <- fromJSON(toJSON(trainingData[[target_col]]))\n",
    "count_matrix <- data.frame(matrix(0, nrow = nrow(company_target_dict_df),ncol = 2))\n",
    "colnames(count_matrix) <- c('above','below')\n",
    "company_target_dict_df <- cbind(company_target_dict_df,count_matrix)\n",
    "\n",
    "for (l in seq(1,length(target))){\n",
    "  df_l <- fromJSON(target[l])\n",
    "  revenue_l <- test_df[l,response] # subtract revenue\n",
    "  #find type of movies\n",
    "  index_col_l<- which(test_df[l,] == 1)\n",
    "  col_l <- names(target_df)[index_col_l]\n",
    "  #\n",
    "  # find movie mean revenue\n",
    "  movie_mean <- mean_genres_df[which(mean_genres_df[['name']] %in% col_l),'mean']\n",
    "  # logical determinator for above and below\n",
    "  deter <- (movie_mean < revenue_l) # \n",
    "  \n",
    "  count_above_l <- sum(deter)\n",
    "  count_below_l <- length(deter) - count_above_l\n",
    "  \n",
    "  #find company name\n",
    "  company_names <- df_l[['name']]\n",
    "  company_index <- which(company_target_dict_df[['name']] %in% company_names)\n",
    "  company_target_dict_df[company_index,'above'] <- company_target_dict_df[company_index,'above'] + count_above_l\n",
    "  company_target_dict_df[company_index,'below'] <- company_target_dict_df[company_index,'below'] + count_below_l\n",
    "}\n",
    "\n",
    "company_target_dict_df <- cbind(company_target_dict_df,data.frame(ratio = rep(0,nrow(company_target_dict_df)))) #ratio\n",
    "company_target_dict_df$ratio <- company_target_dict_df$above / (company_target_dict_df$above + company_target_dict_df$below)\n",
    "\n",
    "# statistics\n",
    "#d <- density(company_target_dict_df$ratio) # returns the density data\n",
    "#plot(d) # plots the results\n",
    "#hist(company_target_dict_df$ratio, breaks=10, col=\"red\")\n",
    "company_target_dict_df[which(company_target_dict_df[['ratio']] >= 0.75),'ratio'] <- 4\n",
    "company_target_dict_df[which(company_target_dict_df[['ratio']] < 0.25),'ratio'] <- 1\n",
    "company_target_dict_df[which(company_target_dict_df[['ratio']] >= 0.25 & company_target_dict_df[['ratio']] < 0.5),'ratio'] <- 2 \n",
    "company_target_dict_df[which(company_target_dict_df[['ratio']] >= 0.5 & company_target_dict_df[['ratio']] < 0.75),'ratio'] <- 3\n",
    "company_target_dict_df[which(company_target_dict_df[['ratio']] == 'NaN'),'ratio'] <- 5\n",
    "summary(company_target_dict_df)\n",
    "names(company_target_dict_df)[names(company_target_dict_df) == \"ratio\"] <- \"company\"\n",
    "\n",
    "company_target_dict_df[['company']] <- as.factor(company_target_dict_df[['company']])\n",
    "summary(company_target_dict_df[['company']])\n",
    "dummy_var <- dummyVars( ~ company ,data = company_target_dict_df,sep = '') # change\n",
    "trsf <- data.frame(predict(dummy_var, newdata = company_target_dict_df))\n",
    "#col name\n",
    "company_colnames_vector <- colnames(trsf)\n",
    "company_colnames_vector <- sub(\"\\\\.\", \"\", company_colnames_vector) #\n",
    "dummycol <- data.frame(matrix(0, nrow = nrow(trainingData), ncol = length(company_colnames_vector), dimnames = list(NULL, paste0(\"ColumnName_\", 1:length(company_colnames_vector)))))\n",
    "colnames(dummycol) <- colnames(trsf)\n",
    "for (j in seq(1,length(target))){\n",
    "  df_j <- fromJSON(target[j])\n",
    "  if (class(df_j) == 'data.frame'){\n",
    "    #id sequence\n",
    "    colnames(df_j) <- c('company','id')\n",
    "    fill_colname <- rep('company',length(df_j$company)) #change\n",
    "    # company to group number\n",
    "    vector <- company_target_dict_df[which(df_j[['company']]  %in% company_target_dict_df[['name']]),   'company'  ]\n",
    "    fill_colname <- paste(fill_colname,sub(\" \", \"\",vector),sep = '') #\n",
    "    c1 <- length (which(fill_colname == colnames(dummycol)[1]))\n",
    "    c2 <- length (which(fill_colname == colnames(dummycol)[2]))\n",
    "    c3 <- length (which(fill_colname == colnames(dummycol)[3]))\n",
    "    c4 <- length (which(fill_colname == colnames(dummycol)[4]))\n",
    "    \n",
    "    dummycol[j,colnames(dummycol)[1]]<- c1\n",
    "    dummycol[j,colnames(dummycol)[2]]<- c2\n",
    "    dummycol[j,colnames(dummycol)[3]]<- c3\n",
    "    dummycol[j,colnames(dummycol)[4]]<- c4\n",
    "  }\n",
    "}\n",
    "sum(dummycol$company1)\n",
    "sum(dummycol$company2)\n",
    "sum(dummycol$company3)\n",
    "sum(dummycol$company4)"
   ]
  },
  {
   "cell_type": "code",
   "execution_count": 181,
   "metadata": {
    "vscode": {
     "languageId": "r"
    }
   },
   "outputs": [
    {
     "data": {
      "text/html": [
       "<table>\n",
       "<thead><tr><th></th><th scope=col>revenue</th><th scope=col>budget</th><th scope=col>TypeAction</th><th scope=col>TypeAdventure</th><th scope=col>TypeAnimation</th><th scope=col>TypeComedy</th><th scope=col>TypeCrime</th><th scope=col>TypeDocumentary</th><th scope=col>TypeDrama</th><th scope=col>TypeFamily</th><th scope=col>...</th><th scope=col>TypeScienceFiction</th><th scope=col>TypeThriller</th><th scope=col>TypeWar</th><th scope=col>TypeWestern</th><th scope=col>year</th><th scope=col>season</th><th scope=col>company1</th><th scope=col>company2</th><th scope=col>company3</th><th scope=col>company4</th></tr></thead>\n",
       "<tbody>\n",
       "\t<tr><th scope=row>2463</th><td> 2.397895</td><td>       11</td><td>1        </td><td>0        </td><td>0        </td><td>0        </td><td>0        </td><td>0        </td><td>1        </td><td>0        </td><td>...      </td><td>0        </td><td>0        </td><td>0        </td><td>0        </td><td>1978     </td><td>1        </td><td>1        </td><td>0        </td><td>1        </td><td>0        </td></tr>\n",
       "\t<tr><th scope=row>2511</th><td>17.977333</td><td> 10000000</td><td>0        </td><td>0        </td><td>0        </td><td>0        </td><td>0        </td><td>0        </td><td>0        </td><td>0        </td><td>...      </td><td>0        </td><td>1        </td><td>0        </td><td>0        </td><td>2016     </td><td>4        </td><td>1        </td><td>0        </td><td>2        </td><td>2        </td></tr>\n",
       "\t<tr><th scope=row>2227</th><td>16.653429</td><td> 15000000</td><td>1        </td><td>0        </td><td>0        </td><td>0        </td><td>0        </td><td>0        </td><td>1        </td><td>0        </td><td>...      </td><td>0        </td><td>1        </td><td>0        </td><td>0        </td><td>1984     </td><td>1        </td><td>1        </td><td>0        </td><td>1        </td><td>0        </td></tr>\n",
       "\t<tr><th scope=row>526</th><td>17.750130</td><td> 75000000</td><td>1        </td><td>1        </td><td>0        </td><td>1        </td><td>0        </td><td>0        </td><td>0        </td><td>0        </td><td>...      </td><td>0        </td><td>1        </td><td>0        </td><td>0        </td><td>2003     </td><td>2        </td><td>1        </td><td>0        </td><td>1        </td><td>0        </td></tr>\n",
       "\t<tr><th scope=row>195</th><td>19.589712</td><td>130000000</td><td>1        </td><td>0        </td><td>1        </td><td>1        </td><td>0        </td><td>0        </td><td>0        </td><td>1        </td><td>...      </td><td>1        </td><td>0        </td><td>0        </td><td>0        </td><td>2010     </td><td>3        </td><td>0        </td><td>0        </td><td>1        </td><td>0        </td></tr>\n",
       "</tbody>\n",
       "</table>\n"
      ],
      "text/latex": [
       "\\begin{tabular}{r|lllllllllllllllllllllllllll}\n",
       "  & revenue & budget & TypeAction & TypeAdventure & TypeAnimation & TypeComedy & TypeCrime & TypeDocumentary & TypeDrama & TypeFamily & ... & TypeScienceFiction & TypeThriller & TypeWar & TypeWestern & year & season & company1 & company2 & company3 & company4\\\\\n",
       "\\hline\n",
       "\t2463 &  2.397895 &        11 & 1         & 0         & 0         & 0         & 0         & 0         & 1         & 0         & ...       & 0         & 0         & 0         & 0         & 1978      & 1         & 1         & 0         & 1         & 0        \\\\\n",
       "\t2511 & 17.977333 &  10000000 & 0         & 0         & 0         & 0         & 0         & 0         & 0         & 0         & ...       & 0         & 1         & 0         & 0         & 2016      & 4         & 1         & 0         & 2         & 2        \\\\\n",
       "\t2227 & 16.653429 &  15000000 & 1         & 0         & 0         & 0         & 0         & 0         & 1         & 0         & ...       & 0         & 1         & 0         & 0         & 1984      & 1         & 1         & 0         & 1         & 0        \\\\\n",
       "\t526 & 17.750130 &  75000000 & 1         & 1         & 0         & 1         & 0         & 0         & 0         & 0         & ...       & 0         & 1         & 0         & 0         & 2003      & 2         & 1         & 0         & 1         & 0        \\\\\n",
       "\t195 & 19.589712 & 130000000 & 1         & 0         & 1         & 1         & 0         & 0         & 0         & 1         & ...       & 1         & 0         & 0         & 0         & 2010      & 3         & 0         & 0         & 1         & 0        \\\\\n",
       "\\end{tabular}\n"
      ],
      "text/markdown": [
       "\n",
       "| <!--/--> | revenue | budget | TypeAction | TypeAdventure | TypeAnimation | TypeComedy | TypeCrime | TypeDocumentary | TypeDrama | TypeFamily | ... | TypeScienceFiction | TypeThriller | TypeWar | TypeWestern | year | season | company1 | company2 | company3 | company4 |\n",
       "|---|---|---|---|---|---|---|---|---|---|---|---|---|---|---|---|---|---|---|---|---|---|\n",
       "| 2463 |  2.397895 |        11 | 1         | 0         | 0         | 0         | 0         | 0         | 1         | 0         | ...       | 0         | 0         | 0         | 0         | 1978      | 1         | 1         | 0         | 1         | 0         |\n",
       "| 2511 | 17.977333 |  10000000 | 0         | 0         | 0         | 0         | 0         | 0         | 0         | 0         | ...       | 0         | 1         | 0         | 0         | 2016      | 4         | 1         | 0         | 2         | 2         |\n",
       "| 2227 | 16.653429 |  15000000 | 1         | 0         | 0         | 0         | 0         | 0         | 1         | 0         | ...       | 0         | 1         | 0         | 0         | 1984      | 1         | 1         | 0         | 1         | 0         |\n",
       "| 526 | 17.750130 |  75000000 | 1         | 1         | 0         | 1         | 0         | 0         | 0         | 0         | ...       | 0         | 1         | 0         | 0         | 2003      | 2         | 1         | 0         | 1         | 0         |\n",
       "| 195 | 19.589712 | 130000000 | 1         | 0         | 1         | 1         | 0         | 0         | 0         | 1         | ...       | 1         | 0         | 0         | 0         | 2010      | 3         | 0         | 0         | 1         | 0         |\n",
       "\n"
      ],
      "text/plain": [
       "     revenue   budget    TypeAction TypeAdventure TypeAnimation TypeComedy\n",
       "2463  2.397895        11 1          0             0             0         \n",
       "2511 17.977333  10000000 0          0             0             0         \n",
       "2227 16.653429  15000000 1          0             0             0         \n",
       "526  17.750130  75000000 1          1             0             1         \n",
       "195  19.589712 130000000 1          0             1             1         \n",
       "     TypeCrime TypeDocumentary TypeDrama TypeFamily ... TypeScienceFiction\n",
       "2463 0         0               1         0          ... 0                 \n",
       "2511 0         0               0         0          ... 0                 \n",
       "2227 0         0               1         0          ... 0                 \n",
       "526  0         0               0         0          ... 0                 \n",
       "195  0         0               0         1          ... 1                 \n",
       "     TypeThriller TypeWar TypeWestern year season company1 company2 company3\n",
       "2463 0            0       0           1978 1      1        0        1       \n",
       "2511 1            0       0           2016 4      1        0        2       \n",
       "2227 1            0       0           1984 1      1        0        1       \n",
       "526  1            0       0           2003 2      1        0        1       \n",
       "195  0            0       0           2010 3      0        0        1       \n",
       "     company4\n",
       "2463 0       \n",
       "2511 2       \n",
       "2227 0       \n",
       "526  0       \n",
       "195  0       "
      ]
     },
     "metadata": {},
     "output_type": "display_data"
    }
   ],
   "source": [
    "target_df<- cbind(target_df,dummycol)\n",
    "head(target_df,5)"
   ]
  },
  {
   "cell_type": "code",
   "execution_count": 182,
   "metadata": {
    "vscode": {
     "languageId": "r"
    }
   },
   "outputs": [
    {
     "data": {
      "text/html": [
       "<table>\n",
       "<thead><tr><th scope=col>id</th><th scope=col>name</th></tr></thead>\n",
       "<tbody>\n",
       "\t<tr><td> 236         </td><td>suicide      </td></tr>\n",
       "\t<tr><td> 392         </td><td>england      </td></tr>\n",
       "\t<tr><td> 657         </td><td>fire         </td></tr>\n",
       "\t<tr><td>1655         </td><td>country house</td></tr>\n",
       "\t<tr><td>1879         </td><td>shower       </td></tr>\n",
       "</tbody>\n",
       "</table>\n"
      ],
      "text/latex": [
       "\\begin{tabular}{r|ll}\n",
       " id & name\\\\\n",
       "\\hline\n",
       "\t  236          & suicide      \\\\\n",
       "\t  392          & england      \\\\\n",
       "\t  657          & fire         \\\\\n",
       "\t 1655          & country house\\\\\n",
       "\t 1879          & shower       \\\\\n",
       "\\end{tabular}\n"
      ],
      "text/markdown": [
       "\n",
       "| id | name |\n",
       "|---|---|\n",
       "|  236          | suicide       |\n",
       "|  392          | england       |\n",
       "|  657          | fire          |\n",
       "| 1655          | country house |\n",
       "| 1879          | shower        |\n",
       "\n"
      ],
      "text/plain": [
       "  id   name         \n",
       "1  236 suicide      \n",
       "2  392 england      \n",
       "3  657 fire         \n",
       "4 1655 country house\n",
       "5 1879 shower       "
      ]
     },
     "metadata": {},
     "output_type": "display_data"
    }
   ],
   "source": [
    "##################################### keywords ###########################\n",
    "target_col <- colnames(trainingData)[4]\n",
    "target <- fromJSON(toJSON(trainingData[[target_col]]))\n",
    "#-----------------------------------------------------------------------------------------------------------------#\n",
    "# keywords\n",
    "keywords_target_dict_df<- data.frame()\n",
    "add <- TRUE\n",
    "loop <- 1\n",
    "while(add){\n",
    "  \n",
    "  obs <- fromJSON(target[loop])\n",
    "  \n",
    "  if (class(obs) == 'data.frame'){\n",
    "    keywords_target_dict_df <- obs\n",
    "    add <- FALSE\n",
    "  }\n",
    "  loop<- loop + 1\n",
    "}\n",
    "# to obtain column name\n",
    "for (i in seq(1,length(target))){\n",
    "  \n",
    "  df_i <- fromJSON(target[i])\n",
    "  if (class(df_i) == 'data.frame'){ #missing coloumn\n",
    "    keywords_target_dict_df = union(keywords_target_dict_df,df_i)\n",
    "  }\n",
    "}\n",
    "\n",
    "head(keywords_target_dict_df,5)"
   ]
  },
  {
   "cell_type": "code",
   "execution_count": 183,
   "metadata": {
    "vscode": {
     "languageId": "r"
    }
   },
   "outputs": [
    {
     "data": {
      "text/html": [
       "<table>\n",
       "<thead><tr><th scope=col>id</th><th scope=col>name</th><th scope=col>meanBudget</th><th scope=col>meanLogRevenue</th><th scope=col>Count</th></tr></thead>\n",
       "<tbody>\n",
       "\t<tr><td> 236         </td><td>suicide      </td><td>0            </td><td>0            </td><td>0            </td></tr>\n",
       "\t<tr><td> 392         </td><td>england      </td><td>0            </td><td>0            </td><td>0            </td></tr>\n",
       "\t<tr><td> 657         </td><td>fire         </td><td>0            </td><td>0            </td><td>0            </td></tr>\n",
       "\t<tr><td>1655         </td><td>country house</td><td>0            </td><td>0            </td><td>0            </td></tr>\n",
       "\t<tr><td>1879         </td><td>shower       </td><td>0            </td><td>0            </td><td>0            </td></tr>\n",
       "</tbody>\n",
       "</table>\n"
      ],
      "text/latex": [
       "\\begin{tabular}{r|lllll}\n",
       " id & name & meanBudget & meanLogRevenue & Count\\\\\n",
       "\\hline\n",
       "\t  236          & suicide       & 0             & 0             & 0            \\\\\n",
       "\t  392          & england       & 0             & 0             & 0            \\\\\n",
       "\t  657          & fire          & 0             & 0             & 0            \\\\\n",
       "\t 1655          & country house & 0             & 0             & 0            \\\\\n",
       "\t 1879          & shower        & 0             & 0             & 0            \\\\\n",
       "\\end{tabular}\n"
      ],
      "text/markdown": [
       "\n",
       "| id | name | meanBudget | meanLogRevenue | Count |\n",
       "|---|---|---|---|---|\n",
       "|  236          | suicide       | 0             | 0             | 0             |\n",
       "|  392          | england       | 0             | 0             | 0             |\n",
       "|  657          | fire          | 0             | 0             | 0             |\n",
       "| 1655          | country house | 0             | 0             | 0             |\n",
       "| 1879          | shower        | 0             | 0             | 0             |\n",
       "\n"
      ],
      "text/plain": [
       "  id   name          meanBudget meanLogRevenue Count\n",
       "1  236 suicide       0          0              0    \n",
       "2  392 england       0          0              0    \n",
       "3  657 fire          0          0              0    \n",
       "4 1655 country house 0          0              0    \n",
       "5 1879 shower        0          0              0    "
      ]
     },
     "metadata": {},
     "output_type": "display_data"
    }
   ],
   "source": [
    "# keywords \n",
    "test_df <- target_df\n",
    "target_col <- colnames(trainingData)\n",
    "target_col <- colnames(trainingData)[4]\n",
    "target <- fromJSON(toJSON(trainingData[[target_col]]))\n",
    "count_matrix <- data.frame(matrix(0, nrow = nrow(keywords_target_dict_df),ncol = 3))\n",
    "colnames(count_matrix) <- c('meanBudget','meanLogRevenue','Count')\n",
    "keywords_target_dict_df <- cbind(keywords_target_dict_df,count_matrix)\n",
    "head(keywords_target_dict_df,5)\n",
    "for (r in seq(1,nrow(test_df))){\n",
    "  df_r <- fromJSON(target[r])\n",
    "  revenue_r <- test_df[r,response] # subtract revenue\n",
    "  \n",
    "  #find type of movies\n",
    "  variables <- test_df[r,c('revenue','budget')]\n",
    "  #find company name\n",
    "  key_names <- df_r[['name']]\n",
    "  if (class(key_names) == \"character\") {\n",
    "    key_index <- which(keywords_target_dict_df[['name']] %in% key_names)\n",
    "    keywords_target_dict_df[key_index,'meanBudget'] <- keywords_target_dict_df[key_index,'meanBudget'] + variables$budget\n",
    "    keywords_target_dict_df[key_index,'meanLogRevenue'] <- keywords_target_dict_df[key_index,'meanLogRevenue'] + variables$revenue\n",
    "    keywords_target_dict_df[key_index,'Count'] <- keywords_target_dict_df[key_index,'Count'] + 1\n",
    "  }\n",
    "}\n",
    "keywords_target_dict_df[['meanBudget']]<- keywords_target_dict_df[['meanBudget']] / keywords_target_dict_df[['Count']]\n",
    "keywords_target_dict_df[['meanLogRevenue']]<- keywords_target_dict_df[['meanLogRevenue']] / keywords_target_dict_df[['Count']]\n",
    "\n",
    "library(stats)\n",
    "K_mean_df <- keywords_target_dict_df[c('meanBudget','meanLogRevenue')]\n",
    "K_mean_matrix <- data.matrix(K_mean_df)\n",
    "set.seed(123)"
   ]
  },
  {
   "cell_type": "code",
   "execution_count": 184,
   "metadata": {
    "vscode": {
     "languageId": "r"
    }
   },
   "outputs": [
    {
     "data": {
      "text/html": [
       "'\\n# plot \\nset.seed(123)\\n\\nfviz_nbclust(K_mean_matrix, kmeans, method = \"wss\")\\n'"
      ],
      "text/latex": [
       "'\\textbackslash{}n\\# plot \\textbackslash{}nset.seed(123)\\textbackslash{}n\\textbackslash{}nfviz\\_nbclust(K\\_mean\\_matrix, kmeans, method = \"wss\")\\textbackslash{}n'"
      ],
      "text/markdown": [
       "'\\n# plot \\nset.seed(123)\\n\\nfviz_nbclust(K_mean_matrix, kmeans, method = \"wss\")\\n'"
      ],
      "text/plain": [
       "[1] \"\\n# plot \\nset.seed(123)\\n\\nfviz_nbclust(K_mean_matrix, kmeans, method = \\\"wss\\\")\\n\""
      ]
     },
     "metadata": {},
     "output_type": "display_data"
    },
    {
     "data": {
      "image/png": "[encoded data removed]",
      "text/plain": [
       "plot without title"
      ]
     },
     "metadata": {},
     "output_type": "display_data"
    }
   ],
   "source": [
    "k2 <- kmeans(K_mean_matrix, centers = 2, nstart = 25)\n",
    "k3 <- kmeans(K_mean_matrix, centers = 3, nstart = 25)\n",
    "k4 <- kmeans(K_mean_matrix, centers = 4, nstart = 25)\n",
    "k5 <- kmeans(K_mean_matrix, centers = 5, nstart = 25)\n",
    "\n",
    "# plots to compare\n",
    "p1 <- fviz_cluster(k2, geom = \"point\", data = K_mean_matrix) + ggtitle(\"k = 2\")\n",
    "p2 <- fviz_cluster(k3, geom = \"point\",  data = K_mean_matrix) + ggtitle(\"k = 3\")\n",
    "p3 <- fviz_cluster(k4, geom = \"point\",  data = K_mean_matrix) + ggtitle(\"k = 4\")\n",
    "p4 <- fviz_cluster(k5, geom = \"point\",  data = K_mean_matrix) + ggtitle(\"k = 5\")\n",
    "\n",
    "\n",
    "library(gridExtra)\n",
    "grid.arrange(p1, p2, p3, p4, nrow = 2)\n",
    "'\n",
    "# plot \n",
    "set.seed(123)\n",
    "\n",
    "fviz_nbclust(K_mean_matrix, kmeans, method = \"wss\")\n",
    "'"
   ]
  },
  {
   "cell_type": "code",
   "execution_count": 185,
   "metadata": {
    "vscode": {
     "languageId": "r"
    }
   },
   "outputs": [
    {
     "data": {
      "text/html": [
       "<table>\n",
       "<thead><tr><th scope=col>id</th><th scope=col>name</th><th scope=col>meanBudget</th><th scope=col>meanLogRevenue</th><th scope=col>Count</th><th scope=col>level</th></tr></thead>\n",
       "<tbody>\n",
       "\t<tr><td>  236        </td><td>suicide      </td><td>27951358     </td><td>16.82973     </td><td> 37          </td><td>3            </td></tr>\n",
       "\t<tr><td>  392        </td><td>england      </td><td>29841129     </td><td>18.20438     </td><td> 25          </td><td>3            </td></tr>\n",
       "\t<tr><td>  657        </td><td>fire         </td><td>51959991     </td><td>17.80522     </td><td> 15          </td><td>2            </td></tr>\n",
       "\t<tr><td> 1655        </td><td>country house</td><td>28575000     </td><td>17.73732     </td><td>  4          </td><td>3            </td></tr>\n",
       "\t<tr><td> 1879        </td><td>shower       </td><td> 3872421     </td><td>16.74864     </td><td>  7          </td><td>3            </td></tr>\n",
       "\t<tr><td> 2341        </td><td>nanny        </td><td>20200000     </td><td>18.23211     </td><td>  9          </td><td>3            </td></tr>\n",
       "\t<tr><td> 2546        </td><td>mask         </td><td>39136364     </td><td>17.90384     </td><td> 11          </td><td>2            </td></tr>\n",
       "\t<tr><td> 5202        </td><td>boy          </td><td>59145455     </td><td>17.86903     </td><td> 11          </td><td>2            </td></tr>\n",
       "\t<tr><td> 9826        </td><td>murder       </td><td>28836537     </td><td>16.88304     </td><td>133          </td><td>3            </td></tr>\n",
       "\t<tr><td>12545        </td><td>mansion      </td><td>15000000     </td><td>18.30265     </td><td>  3          </td><td>3            </td></tr>\n",
       "</tbody>\n",
       "</table>\n"
      ],
      "text/latex": [
       "\\begin{tabular}{r|llllll}\n",
       " id & name & meanBudget & meanLogRevenue & Count & level\\\\\n",
       "\\hline\n",
       "\t   236         & suicide       & 27951358      & 16.82973      &  37           & 3            \\\\\n",
       "\t   392         & england       & 29841129      & 18.20438      &  25           & 3            \\\\\n",
       "\t   657         & fire          & 51959991      & 17.80522      &  15           & 2            \\\\\n",
       "\t  1655         & country house & 28575000      & 17.73732      &   4           & 3            \\\\\n",
       "\t  1879         & shower        &  3872421      & 16.74864      &   7           & 3            \\\\\n",
       "\t  2341         & nanny         & 20200000      & 18.23211      &   9           & 3            \\\\\n",
       "\t  2546         & mask          & 39136364      & 17.90384      &  11           & 2            \\\\\n",
       "\t  5202         & boy           & 59145455      & 17.86903      &  11           & 2            \\\\\n",
       "\t  9826         & murder        & 28836537      & 16.88304      & 133           & 3            \\\\\n",
       "\t 12545         & mansion       & 15000000      & 18.30265      &   3           & 3            \\\\\n",
       "\\end{tabular}\n"
      ],
      "text/markdown": [
       "\n",
       "| id | name | meanBudget | meanLogRevenue | Count | level |\n",
       "|---|---|---|---|---|---|\n",
       "|   236         | suicide       | 27951358      | 16.82973      |  37           | 3             |\n",
       "|   392         | england       | 29841129      | 18.20438      |  25           | 3             |\n",
       "|   657         | fire          | 51959991      | 17.80522      |  15           | 2             |\n",
       "|  1655         | country house | 28575000      | 17.73732      |   4           | 3             |\n",
       "|  1879         | shower        |  3872421      | 16.74864      |   7           | 3             |\n",
       "|  2341         | nanny         | 20200000      | 18.23211      |   9           | 3             |\n",
       "|  2546         | mask          | 39136364      | 17.90384      |  11           | 2             |\n",
       "|  5202         | boy           | 59145455      | 17.86903      |  11           | 2             |\n",
       "|  9826         | murder        | 28836537      | 16.88304      | 133           | 3             |\n",
       "| 12545         | mansion       | 15000000      | 18.30265      |   3           | 3             |\n",
       "\n"
      ],
      "text/plain": [
       "   id    name          meanBudget meanLogRevenue Count level\n",
       "1    236 suicide       27951358   16.82973        37   3    \n",
       "2    392 england       29841129   18.20438        25   3    \n",
       "3    657 fire          51959991   17.80522        15   2    \n",
       "4   1655 country house 28575000   17.73732         4   3    \n",
       "5   1879 shower         3872421   16.74864         7   3    \n",
       "6   2341 nanny         20200000   18.23211         9   3    \n",
       "7   2546 mask          39136364   17.90384        11   2    \n",
       "8   5202 boy           59145455   17.86903        11   2    \n",
       "9   9826 murder        28836537   16.88304       133   3    \n",
       "10 12545 mansion       15000000   18.30265         3   3    "
      ]
     },
     "metadata": {},
     "output_type": "display_data"
    },
    {
     "data": {
      "text/html": [
       "<table>\n",
       "<thead><tr><th scope=col>level1</th><th scope=col>level2</th><th scope=col>level3</th></tr></thead>\n",
       "<tbody>\n",
       "\t<tr><td>0 </td><td> 0</td><td> 0</td></tr>\n",
       "\t<tr><td>0 </td><td> 4</td><td>12</td></tr>\n",
       "\t<tr><td>0 </td><td> 3</td><td> 1</td></tr>\n",
       "\t<tr><td>0 </td><td> 0</td><td> 2</td></tr>\n",
       "\t<tr><td>3 </td><td>12</td><td> 2</td></tr>\n",
       "</tbody>\n",
       "</table>\n"
      ],
      "text/latex": [
       "\\begin{tabular}{r|lll}\n",
       " level1 & level2 & level3\\\\\n",
       "\\hline\n",
       "\t 0  &  0 &  0\\\\\n",
       "\t 0  &  4 & 12\\\\\n",
       "\t 0  &  3 &  1\\\\\n",
       "\t 0  &  0 &  2\\\\\n",
       "\t 3  & 12 &  2\\\\\n",
       "\\end{tabular}\n"
      ],
      "text/markdown": [
       "\n",
       "| level1 | level2 | level3 |\n",
       "|---|---|---|\n",
       "| 0  |  0 |  0 |\n",
       "| 0  |  4 | 12 |\n",
       "| 0  |  3 |  1 |\n",
       "| 0  |  0 |  2 |\n",
       "| 3  | 12 |  2 |\n",
       "\n"
      ],
      "text/plain": [
       "  level1 level2 level3\n",
       "1 0       0      0    \n",
       "2 0       4     12    \n",
       "3 0       3      1    \n",
       "4 0       0      2    \n",
       "5 3      12      2    "
      ]
     },
     "metadata": {},
     "output_type": "display_data"
    }
   ],
   "source": [
    "KK <- kmeans(K_mean_matrix,centers = 3,  iter.max = 20, nstart = 1)\n",
    "keywords_reference_dict_df <- cbind(keywords_target_dict_df,data.frame(level = KK$cluster) ) #no need for twice\n",
    "# keywords\n",
    "head(keywords_reference_dict_df,10)\n",
    "keywords_reference_dict_df[['level']] <- as.factor(keywords_reference_dict_df[['level']])\n",
    "dummy_var <- dummyVars( ~ level ,data = keywords_reference_dict_df,sep = '') # change\n",
    "trsf_keywords <- data.frame(predict(dummy_var, newdata = keywords_reference_dict_df))\n",
    "\n",
    "#col name\n",
    "keywords_colnames_vector <- colnames(trsf_keywords)\n",
    "keywords_colnames_vector <- sub(\"\\\\.\", \"\", keywords_colnames_vector) #\n",
    "dummycol <- data.frame(matrix(0, nrow = nrow(trainingData), ncol = length(keywords_colnames_vector), dimnames = list(NULL, paste0(\"ColumnName_\", 1:length(keywords_colnames_vector)))))\n",
    "colnames(dummycol) <- colnames(trsf_keywords)\n",
    "for (t in seq(1,nrow(test_df))){\n",
    "    df_t <- fromJSON(target[t])\n",
    "    if (class(df_t) == 'data.frame'){\n",
    "        #id sequence\n",
    "        colnames(df_t) <- c('id','name')\n",
    "        fill_colname <- rep('level',length(df_t$name)) #change\n",
    "        # company to group number\n",
    "        vector <- keywords_reference_dict_df[which(keywords_reference_dict_df[['name']] %in% df_t[['name']]),   'level'  ] ######\n",
    "        fill_colname <- paste(fill_colname,sub(\" \", \"\",vector),sep = '') #\n",
    "        c1 <- length (which(fill_colname == colnames(dummycol)[1]))\n",
    "        c2 <- length (which(fill_colname == colnames(dummycol)[2]))\n",
    "        c3 <- length (which(fill_colname == colnames(dummycol)[3]))\n",
    "        dummycol[t,colnames(dummycol)[1]]<- c1\n",
    "        dummycol[t,colnames(dummycol)[2]]<- c2\n",
    "        dummycol[t,colnames(dummycol)[3]]<- c3\n",
    "        }\n",
    "    \n",
    "}\n",
    "head(dummycol,5)"
   ]
  },
  {
   "cell_type": "code",
   "execution_count": 186,
   "metadata": {
    "vscode": {
     "languageId": "r"
    }
   },
   "outputs": [
    {
     "data": {
      "text/html": [
       "<table>\n",
       "<thead><tr><th></th><th scope=col>revenue</th><th scope=col>budget</th><th scope=col>TypeAction</th><th scope=col>TypeAdventure</th><th scope=col>TypeAnimation</th><th scope=col>TypeComedy</th><th scope=col>TypeCrime</th><th scope=col>TypeDocumentary</th><th scope=col>TypeDrama</th><th scope=col>TypeFamily</th><th scope=col>...</th><th scope=col>TypeWestern</th><th scope=col>year</th><th scope=col>season</th><th scope=col>company1</th><th scope=col>company2</th><th scope=col>company3</th><th scope=col>company4</th><th scope=col>level1</th><th scope=col>level2</th><th scope=col>level3</th></tr></thead>\n",
       "<tbody>\n",
       "\t<tr><th scope=row>2463</th><td> 2.397895</td><td>       11</td><td>1        </td><td>0        </td><td>0        </td><td>0        </td><td>0        </td><td>0        </td><td>1        </td><td>0        </td><td>...      </td><td>0        </td><td>1978     </td><td>1        </td><td>1        </td><td>0        </td><td>1        </td><td>0        </td><td>0        </td><td> 0       </td><td> 0       </td></tr>\n",
       "\t<tr><th scope=row>2511</th><td>17.977333</td><td> 10000000</td><td>0        </td><td>0        </td><td>0        </td><td>0        </td><td>0        </td><td>0        </td><td>0        </td><td>0        </td><td>...      </td><td>0        </td><td>2016     </td><td>4        </td><td>1        </td><td>0        </td><td>2        </td><td>2        </td><td>0        </td><td> 4       </td><td>12       </td></tr>\n",
       "\t<tr><th scope=row>2227</th><td>16.653429</td><td> 15000000</td><td>1        </td><td>0        </td><td>0        </td><td>0        </td><td>0        </td><td>0        </td><td>1        </td><td>0        </td><td>...      </td><td>0        </td><td>1984     </td><td>1        </td><td>1        </td><td>0        </td><td>1        </td><td>0        </td><td>0        </td><td> 3       </td><td> 1       </td></tr>\n",
       "\t<tr><th scope=row>526</th><td>17.750130</td><td> 75000000</td><td>1        </td><td>1        </td><td>0        </td><td>1        </td><td>0        </td><td>0        </td><td>0        </td><td>0        </td><td>...      </td><td>0        </td><td>2003     </td><td>2        </td><td>1        </td><td>0        </td><td>1        </td><td>0        </td><td>0        </td><td> 0       </td><td> 2       </td></tr>\n",
       "\t<tr><th scope=row>195</th><td>19.589712</td><td>130000000</td><td>1        </td><td>0        </td><td>1        </td><td>1        </td><td>0        </td><td>0        </td><td>0        </td><td>1        </td><td>...      </td><td>0        </td><td>2010     </td><td>3        </td><td>0        </td><td>0        </td><td>1        </td><td>0        </td><td>3        </td><td>12       </td><td> 2       </td></tr>\n",
       "\t<tr><th scope=row>2986</th><td>16.410911</td><td>  4000000</td><td>0        </td><td>0        </td><td>0        </td><td>1        </td><td>0        </td><td>0        </td><td>1        </td><td>0        </td><td>...      </td><td>0        </td><td>2006     </td><td>3        </td><td>1        </td><td>0        </td><td>2        </td><td>0        </td><td>0        </td><td> 1       </td><td>12       </td></tr>\n",
       "\t<tr><th scope=row>1842</th><td>17.509943</td><td> 32000000</td><td>0        </td><td>0        </td><td>0        </td><td>1        </td><td>0        </td><td>0        </td><td>0        </td><td>0        </td><td>...      </td><td>0        </td><td>2001     </td><td>3        </td><td>1        </td><td>0        </td><td>2        </td><td>1        </td><td>0        </td><td> 0       </td><td> 1       </td></tr>\n",
       "\t<tr><th scope=row>1142</th><td>18.119576</td><td> 36000000</td><td>0        </td><td>0        </td><td>0        </td><td>0        </td><td>0        </td><td>0        </td><td>1        </td><td>0        </td><td>...      </td><td>0        </td><td>1997     </td><td>4        </td><td>0        </td><td>0        </td><td>1        </td><td>0        </td><td>1        </td><td> 2       </td><td> 5       </td></tr>\n",
       "\t<tr><th scope=row>1253</th><td>16.343858</td><td> 36000000</td><td>0        </td><td>0        </td><td>0        </td><td>0        </td><td>0        </td><td>0        </td><td>0        </td><td>0        </td><td>...      </td><td>0        </td><td>1997     </td><td>3        </td><td>1        </td><td>0        </td><td>1        </td><td>0        </td><td>0        </td><td> 8       </td><td>10       </td></tr>\n",
       "\t<tr><th scope=row>1268</th><td>19.021164</td><td> 35000000</td><td>0        </td><td>0        </td><td>0        </td><td>0        </td><td>1        </td><td>0        </td><td>0        </td><td>0        </td><td>...      </td><td>0        </td><td>1991     </td><td>3        </td><td>1        </td><td>0        </td><td>2        </td><td>1        </td><td>0        </td><td> 4       </td><td> 8       </td></tr>\n",
       "\t<tr><th scope=row>1038</th><td>18.891175</td><td> 45000000</td><td>1        </td><td>1        </td><td>0        </td><td>1        </td><td>1        </td><td>0        </td><td>0        </td><td>0        </td><td>...      </td><td>0        </td><td>2011     </td><td>3        </td><td>0        </td><td>0        </td><td>1        </td><td>0        </td><td>0        </td><td>10       </td><td> 3       </td></tr>\n",
       "\t<tr><th scope=row>665</th><td>19.030195</td><td> 63000000</td><td>0        </td><td>0        </td><td>1        </td><td>1        </td><td>0        </td><td>0        </td><td>0        </td><td>1        </td><td>...      </td><td>0        </td><td>2011     </td><td>1        </td><td>1        </td><td>0        </td><td>1        </td><td>0        </td><td>1        </td><td> 5       </td><td> 0       </td></tr>\n",
       "\t<tr><th scope=row>2650</th><td>17.772266</td><td>  8000000</td><td>0        </td><td>0        </td><td>0        </td><td>0        </td><td>1        </td><td>0        </td><td>1        </td><td>0        </td><td>...      </td><td>0        </td><td>1986     </td><td>2        </td><td>1        </td><td>0        </td><td>2        </td><td>1        </td><td>0        </td><td> 3       </td><td> 9       </td></tr>\n",
       "\t<tr><th scope=row>1627</th><td>18.771652</td><td> 56000000</td><td>0        </td><td>0        </td><td>0        </td><td>1        </td><td>0        </td><td>0        </td><td>0        </td><td>0        </td><td>...      </td><td>0        </td><td>2011     </td><td>4        </td><td>0        </td><td>0        </td><td>1        </td><td>0        </td><td>1        </td><td> 6       </td><td> 1       </td></tr>\n",
       "</tbody>\n",
       "</table>\n"
      ],
      "text/latex": [
       "\\begin{tabular}{r|llllllllllllllllllllllllllllll}\n",
       "  & revenue & budget & TypeAction & TypeAdventure & TypeAnimation & TypeComedy & TypeCrime & TypeDocumentary & TypeDrama & TypeFamily & ... & TypeWestern & year & season & company1 & company2 & company3 & company4 & level1 & level2 & level3\\\\\n",
       "\\hline\n",
       "\t2463 &  2.397895 &        11 & 1         & 0         & 0         & 0         & 0         & 0         & 1         & 0         & ...       & 0         & 1978      & 1         & 1         & 0         & 1         & 0         & 0         &  0        &  0       \\\\\n",
       "\t2511 & 17.977333 &  10000000 & 0         & 0         & 0         & 0         & 0         & 0         & 0         & 0         & ...       & 0         & 2016      & 4         & 1         & 0         & 2         & 2         & 0         &  4        & 12       \\\\\n",
       "\t2227 & 16.653429 &  15000000 & 1         & 0         & 0         & 0         & 0         & 0         & 1         & 0         & ...       & 0         & 1984      & 1         & 1         & 0         & 1         & 0         & 0         &  3        &  1       \\\\\n",
       "\t526 & 17.750130 &  75000000 & 1         & 1         & 0         & 1         & 0         & 0         & 0         & 0         & ...       & 0         & 2003      & 2         & 1         & 0         & 1         & 0         & 0         &  0        &  2       \\\\\n",
       "\t195 & 19.589712 & 130000000 & 1         & 0         & 1         & 1         & 0         & 0         & 0         & 1         & ...       & 0         & 2010      & 3         & 0         & 0         & 1         & 0         & 3         & 12        &  2       \\\\\n",
       "\t2986 & 16.410911 &   4000000 & 0         & 0         & 0         & 1         & 0         & 0         & 1         & 0         & ...       & 0         & 2006      & 3         & 1         & 0         & 2         & 0         & 0         &  1        & 12       \\\\\n",
       "\t1842 & 17.509943 &  32000000 & 0         & 0         & 0         & 1         & 0         & 0         & 0         & 0         & ...       & 0         & 2001      & 3         & 1         & 0         & 2         & 1         & 0         &  0        &  1       \\\\\n",
       "\t1142 & 18.119576 &  36000000 & 0         & 0         & 0         & 0         & 0         & 0         & 1         & 0         & ...       & 0         & 1997      & 4         & 0         & 0         & 1         & 0         & 1         &  2        &  5       \\\\\n",
       "\t1253 & 16.343858 &  36000000 & 0         & 0         & 0         & 0         & 0         & 0         & 0         & 0         & ...       & 0         & 1997      & 3         & 1         & 0         & 1         & 0         & 0         &  8        & 10       \\\\\n",
       "\t1268 & 19.021164 &  35000000 & 0         & 0         & 0         & 0         & 1         & 0         & 0         & 0         & ...       & 0         & 1991      & 3         & 1         & 0         & 2         & 1         & 0         &  4        &  8       \\\\\n",
       "\t1038 & 18.891175 &  45000000 & 1         & 1         & 0         & 1         & 1         & 0         & 0         & 0         & ...       & 0         & 2011      & 3         & 0         & 0         & 1         & 0         & 0         & 10        &  3       \\\\\n",
       "\t665 & 19.030195 &  63000000 & 0         & 0         & 1         & 1         & 0         & 0         & 0         & 1         & ...       & 0         & 2011      & 1         & 1         & 0         & 1         & 0         & 1         &  5        &  0       \\\\\n",
       "\t2650 & 17.772266 &   8000000 & 0         & 0         & 0         & 0         & 1         & 0         & 1         & 0         & ...       & 0         & 1986      & 2         & 1         & 0         & 2         & 1         & 0         &  3        &  9       \\\\\n",
       "\t1627 & 18.771652 &  56000000 & 0         & 0         & 0         & 1         & 0         & 0         & 0         & 0         & ...       & 0         & 2011      & 4         & 0         & 0         & 1         & 0         & 1         &  6        &  1       \\\\\n",
       "\\end{tabular}\n"
      ],
      "text/markdown": [
       "\n",
       "| <!--/--> | revenue | budget | TypeAction | TypeAdventure | TypeAnimation | TypeComedy | TypeCrime | TypeDocumentary | TypeDrama | TypeFamily | ... | TypeWestern | year | season | company1 | company2 | company3 | company4 | level1 | level2 | level3 |\n",
       "|---|---|---|---|---|---|---|---|---|---|---|---|---|---|---|---|---|---|---|---|---|---|\n",
       "| 2463 |  2.397895 |        11 | 1         | 0         | 0         | 0         | 0         | 0         | 1         | 0         | ...       | 0         | 1978      | 1         | 1         | 0         | 1         | 0         | 0         |  0        |  0        |\n",
       "| 2511 | 17.977333 |  10000000 | 0         | 0         | 0         | 0         | 0         | 0         | 0         | 0         | ...       | 0         | 2016      | 4         | 1         | 0         | 2         | 2         | 0         |  4        | 12        |\n",
       "| 2227 | 16.653429 |  15000000 | 1         | 0         | 0         | 0         | 0         | 0         | 1         | 0         | ...       | 0         | 1984      | 1         | 1         | 0         | 1         | 0         | 0         |  3        |  1        |\n",
       "| 526 | 17.750130 |  75000000 | 1         | 1         | 0         | 1         | 0         | 0         | 0         | 0         | ...       | 0         | 2003      | 2         | 1         | 0         | 1         | 0         | 0         |  0        |  2        |\n",
       "| 195 | 19.589712 | 130000000 | 1         | 0         | 1         | 1         | 0         | 0         | 0         | 1         | ...       | 0         | 2010      | 3         | 0         | 0         | 1         | 0         | 3         | 12        |  2        |\n",
       "| 2986 | 16.410911 |   4000000 | 0         | 0         | 0         | 1         | 0         | 0         | 1         | 0         | ...       | 0         | 2006      | 3         | 1         | 0         | 2         | 0         | 0         |  1        | 12        |\n",
       "| 1842 | 17.509943 |  32000000 | 0         | 0         | 0         | 1         | 0         | 0         | 0         | 0         | ...       | 0         | 2001      | 3         | 1         | 0         | 2         | 1         | 0         |  0        |  1        |\n",
       "| 1142 | 18.119576 |  36000000 | 0         | 0         | 0         | 0         | 0         | 0         | 1         | 0         | ...       | 0         | 1997      | 4         | 0         | 0         | 1         | 0         | 1         |  2        |  5        |\n",
       "| 1253 | 16.343858 |  36000000 | 0         | 0         | 0         | 0         | 0         | 0         | 0         | 0         | ...       | 0         | 1997      | 3         | 1         | 0         | 1         | 0         | 0         |  8        | 10        |\n",
       "| 1268 | 19.021164 |  35000000 | 0         | 0         | 0         | 0         | 1         | 0         | 0         | 0         | ...       | 0         | 1991      | 3         | 1         | 0         | 2         | 1         | 0         |  4        |  8        |\n",
       "| 1038 | 18.891175 |  45000000 | 1         | 1         | 0         | 1         | 1         | 0         | 0         | 0         | ...       | 0         | 2011      | 3         | 0         | 0         | 1         | 0         | 0         | 10        |  3        |\n",
       "| 665 | 19.030195 |  63000000 | 0         | 0         | 1         | 1         | 0         | 0         | 0         | 1         | ...       | 0         | 2011      | 1         | 1         | 0         | 1         | 0         | 1         |  5        |  0        |\n",
       "| 2650 | 17.772266 |   8000000 | 0         | 0         | 0         | 0         | 1         | 0         | 1         | 0         | ...       | 0         | 1986      | 2         | 1         | 0         | 2         | 1         | 0         |  3        |  9        |\n",
       "| 1627 | 18.771652 |  56000000 | 0         | 0         | 0         | 1         | 0         | 0         | 0         | 0         | ...       | 0         | 2011      | 4         | 0         | 0         | 1         | 0         | 1         |  6        |  1        |\n",
       "\n"
      ],
      "text/plain": [
       "     revenue   budget    TypeAction TypeAdventure TypeAnimation TypeComedy\n",
       "2463  2.397895        11 1          0             0             0         \n",
       "2511 17.977333  10000000 0          0             0             0         \n",
       "2227 16.653429  15000000 1          0             0             0         \n",
       "526  17.750130  75000000 1          1             0             1         \n",
       "195  19.589712 130000000 1          0             1             1         \n",
       "2986 16.410911   4000000 0          0             0             1         \n",
       "1842 17.509943  32000000 0          0             0             1         \n",
       "1142 18.119576  36000000 0          0             0             0         \n",
       "1253 16.343858  36000000 0          0             0             0         \n",
       "1268 19.021164  35000000 0          0             0             0         \n",
       "1038 18.891175  45000000 1          1             0             1         \n",
       "665  19.030195  63000000 0          0             1             1         \n",
       "2650 17.772266   8000000 0          0             0             0         \n",
       "1627 18.771652  56000000 0          0             0             1         \n",
       "     TypeCrime TypeDocumentary TypeDrama TypeFamily ... TypeWestern year season\n",
       "2463 0         0               1         0          ... 0           1978 1     \n",
       "2511 0         0               0         0          ... 0           2016 4     \n",
       "2227 0         0               1         0          ... 0           1984 1     \n",
       "526  0         0               0         0          ... 0           2003 2     \n",
       "195  0         0               0         1          ... 0           2010 3     \n",
       "2986 0         0               1         0          ... 0           2006 3     \n",
       "1842 0         0               0         0          ... 0           2001 3     \n",
       "1142 0         0               1         0          ... 0           1997 4     \n",
       "1253 0         0               0         0          ... 0           1997 3     \n",
       "1268 1         0               0         0          ... 0           1991 3     \n",
       "1038 1         0               0         0          ... 0           2011 3     \n",
       "665  0         0               0         1          ... 0           2011 1     \n",
       "2650 1         0               1         0          ... 0           1986 2     \n",
       "1627 0         0               0         0          ... 0           2011 4     \n",
       "     company1 company2 company3 company4 level1 level2 level3\n",
       "2463 1        0        1        0        0       0      0    \n",
       "2511 1        0        2        2        0       4     12    \n",
       "2227 1        0        1        0        0       3      1    \n",
       "526  1        0        1        0        0       0      2    \n",
       "195  0        0        1        0        3      12      2    \n",
       "2986 1        0        2        0        0       1     12    \n",
       "1842 1        0        2        1        0       0      1    \n",
       "1142 0        0        1        0        1       2      5    \n",
       "1253 1        0        1        0        0       8     10    \n",
       "1268 1        0        2        1        0       4      8    \n",
       "1038 0        0        1        0        0      10      3    \n",
       "665  1        0        1        0        1       5      0    \n",
       "2650 1        0        2        1        0       3      9    \n",
       "1627 0        0        1        0        1       6      1    "
      ]
     },
     "metadata": {},
     "output_type": "display_data"
    }
   ],
   "source": [
    "target_df<- cbind(target_df,dummycol)\n",
    "target_df[c(1,2,3,4,5,6,7,8,9,10,11,12,13,14),]"
   ]
  },
  {
   "cell_type": "code",
   "execution_count": 187,
   "metadata": {
    "scrolled": false,
    "vscode": {
     "languageId": "r"
    }
   },
   "outputs": [],
   "source": [
    "#########################################testing data ####################################\n",
    "only <- c('revenue','budget')\n",
    "tesing_target_df <- testData[only]\n",
    "tesing_target_df$revenue <- log(tesing_target_df$revenue)\n",
    "\n",
    "Final_dummy_df <- data.frame()\n",
    "\n",
    "\n",
    "####################################genres############################################\n",
    "target_col <- colnames(testData)[3] # genres\n",
    "\n",
    "library(ggplot2)\n",
    "#plot(y = revenue$revenue, x= budget$budget /1000000,xlab = 'budget (milions)', ylab = 'Log(revenue($))',main = 'The plot of budget against log(revenue)')\n",
    "#plot(y = revenue$revenue, x= OBJ$year ,xlab = 'Year', ylab = 'Log(revenue($))',main = 'The plot of year against log(revenue)')\n",
    "#reg1 <- lm(revenue$revenue ~ as.numeric(OBJ$year) )\n",
    "#abline(reg1,col=\"red\",lwd=3)"
   ]
  },
  {
   "cell_type": "code",
   "execution_count": 188,
   "metadata": {
    "vscode": {
     "languageId": "r"
    }
   },
   "outputs": [
    {
     "data": {
      "text/html": [
       "376"
      ],
      "text/latex": [
       "376"
      ],
      "text/markdown": [
       "376"
      ],
      "text/plain": [
       "[1] 376"
      ]
     },
     "metadata": {},
     "output_type": "display_data"
    }
   ],
   "source": [
    "###############################################################################################\n",
    "\n",
    "response = 'revenue'\n",
    "target <- fromJSON(toJSON(testData[[target_col]]))\n",
    "################################genres###############################################################\n",
    "\n",
    "#col name\n",
    "dummycol <- data.frame(matrix(0, nrow = nrow(testData), ncol = length(genres_colnames_vector), dimnames = list(NULL, paste0(\"ColumnName_\", 1:length(genres_colnames_vector)))))\n",
    "colnames(dummycol) <- genres_colnames_vector\n",
    "for (j in seq(1,length(target))){\n",
    "  \n",
    "  df_j <- fromJSON(target[j])\n",
    "  if (class(df_j) == 'data.frame'){\n",
    "    #id sequence\n",
    "    colnames(df_j) <- colname\n",
    "    fill_colname <- rep('Type',length(df_j$Type)) #change\n",
    "    fill_colname <- paste(fill_colname,sub(\" \", \"\",df_j$Type),sep = '') #\n",
    "    dummycol[j,fill_colname]<-1\n",
    "  }\n",
    "  \n",
    "}\n",
    "nrow(dummycol)\n",
    "\n",
    "tesing_target_df <- cbind(tesing_target_df,dummycol)"
   ]
  },
  {
   "cell_type": "code",
   "execution_count": 189,
   "metadata": {
    "vscode": {
     "languageId": "r"
    }
   },
   "outputs": [
    {
     "name": "stdout",
     "output_type": "stream",
     "text": [
      "             Df Sum Sq Mean Sq F value Pr(>F)   \n",
      "season        3   45.7  15.230   4.394 0.0047 **\n",
      "Residuals   372 1289.4   3.466                  \n",
      "---\n",
      "Signif. codes:  0 '***' 0.001 '**' 0.01 '*' 0.05 '.' 0.1 ' ' 1\n",
      "\n",
      "\tShapiro-Wilk normality test\n",
      "\n",
      "data:  aov_residuals\n",
      "W = 0.93522, p-value = 1.011e-11\n",
      "\n"
     ]
    },
    {
     "data": {
      "text/plain": [
       "\n",
       "\tKruskal-Wallis rank sum test\n",
       "\n",
       "data:  revenue by season\n",
       "Kruskal-Wallis chi-squared = 19.842, df = 3, p-value = 0.000183\n"
      ]
     },
     "metadata": {},
     "output_type": "display_data"
    },
    {
     "data": {
      "text/html": [
       "<table>\n",
       "<thead><tr><th></th><th scope=col>revenue</th><th scope=col>release_date</th><th scope=col>year</th><th scope=col>season</th><th scope=col>day</th></tr></thead>\n",
       "<tbody>\n",
       "\t<tr><th scope=row>3</th><td>20.59620  </td><td>2015-10-26</td><td>2015      </td><td>3         </td><td>26        </td></tr>\n",
       "\t<tr><th scope=row>14</th><td>18.30740  </td><td>2013-07-03</td><td>2013      </td><td>2         </td><td> 3        </td></tr>\n",
       "\t<tr><th scope=row>22</th><td>19.55424  </td><td>2010-05-12</td><td>2010      </td><td>1         </td><td>12        </td></tr>\n",
       "\t<tr><th scope=row>43</th><td>20.78809  </td><td>2010-06-16</td><td>2010      </td><td>2         </td><td>16        </td></tr>\n",
       "\t<tr><th scope=row>47</th><td>20.43273  </td><td>2014-05-15</td><td>2014      </td><td>1         </td><td>15        </td></tr>\n",
       "</tbody>\n",
       "</table>\n"
      ],
      "text/latex": [
       "\\begin{tabular}{r|lllll}\n",
       "  & revenue & release\\_date & year & season & day\\\\\n",
       "\\hline\n",
       "\t3 & 20.59620   & 2015-10-26 & 2015       & 3          & 26        \\\\\n",
       "\t14 & 18.30740   & 2013-07-03 & 2013       & 2          &  3        \\\\\n",
       "\t22 & 19.55424   & 2010-05-12 & 2010       & 1          & 12        \\\\\n",
       "\t43 & 20.78809   & 2010-06-16 & 2010       & 2          & 16        \\\\\n",
       "\t47 & 20.43273   & 2014-05-15 & 2014       & 1          & 15        \\\\\n",
       "\\end{tabular}\n"
      ],
      "text/markdown": [
       "\n",
       "| <!--/--> | revenue | release_date | year | season | day |\n",
       "|---|---|---|---|---|---|\n",
       "| 3 | 20.59620   | 2015-10-26 | 2015       | 3          | 26         |\n",
       "| 14 | 18.30740   | 2013-07-03 | 2013       | 2          |  3         |\n",
       "| 22 | 19.55424   | 2010-05-12 | 2010       | 1          | 12         |\n",
       "| 43 | 20.78809   | 2010-06-16 | 2010       | 2          | 16         |\n",
       "| 47 | 20.43273   | 2014-05-15 | 2014       | 1          | 15         |\n",
       "\n"
      ],
      "text/plain": [
       "   revenue  release_date year season day\n",
       "3  20.59620 2015-10-26   2015 3      26 \n",
       "14 18.30740 2013-07-03   2013 2       3 \n",
       "22 19.55424 2010-05-12   2010 1      12 \n",
       "43 20.78809 2010-06-16   2010 2      16 \n",
       "47 20.43273 2014-05-15   2014 1      15 "
      ]
     },
     "metadata": {},
     "output_type": "display_data"
    },
    {
     "data": {
      "text/html": [
       "<table>\n",
       "<thead><tr><th></th><th scope=col>revenue</th><th scope=col>budget</th><th scope=col>TypeAction</th><th scope=col>TypeAdventure</th><th scope=col>TypeAnimation</th><th scope=col>TypeComedy</th><th scope=col>TypeCrime</th><th scope=col>TypeDocumentary</th><th scope=col>TypeDrama</th><th scope=col>TypeFamily</th><th scope=col>...</th><th scope=col>TypeForeign</th><th scope=col>TypeHistory</th><th scope=col>TypeHorror</th><th scope=col>TypeMusic</th><th scope=col>TypeMystery</th><th scope=col>TypeRomance</th><th scope=col>TypeScienceFiction</th><th scope=col>TypeThriller</th><th scope=col>TypeWar</th><th scope=col>TypeWestern</th></tr></thead>\n",
       "<tbody>\n",
       "\t<tr><th scope=row>3</th><td>20.59620 </td><td>245000000</td><td>1        </td><td>1        </td><td>0        </td><td>0        </td><td>1        </td><td>0        </td><td>0        </td><td>0        </td><td>...      </td><td>0        </td><td>0        </td><td>0        </td><td>0        </td><td>0        </td><td>0        </td><td>0        </td><td>0        </td><td>0        </td><td>0        </td></tr>\n",
       "\t<tr><th scope=row>14</th><td>18.30740 </td><td>255000000</td><td>1        </td><td>1        </td><td>0        </td><td>0        </td><td>0        </td><td>0        </td><td>0        </td><td>0        </td><td>...      </td><td>0        </td><td>0        </td><td>0        </td><td>0        </td><td>0        </td><td>0        </td><td>0        </td><td>0        </td><td>0        </td><td>1        </td></tr>\n",
       "\t<tr><th scope=row>22</th><td>19.55424 </td><td>200000000</td><td>1        </td><td>1        </td><td>0        </td><td>0        </td><td>0        </td><td>0        </td><td>0        </td><td>0        </td><td>...      </td><td>0        </td><td>0        </td><td>0        </td><td>0        </td><td>0        </td><td>0        </td><td>0        </td><td>0        </td><td>0        </td><td>0        </td></tr>\n",
       "\t<tr><th scope=row>43</th><td>20.78809 </td><td>200000000</td><td>0        </td><td>0        </td><td>1        </td><td>1        </td><td>0        </td><td>0        </td><td>0        </td><td>1        </td><td>...      </td><td>0        </td><td>0        </td><td>0        </td><td>0        </td><td>0        </td><td>0        </td><td>0        </td><td>0        </td><td>0        </td><td>0        </td></tr>\n",
       "\t<tr><th scope=row>47</th><td>20.43273 </td><td>250000000</td><td>1        </td><td>1        </td><td>0        </td><td>0        </td><td>0        </td><td>0        </td><td>0        </td><td>0        </td><td>...      </td><td>0        </td><td>0        </td><td>0        </td><td>0        </td><td>0        </td><td>0        </td><td>1        </td><td>0        </td><td>0        </td><td>0        </td></tr>\n",
       "</tbody>\n",
       "</table>\n"
      ],
      "text/latex": [
       "\\begin{tabular}{r|lllllllllllllllllllll}\n",
       "  & revenue & budget & TypeAction & TypeAdventure & TypeAnimation & TypeComedy & TypeCrime & TypeDocumentary & TypeDrama & TypeFamily & ... & TypeForeign & TypeHistory & TypeHorror & TypeMusic & TypeMystery & TypeRomance & TypeScienceFiction & TypeThriller & TypeWar & TypeWestern\\\\\n",
       "\\hline\n",
       "\t3 & 20.59620  & 245000000 & 1         & 1         & 0         & 0         & 1         & 0         & 0         & 0         & ...       & 0         & 0         & 0         & 0         & 0         & 0         & 0         & 0         & 0         & 0        \\\\\n",
       "\t14 & 18.30740  & 255000000 & 1         & 1         & 0         & 0         & 0         & 0         & 0         & 0         & ...       & 0         & 0         & 0         & 0         & 0         & 0         & 0         & 0         & 0         & 1        \\\\\n",
       "\t22 & 19.55424  & 200000000 & 1         & 1         & 0         & 0         & 0         & 0         & 0         & 0         & ...       & 0         & 0         & 0         & 0         & 0         & 0         & 0         & 0         & 0         & 0        \\\\\n",
       "\t43 & 20.78809  & 200000000 & 0         & 0         & 1         & 1         & 0         & 0         & 0         & 1         & ...       & 0         & 0         & 0         & 0         & 0         & 0         & 0         & 0         & 0         & 0        \\\\\n",
       "\t47 & 20.43273  & 250000000 & 1         & 1         & 0         & 0         & 0         & 0         & 0         & 0         & ...       & 0         & 0         & 0         & 0         & 0         & 0         & 1         & 0         & 0         & 0        \\\\\n",
       "\\end{tabular}\n"
      ],
      "text/markdown": [
       "\n",
       "| <!--/--> | revenue | budget | TypeAction | TypeAdventure | TypeAnimation | TypeComedy | TypeCrime | TypeDocumentary | TypeDrama | TypeFamily | ... | TypeForeign | TypeHistory | TypeHorror | TypeMusic | TypeMystery | TypeRomance | TypeScienceFiction | TypeThriller | TypeWar | TypeWestern |\n",
       "|---|---|---|---|---|---|---|---|---|---|---|---|---|---|---|---|---|---|---|---|---|---|\n",
       "| 3 | 20.59620  | 245000000 | 1         | 1         | 0         | 0         | 1         | 0         | 0         | 0         | ...       | 0         | 0         | 0         | 0         | 0         | 0         | 0         | 0         | 0         | 0         |\n",
       "| 14 | 18.30740  | 255000000 | 1         | 1         | 0         | 0         | 0         | 0         | 0         | 0         | ...       | 0         | 0         | 0         | 0         | 0         | 0         | 0         | 0         | 0         | 1         |\n",
       "| 22 | 19.55424  | 200000000 | 1         | 1         | 0         | 0         | 0         | 0         | 0         | 0         | ...       | 0         | 0         | 0         | 0         | 0         | 0         | 0         | 0         | 0         | 0         |\n",
       "| 43 | 20.78809  | 200000000 | 0         | 0         | 1         | 1         | 0         | 0         | 0         | 1         | ...       | 0         | 0         | 0         | 0         | 0         | 0         | 0         | 0         | 0         | 0         |\n",
       "| 47 | 20.43273  | 250000000 | 1         | 1         | 0         | 0         | 0         | 0         | 0         | 0         | ...       | 0         | 0         | 0         | 0         | 0         | 0         | 1         | 0         | 0         | 0         |\n",
       "\n"
      ],
      "text/plain": [
       "   revenue  budget    TypeAction TypeAdventure TypeAnimation TypeComedy\n",
       "3  20.59620 245000000 1          1             0             0         \n",
       "14 18.30740 255000000 1          1             0             0         \n",
       "22 19.55424 200000000 1          1             0             0         \n",
       "43 20.78809 200000000 0          0             1             1         \n",
       "47 20.43273 250000000 1          1             0             0         \n",
       "   TypeCrime TypeDocumentary TypeDrama TypeFamily ... TypeForeign TypeHistory\n",
       "3  1         0               0         0          ... 0           0          \n",
       "14 0         0               0         0          ... 0           0          \n",
       "22 0         0               0         0          ... 0           0          \n",
       "43 0         0               0         1          ... 0           0          \n",
       "47 0         0               0         0          ... 0           0          \n",
       "   TypeHorror TypeMusic TypeMystery TypeRomance TypeScienceFiction TypeThriller\n",
       "3  0          0         0           0           0                  0           \n",
       "14 0          0         0           0           0                  0           \n",
       "22 0          0         0           0           0                  0           \n",
       "43 0          0         0           0           0                  0           \n",
       "47 0          0         0           0           1                  0           \n",
       "   TypeWar TypeWestern\n",
       "3  0       0          \n",
       "14 0       1          \n",
       "22 0       0          \n",
       "43 0       0          \n",
       "47 0       0          "
      ]
     },
     "metadata": {},
     "output_type": "display_data"
    },
    {
     "data": {
      "image/png": "[encoded data removed]",
      "text/plain": [
       "Plot with title \"\""
      ]
     },
     "metadata": {},
     "output_type": "display_data"
    }
   ],
   "source": [
    "##################################### DATE ###########################\n",
    "target_col <- colnames(testData)[6]\n",
    "\n",
    "date_format <- c(\"year\", \"month\", \"day\")\n",
    "if (target_col == 'release_date'){\n",
    "  testData[[target_col]] <- as.factor(testData[[target_col]])\n",
    "  Split_df <- separate(testData[target_col], release_date ,sep=\"-\", into = date_format)\n",
    "  OBJ <-data.frame() # clean\n",
    "  OBJ <- cbind(testData[target_col],Split_df)\n",
    "  for (col in date_format){\n",
    "    OBJ[[col]]<- as.integer(OBJ[[col]])\n",
    "  }\n",
    "  # chagne month to season\n",
    "  \n",
    "  OBJ[which(OBJ$month > 11 | OBJ$month < 3 ), 'month'] <- -999\n",
    "  \n",
    "  OBJ[which(OBJ$month > 2 & OBJ$month < 6),'month'] <- 1\n",
    "  \n",
    "  OBJ[which(OBJ$month > 5 & OBJ$month < 9),'month'] <- 2\n",
    "  \n",
    "  OBJ[which(OBJ$month > 8 & OBJ$month < 12),'month'] <- 3\n",
    "  \n",
    "  OBJ[which(OBJ$month == -999 ), 'month'] <- 4\n",
    "  colnames(OBJ) <- c('release_date','year','season','day')\n",
    "  OBJ <- cbind(testData['revenue'],OBJ)\n",
    "  OBJ$revenue <- log(OBJ$revenue)\n",
    "  OBJ$season <- as.factor(OBJ$season)\n",
    "  \n",
    "  ggboxplot(OBJ, x = \"season\", y = \"revenue\", \n",
    "            order = c(\"1\", \"2\", \"3\",\"4\"),\n",
    "            ylab = \"revenue\", xlab = \"season\",ylim = c(12.5,21.748578))\n",
    "  res.aov <- aov(revenue ~ season, data = OBJ)\n",
    "  print(summary(res.aov))\n",
    "  # Extract the residuals\n",
    "  aov_residuals <- residuals(object = res.aov )\n",
    "  # Run Shapiro-Wilk test\n",
    "  plot(res.aov, 2)\n",
    "  print(shapiro.test(x = aov_residuals ))\n",
    "  leveneTest(revenue ~ season, data = OBJ)\n",
    "  kruskal.test(revenue ~ season, data = OBJ)\n",
    "  \n",
    "}\n",
    "\n",
    "# add tesing_target_df\n",
    "head(OBJ, 5)\n",
    "head(tesing_target_df,5)\n",
    "tesing_target_df <- cbind(tesing_target_df,OBJ[c('year','season')])\n"
   ]
  },
  {
   "cell_type": "code",
   "execution_count": 190,
   "metadata": {
    "vscode": {
     "languageId": "r"
    }
   },
   "outputs": [
    {
     "data": {
      "text/html": [
       "<table>\n",
       "<thead><tr><th scope=col>name</th><th scope=col>id</th><th scope=col>above</th><th scope=col>below</th><th scope=col>company</th></tr></thead>\n",
       "<tbody>\n",
       "\t<tr><td>United Artists                                      </td><td>   60                                               </td><td> 82                                                 </td><td> 48                                                 </td><td>3                                                   </td></tr>\n",
       "\t<tr><td>chateau productions                                 </td><td> 4880                                               </td><td>  0                                                 </td><td>  2                                                 </td><td>1                                                   </td></tr>\n",
       "\t<tr><td>Lakeshore Entertainment                             </td><td>  126                                               </td><td> 39                                                 </td><td> 28                                                 </td><td>3                                                   </td></tr>\n",
       "\t<tr><td>Vertigo Entertainment                               </td><td>  829                                               </td><td> 39                                                 </td><td>  4                                                 </td><td>4                                                   </td></tr>\n",
       "\t<tr><td>Diamond Films                                       </td><td> 2912                                               </td><td>  3                                                 </td><td>  0                                                 </td><td>4                                                   </td></tr>\n",
       "\t<tr><td>Showtime Networks                                   </td><td>18880                                               </td><td>  3                                                 </td><td>  3                                                 </td><td>3                                                   </td></tr>\n",
       "\t<tr><td>STX Entertainment                                   </td><td>47729                                               </td><td>  8                                                 </td><td>  1                                                 </td><td>4                                                   </td></tr>\n",
       "\t<tr><td>Universal Pictures                                  </td><td>   33                                               </td><td>484                                                 </td><td>155                                                 </td><td>4                                                   </td></tr>\n",
       "\t<tr><td>Dino De Laurentiis Company                          </td><td>10308                                               </td><td> 10                                                 </td><td> 34                                                 </td><td>1                                                   </td></tr>\n",
       "\t<tr><td>Columbia Pictures                                   </td><td>    5                                               </td><td>331                                                 </td><td> 76                                                 </td><td>4                                                   </td></tr>\n",
       "\t<tr><td>Revolution Studios                                  </td><td>  497                                               </td><td> 34                                                 </td><td> 15                                                 </td><td>3                                                   </td></tr>\n",
       "\t<tr><td>DreamWorks Animation                                </td><td>  521                                               </td><td>110                                                 </td><td>  9                                                 </td><td>4                                                   </td></tr>\n",
       "\t<tr><td>DNA Films                                           </td><td>  284                                               </td><td> 13                                                 </td><td>  8                                                 </td><td>3                                                   </td></tr>\n",
       "\t<tr><td>BBC Films                                           </td><td>  288                                               </td><td> 29                                                 </td><td> 23                                                 </td><td>3                                                   </td></tr>\n",
       "\t<tr><td>UK Film Council                                     </td><td> 2452                                               </td><td> 21                                                 </td><td> 48                                                 </td><td>2                                                   </td></tr>\n",
       "\t<tr><td>Paramount Pictures                                  </td><td>    4                                               </td><td>444                                                 </td><td>155                                                 </td><td>3                                                   </td></tr>\n",
       "\t<tr><td>GHS Productions KG                                  </td><td> 3858                                               </td><td>  2                                                 </td><td>  0                                                 </td><td>4                                                   </td></tr>\n",
       "\t<tr><td>Munich Film Partners &amp; Company (MFP) GHS Productions</td><td> 3859                                                   </td><td><span style=white-space:pre-wrap>  2</span>             </td><td><span style=white-space:pre-wrap>  0</span>             </td><td>4                                                       </td></tr>\n",
       "\t<tr><td>Nides/McCormick Productions                         </td><td> 3860                                               </td><td>  2                                                 </td><td>  0                                                 </td><td>4                                                   </td></tr>\n",
       "\t<tr><td>DreamWorks SKG                                      </td><td>   27                                               </td><td>140                                                 </td><td> 18                                                 </td><td>4                                                   </td></tr>\n",
       "\t<tr><td>Jersey Films                                        </td><td>  216                                               </td><td> 17                                                 </td><td> 14                                                 </td><td>3                                                   </td></tr>\n",
       "\t<tr><td>Amblin Entertainment                                </td><td>   56                                               </td><td>105                                                 </td><td>  8                                                 </td><td>4                                                   </td></tr>\n",
       "\t<tr><td>Cappa Productions                                   </td><td>  691                                               </td><td>  3                                                 </td><td>  0                                                 </td><td>4                                                   </td></tr>\n",
       "\t<tr><td>Tribeca Productions                                 </td><td>11391                                               </td><td> 15                                                 </td><td>  8                                                 </td><td>3                                                   </td></tr>\n",
       "\t<tr><td>Illumination Entertainment                          </td><td> 6704                                               </td><td> 14                                                 </td><td>  0                                                 </td><td>4                                                   </td></tr>\n",
       "\t<tr><td>Act III Communications                              </td><td> 1153                                               </td><td>  3                                                 </td><td>  4                                                 </td><td>2                                                   </td></tr>\n",
       "\t<tr><td>The Body                                            </td><td>90896                                               </td><td>  2                                                 </td><td>  0                                                 </td><td>4                                                   </td></tr>\n",
       "\t<tr><td>Act III                                             </td><td>90897                                               </td><td>  2                                                 </td><td>  0                                                 </td><td>4                                                   </td></tr>\n",
       "\t<tr><td>New Line Cinema                                     </td><td>   12                                               </td><td>217                                                 </td><td>110                                                 </td><td>3                                                   </td></tr>\n",
       "\t<tr><td>Filmways Pictures                                   </td><td> 1138                                               </td><td>  1                                                 </td><td>  2                                                 </td><td>2                                                   </td></tr>\n",
       "\t<tr><td>...</td><td>...</td><td>...</td><td>...</td><td>...</td></tr>\n",
       "\t<tr><td>Phi Group                          </td><td> 7273                              </td><td>0                                  </td><td>3                                  </td><td>1                                  </td></tr>\n",
       "\t<tr><td>Moonrise                           </td><td>25626                              </td><td>3                                  </td><td>0                                  </td><td>4                                  </td></tr>\n",
       "\t<tr><td>Horror Inc.                        </td><td>62948                              </td><td>0                                  </td><td>2                                  </td><td>1                                  </td></tr>\n",
       "\t<tr><td>Ponty Up Pictures                  </td><td>12975                              </td><td>0                                  </td><td>3                                  </td><td>1                                  </td></tr>\n",
       "\t<tr><td>Shadow Shows                       </td><td>12976                              </td><td>0                                  </td><td>3                                  </td><td>1                                  </td></tr>\n",
       "\t<tr><td>Winking Productions                </td><td>20669                              </td><td>3                                  </td><td>0                                  </td><td>4                                  </td></tr>\n",
       "\t<tr><td>Huayi Brothers Pictures            </td><td>78996                              </td><td>1                                  </td><td>0                                  </td><td>4                                  </td></tr>\n",
       "\t<tr><td>BillBlock Media                    </td><td>90185                              </td><td>1                                  </td><td>0                                  </td><td>4                                  </td></tr>\n",
       "\t<tr><td>Goldenlight Films                  </td><td>15855                              </td><td>1                                  </td><td>0                                  </td><td>4                                  </td></tr>\n",
       "\t<tr><td>Rocklock Films                     </td><td>69582                              </td><td>3                                  </td><td>0                                  </td><td>4                                  </td></tr>\n",
       "\t<tr><td>VIP 3 Medienfonds                  </td><td>  827                              </td><td>0                                  </td><td>4                                  </td><td>1                                  </td></tr>\n",
       "\t<tr><td>VIP 2 Medienfonds                  </td><td> 3801                              </td><td>0                                  </td><td>6                                  </td><td>1                                  </td></tr>\n",
       "\t<tr><td>Parabolic Pictures                 </td><td> 1012                              </td><td>0                                  </td><td>2                                  </td><td>1                                  </td></tr>\n",
       "\t<tr><td>Stable Way Entertainment           </td><td> 1013                              </td><td>0                                  </td><td>2                                  </td><td>1                                  </td></tr>\n",
       "\t<tr><td>Target Media Entertainment         </td><td> 1014                              </td><td>0                                  </td><td>2                                  </td><td>1                                  </td></tr>\n",
       "\t<tr><td>VIP 1 Medienfonds                  </td><td>10760                              </td><td>0                                  </td><td>2                                  </td><td>1                                  </td></tr>\n",
       "\t<tr><td>Item 7                             </td><td> 7177                              </td><td>2                                  </td><td>0                                  </td><td>4                                  </td></tr>\n",
       "\t<tr><td>Parallel Film Productions          </td><td>16486                              </td><td>2                                  </td><td>0                                  </td><td>4                                  </td></tr>\n",
       "\t<tr><td>Ada Films                          </td><td> 1424                              </td><td>0                                  </td><td>2                                  </td><td>1                                  </td></tr>\n",
       "\t<tr><td>Entertainment Manufacturing Company</td><td> 1206                              </td><td>1                                  </td><td>2                                  </td><td>2                                  </td></tr>\n",
       "\t<tr><td>Copag V                            </td><td>21938                              </td><td>1                                  </td><td>2                                  </td><td>2                                  </td></tr>\n",
       "\t<tr><td>Echo Films                         </td><td> 7382                              </td><td>3                                  </td><td>0                                  </td><td>4                                  </td></tr>\n",
       "\t<tr><td>Gama Entertainment Partners        </td><td>77208                              </td><td>4                                  </td><td>0                                  </td><td>4                                  </td></tr>\n",
       "\t<tr><td>Paradis Films                      </td><td>  255                              </td><td>0                                  </td><td>4                                  </td><td>1                                  </td></tr>\n",
       "\t<tr><td>Orly Films                         </td><td>  354                              </td><td>0                                  </td><td>4                                  </td><td>1                                  </td></tr>\n",
       "\t<tr><td>Shanghai Film Group Corporation    </td><td>19858                              </td><td>0                                  </td><td>4                                  </td><td>1                                  </td></tr>\n",
       "\t<tr><td>Trans-Film                         </td><td> 2662                              </td><td>0                                  </td><td>3                                  </td><td>1                                  </td></tr>\n",
       "\t<tr><td>Initial Groupe                     </td><td>22240                              </td><td>0                                  </td><td>3                                  </td><td>1                                  </td></tr>\n",
       "\t<tr><td>Lumiere Pictures                   </td><td>25129                              </td><td>0                                  </td><td>3                                  </td><td>1                                  </td></tr>\n",
       "\t<tr><td>Fallingcloud                       </td><td>30655                              </td><td>0                                  </td><td>3                                  </td><td>1                                  </td></tr>\n",
       "</tbody>\n",
       "</table>\n"
      ],
      "text/latex": [
       "\\begin{tabular}{r|lllll}\n",
       " name & id & above & below & company\\\\\n",
       "\\hline\n",
       "\t United Artists                                       &    60                                                &  82                                                  &  48                                                  & 3                                                   \\\\\n",
       "\t chateau productions                                  &  4880                                                &   0                                                  &   2                                                  & 1                                                   \\\\\n",
       "\t Lakeshore Entertainment                              &   126                                                &  39                                                  &  28                                                  & 3                                                   \\\\\n",
       "\t Vertigo Entertainment                                &   829                                                &  39                                                  &   4                                                  & 4                                                   \\\\\n",
       "\t Diamond Films                                        &  2912                                                &   3                                                  &   0                                                  & 4                                                   \\\\\n",
       "\t Showtime Networks                                    & 18880                                                &   3                                                  &   3                                                  & 3                                                   \\\\\n",
       "\t STX Entertainment                                    & 47729                                                &   8                                                  &   1                                                  & 4                                                   \\\\\n",
       "\t Universal Pictures                                   &    33                                                & 484                                                  & 155                                                  & 4                                                   \\\\\n",
       "\t Dino De Laurentiis Company                           & 10308                                                &  10                                                  &  34                                                  & 1                                                   \\\\\n",
       "\t Columbia Pictures                                    &     5                                                & 331                                                  &  76                                                  & 4                                                   \\\\\n",
       "\t Revolution Studios                                   &   497                                                &  34                                                  &  15                                                  & 3                                                   \\\\\n",
       "\t DreamWorks Animation                                 &   521                                                & 110                                                  &   9                                                  & 4                                                   \\\\\n",
       "\t DNA Films                                            &   284                                                &  13                                                  &   8                                                  & 3                                                   \\\\\n",
       "\t BBC Films                                            &   288                                                &  29                                                  &  23                                                  & 3                                                   \\\\\n",
       "\t UK Film Council                                      &  2452                                                &  21                                                  &  48                                                  & 2                                                   \\\\\n",
       "\t Paramount Pictures                                   &     4                                                & 444                                                  & 155                                                  & 3                                                   \\\\\n",
       "\t GHS Productions KG                                   &  3858                                                &   2                                                  &   0                                                  & 4                                                   \\\\\n",
       "\t Munich Film Partners \\& Company (MFP) GHS Productions &  3859                                                  &   2                                                    &   0                                                    & 4                                                     \\\\\n",
       "\t Nides/McCormick Productions                          &  3860                                                &   2                                                  &   0                                                  & 4                                                   \\\\\n",
       "\t DreamWorks SKG                                       &    27                                                & 140                                                  &  18                                                  & 4                                                   \\\\\n",
       "\t Jersey Films                                         &   216                                                &  17                                                  &  14                                                  & 3                                                   \\\\\n",
       "\t Amblin Entertainment                                 &    56                                                & 105                                                  &   8                                                  & 4                                                   \\\\\n",
       "\t Cappa Productions                                    &   691                                                &   3                                                  &   0                                                  & 4                                                   \\\\\n",
       "\t Tribeca Productions                                  & 11391                                                &  15                                                  &   8                                                  & 3                                                   \\\\\n",
       "\t Illumination Entertainment                           &  6704                                                &  14                                                  &   0                                                  & 4                                                   \\\\\n",
       "\t Act III Communications                               &  1153                                                &   3                                                  &   4                                                  & 2                                                   \\\\\n",
       "\t The Body                                             & 90896                                                &   2                                                  &   0                                                  & 4                                                   \\\\\n",
       "\t Act III                                              & 90897                                                &   2                                                  &   0                                                  & 4                                                   \\\\\n",
       "\t New Line Cinema                                      &    12                                                & 217                                                  & 110                                                  & 3                                                   \\\\\n",
       "\t Filmways Pictures                                    &  1138                                                &   1                                                  &   2                                                  & 2                                                   \\\\\n",
       "\t ... & ... & ... & ... & ...\\\\\n",
       "\t Phi Group                           &  7273                               & 0                                   & 3                                   & 1                                  \\\\\n",
       "\t Moonrise                            & 25626                               & 3                                   & 0                                   & 4                                  \\\\\n",
       "\t Horror Inc.                         & 62948                               & 0                                   & 2                                   & 1                                  \\\\\n",
       "\t Ponty Up Pictures                   & 12975                               & 0                                   & 3                                   & 1                                  \\\\\n",
       "\t Shadow Shows                        & 12976                               & 0                                   & 3                                   & 1                                  \\\\\n",
       "\t Winking Productions                 & 20669                               & 3                                   & 0                                   & 4                                  \\\\\n",
       "\t Huayi Brothers Pictures             & 78996                               & 1                                   & 0                                   & 4                                  \\\\\n",
       "\t BillBlock Media                     & 90185                               & 1                                   & 0                                   & 4                                  \\\\\n",
       "\t Goldenlight Films                   & 15855                               & 1                                   & 0                                   & 4                                  \\\\\n",
       "\t Rocklock Films                      & 69582                               & 3                                   & 0                                   & 4                                  \\\\\n",
       "\t VIP 3 Medienfonds                   &   827                               & 0                                   & 4                                   & 1                                  \\\\\n",
       "\t VIP 2 Medienfonds                   &  3801                               & 0                                   & 6                                   & 1                                  \\\\\n",
       "\t Parabolic Pictures                  &  1012                               & 0                                   & 2                                   & 1                                  \\\\\n",
       "\t Stable Way Entertainment            &  1013                               & 0                                   & 2                                   & 1                                  \\\\\n",
       "\t Target Media Entertainment          &  1014                               & 0                                   & 2                                   & 1                                  \\\\\n",
       "\t VIP 1 Medienfonds                   & 10760                               & 0                                   & 2                                   & 1                                  \\\\\n",
       "\t Item 7                              &  7177                               & 2                                   & 0                                   & 4                                  \\\\\n",
       "\t Parallel Film Productions           & 16486                               & 2                                   & 0                                   & 4                                  \\\\\n",
       "\t Ada Films                           &  1424                               & 0                                   & 2                                   & 1                                  \\\\\n",
       "\t Entertainment Manufacturing Company &  1206                               & 1                                   & 2                                   & 2                                  \\\\\n",
       "\t Copag V                             & 21938                               & 1                                   & 2                                   & 2                                  \\\\\n",
       "\t Echo Films                          &  7382                               & 3                                   & 0                                   & 4                                  \\\\\n",
       "\t Gama Entertainment Partners         & 77208                               & 4                                   & 0                                   & 4                                  \\\\\n",
       "\t Paradis Films                       &   255                               & 0                                   & 4                                   & 1                                  \\\\\n",
       "\t Orly Films                          &   354                               & 0                                   & 4                                   & 1                                  \\\\\n",
       "\t Shanghai Film Group Corporation     & 19858                               & 0                                   & 4                                   & 1                                  \\\\\n",
       "\t Trans-Film                          &  2662                               & 0                                   & 3                                   & 1                                  \\\\\n",
       "\t Initial Groupe                      & 22240                               & 0                                   & 3                                   & 1                                  \\\\\n",
       "\t Lumiere Pictures                    & 25129                               & 0                                   & 3                                   & 1                                  \\\\\n",
       "\t Fallingcloud                        & 30655                               & 0                                   & 3                                   & 1                                  \\\\\n",
       "\\end{tabular}\n"
      ],
      "text/markdown": [
       "\n",
       "| name | id | above | below | company |\n",
       "|---|---|---|---|---|\n",
       "| United Artists                                       |    60                                                |  82                                                  |  48                                                  | 3                                                    |\n",
       "| chateau productions                                  |  4880                                                |   0                                                  |   2                                                  | 1                                                    |\n",
       "| Lakeshore Entertainment                              |   126                                                |  39                                                  |  28                                                  | 3                                                    |\n",
       "| Vertigo Entertainment                                |   829                                                |  39                                                  |   4                                                  | 4                                                    |\n",
       "| Diamond Films                                        |  2912                                                |   3                                                  |   0                                                  | 4                                                    |\n",
       "| Showtime Networks                                    | 18880                                                |   3                                                  |   3                                                  | 3                                                    |\n",
       "| STX Entertainment                                    | 47729                                                |   8                                                  |   1                                                  | 4                                                    |\n",
       "| Universal Pictures                                   |    33                                                | 484                                                  | 155                                                  | 4                                                    |\n",
       "| Dino De Laurentiis Company                           | 10308                                                |  10                                                  |  34                                                  | 1                                                    |\n",
       "| Columbia Pictures                                    |     5                                                | 331                                                  |  76                                                  | 4                                                    |\n",
       "| Revolution Studios                                   |   497                                                |  34                                                  |  15                                                  | 3                                                    |\n",
       "| DreamWorks Animation                                 |   521                                                | 110                                                  |   9                                                  | 4                                                    |\n",
       "| DNA Films                                            |   284                                                |  13                                                  |   8                                                  | 3                                                    |\n",
       "| BBC Films                                            |   288                                                |  29                                                  |  23                                                  | 3                                                    |\n",
       "| UK Film Council                                      |  2452                                                |  21                                                  |  48                                                  | 2                                                    |\n",
       "| Paramount Pictures                                   |     4                                                | 444                                                  | 155                                                  | 3                                                    |\n",
       "| GHS Productions KG                                   |  3858                                                |   2                                                  |   0                                                  | 4                                                    |\n",
       "| Munich Film Partners & Company (MFP) GHS Productions |  3859                                                |   2                                                  |   0                                                  | 4                                                    |\n",
       "| Nides/McCormick Productions                          |  3860                                                |   2                                                  |   0                                                  | 4                                                    |\n",
       "| DreamWorks SKG                                       |    27                                                | 140                                                  |  18                                                  | 4                                                    |\n",
       "| Jersey Films                                         |   216                                                |  17                                                  |  14                                                  | 3                                                    |\n",
       "| Amblin Entertainment                                 |    56                                                | 105                                                  |   8                                                  | 4                                                    |\n",
       "| Cappa Productions                                    |   691                                                |   3                                                  |   0                                                  | 4                                                    |\n",
       "| Tribeca Productions                                  | 11391                                                |  15                                                  |   8                                                  | 3                                                    |\n",
       "| Illumination Entertainment                           |  6704                                                |  14                                                  |   0                                                  | 4                                                    |\n",
       "| Act III Communications                               |  1153                                                |   3                                                  |   4                                                  | 2                                                    |\n",
       "| The Body                                             | 90896                                                |   2                                                  |   0                                                  | 4                                                    |\n",
       "| Act III                                              | 90897                                                |   2                                                  |   0                                                  | 4                                                    |\n",
       "| New Line Cinema                                      |    12                                                | 217                                                  | 110                                                  | 3                                                    |\n",
       "| Filmways Pictures                                    |  1138                                                |   1                                                  |   2                                                  | 2                                                    |\n",
       "| ... | ... | ... | ... | ... |\n",
       "| Phi Group                           |  7273                               | 0                                   | 3                                   | 1                                   |\n",
       "| Moonrise                            | 25626                               | 3                                   | 0                                   | 4                                   |\n",
       "| Horror Inc.                         | 62948                               | 0                                   | 2                                   | 1                                   |\n",
       "| Ponty Up Pictures                   | 12975                               | 0                                   | 3                                   | 1                                   |\n",
       "| Shadow Shows                        | 12976                               | 0                                   | 3                                   | 1                                   |\n",
       "| Winking Productions                 | 20669                               | 3                                   | 0                                   | 4                                   |\n",
       "| Huayi Brothers Pictures             | 78996                               | 1                                   | 0                                   | 4                                   |\n",
       "| BillBlock Media                     | 90185                               | 1                                   | 0                                   | 4                                   |\n",
       "| Goldenlight Films                   | 15855                               | 1                                   | 0                                   | 4                                   |\n",
       "| Rocklock Films                      | 69582                               | 3                                   | 0                                   | 4                                   |\n",
       "| VIP 3 Medienfonds                   |   827                               | 0                                   | 4                                   | 1                                   |\n",
       "| VIP 2 Medienfonds                   |  3801                               | 0                                   | 6                                   | 1                                   |\n",
       "| Parabolic Pictures                  |  1012                               | 0                                   | 2                                   | 1                                   |\n",
       "| Stable Way Entertainment            |  1013                               | 0                                   | 2                                   | 1                                   |\n",
       "| Target Media Entertainment          |  1014                               | 0                                   | 2                                   | 1                                   |\n",
       "| VIP 1 Medienfonds                   | 10760                               | 0                                   | 2                                   | 1                                   |\n",
       "| Item 7                              |  7177                               | 2                                   | 0                                   | 4                                   |\n",
       "| Parallel Film Productions           | 16486                               | 2                                   | 0                                   | 4                                   |\n",
       "| Ada Films                           |  1424                               | 0                                   | 2                                   | 1                                   |\n",
       "| Entertainment Manufacturing Company |  1206                               | 1                                   | 2                                   | 2                                   |\n",
       "| Copag V                             | 21938                               | 1                                   | 2                                   | 2                                   |\n",
       "| Echo Films                          |  7382                               | 3                                   | 0                                   | 4                                   |\n",
       "| Gama Entertainment Partners         | 77208                               | 4                                   | 0                                   | 4                                   |\n",
       "| Paradis Films                       |   255                               | 0                                   | 4                                   | 1                                   |\n",
       "| Orly Films                          |   354                               | 0                                   | 4                                   | 1                                   |\n",
       "| Shanghai Film Group Corporation     | 19858                               | 0                                   | 4                                   | 1                                   |\n",
       "| Trans-Film                          |  2662                               | 0                                   | 3                                   | 1                                   |\n",
       "| Initial Groupe                      | 22240                               | 0                                   | 3                                   | 1                                   |\n",
       "| Lumiere Pictures                    | 25129                               | 0                                   | 3                                   | 1                                   |\n",
       "| Fallingcloud                        | 30655                               | 0                                   | 3                                   | 1                                   |\n",
       "\n"
      ],
      "text/plain": [
       "     name                                                 id    above below\n",
       "1    United Artists                                          60  82    48  \n",
       "2    chateau productions                                   4880   0     2  \n",
       "3    Lakeshore Entertainment                                126  39    28  \n",
       "4    Vertigo Entertainment                                  829  39     4  \n",
       "5    Diamond Films                                         2912   3     0  \n",
       "6    Showtime Networks                                    18880   3     3  \n",
       "7    STX Entertainment                                    47729   8     1  \n",
       "8    Universal Pictures                                      33 484   155  \n",
       "9    Dino De Laurentiis Company                           10308  10    34  \n",
       "10   Columbia Pictures                                        5 331    76  \n",
       "11   Revolution Studios                                     497  34    15  \n",
       "12   DreamWorks Animation                                   521 110     9  \n",
       "13   DNA Films                                              284  13     8  \n",
       "14   BBC Films                                              288  29    23  \n",
       "15   UK Film Council                                       2452  21    48  \n",
       "16   Paramount Pictures                                       4 444   155  \n",
       "17   GHS Productions KG                                    3858   2     0  \n",
       "18   Munich Film Partners & Company (MFP) GHS Productions  3859   2     0  \n",
       "19   Nides/McCormick Productions                           3860   2     0  \n",
       "20   DreamWorks SKG                                          27 140    18  \n",
       "21   Jersey Films                                           216  17    14  \n",
       "22   Amblin Entertainment                                    56 105     8  \n",
       "23   Cappa Productions                                      691   3     0  \n",
       "24   Tribeca Productions                                  11391  15     8  \n",
       "25   Illumination Entertainment                            6704  14     0  \n",
       "26   Act III Communications                                1153   3     4  \n",
       "27   The Body                                             90896   2     0  \n",
       "28   Act III                                              90897   2     0  \n",
       "29   New Line Cinema                                         12 217   110  \n",
       "30   Filmways Pictures                                     1138   1     2  \n",
       "...  ...                                                  ...   ...   ...  \n",
       "3439 Phi Group                                             7273 0     3    \n",
       "3440 Moonrise                                             25626 3     0    \n",
       "3441 Horror Inc.                                          62948 0     2    \n",
       "3442 Ponty Up Pictures                                    12975 0     3    \n",
       "3443 Shadow Shows                                         12976 0     3    \n",
       "3444 Winking Productions                                  20669 3     0    \n",
       "3445 Huayi Brothers Pictures                              78996 1     0    \n",
       "3446 BillBlock Media                                      90185 1     0    \n",
       "3447 Goldenlight Films                                    15855 1     0    \n",
       "3448 Rocklock Films                                       69582 3     0    \n",
       "3449 VIP 3 Medienfonds                                      827 0     4    \n",
       "3450 VIP 2 Medienfonds                                     3801 0     6    \n",
       "3451 Parabolic Pictures                                    1012 0     2    \n",
       "3452 Stable Way Entertainment                              1013 0     2    \n",
       "3453 Target Media Entertainment                            1014 0     2    \n",
       "3454 VIP 1 Medienfonds                                    10760 0     2    \n",
       "3455 Item 7                                                7177 2     0    \n",
       "3456 Parallel Film Productions                            16486 2     0    \n",
       "3457 Ada Films                                             1424 0     2    \n",
       "3458 Entertainment Manufacturing Company                   1206 1     2    \n",
       "3459 Copag V                                              21938 1     2    \n",
       "3460 Echo Films                                            7382 3     0    \n",
       "3461 Gama Entertainment Partners                          77208 4     0    \n",
       "3462 Paradis Films                                          255 0     4    \n",
       "3463 Orly Films                                             354 0     4    \n",
       "3464 Shanghai Film Group Corporation                      19858 0     4    \n",
       "3465 Trans-Film                                            2662 0     3    \n",
       "3466 Initial Groupe                                       22240 0     3    \n",
       "3467 Lumiere Pictures                                     25129 0     3    \n",
       "3468 Fallingcloud                                         30655 0     3    \n",
       "     company\n",
       "1    3      \n",
       "2    1      \n",
       "3    3      \n",
       "4    4      \n",
       "5    4      \n",
       "6    3      \n",
       "7    4      \n",
       "8    4      \n",
       "9    1      \n",
       "10   4      \n",
       "11   3      \n",
       "12   4      \n",
       "13   3      \n",
       "14   3      \n",
       "15   2      \n",
       "16   3      \n",
       "17   4      \n",
       "18   4      \n",
       "19   4      \n",
       "20   4      \n",
       "21   3      \n",
       "22   4      \n",
       "23   4      \n",
       "24   3      \n",
       "25   4      \n",
       "26   2      \n",
       "27   4      \n",
       "28   4      \n",
       "29   3      \n",
       "30   2      \n",
       "...  ...    \n",
       "3439 1      \n",
       "3440 4      \n",
       "3441 1      \n",
       "3442 1      \n",
       "3443 1      \n",
       "3444 4      \n",
       "3445 4      \n",
       "3446 4      \n",
       "3447 4      \n",
       "3448 4      \n",
       "3449 1      \n",
       "3450 1      \n",
       "3451 1      \n",
       "3452 1      \n",
       "3453 1      \n",
       "3454 1      \n",
       "3455 4      \n",
       "3456 4      \n",
       "3457 1      \n",
       "3458 2      \n",
       "3459 2      \n",
       "3460 4      \n",
       "3461 4      \n",
       "3462 1      \n",
       "3463 1      \n",
       "3464 1      \n",
       "3465 1      \n",
       "3466 1      \n",
       "3467 1      \n",
       "3468 1      "
      ]
     },
     "metadata": {},
     "output_type": "display_data"
    },
    {
     "data": {
      "text/html": [
       "296"
      ],
      "text/latex": [
       "296"
      ],
      "text/markdown": [
       "296"
      ],
      "text/plain": [
       "[1] 296"
      ]
     },
     "metadata": {},
     "output_type": "display_data"
    },
    {
     "data": {
      "text/html": [
       "0"
      ],
      "text/latex": [
       "0"
      ],
      "text/markdown": [
       "0"
      ],
      "text/plain": [
       "[1] 0"
      ]
     },
     "metadata": {},
     "output_type": "display_data"
    },
    {
     "data": {
      "text/html": [
       "688"
      ],
      "text/latex": [
       "688"
      ],
      "text/markdown": [
       "688"
      ],
      "text/plain": [
       "[1] 688"
      ]
     },
     "metadata": {},
     "output_type": "display_data"
    },
    {
     "data": {
      "text/html": [
       "144"
      ],
      "text/latex": [
       "144"
      ],
      "text/markdown": [
       "144"
      ],
      "text/plain": [
       "[1] 144"
      ]
     },
     "metadata": {},
     "output_type": "display_data"
    },
    {
     "data": {
      "text/html": [
       "<table>\n",
       "<thead><tr><th></th><th scope=col>revenue</th><th scope=col>budget</th><th scope=col>TypeAction</th><th scope=col>TypeAdventure</th><th scope=col>TypeAnimation</th><th scope=col>TypeComedy</th><th scope=col>TypeCrime</th><th scope=col>TypeDocumentary</th><th scope=col>TypeDrama</th><th scope=col>TypeFamily</th><th scope=col>...</th><th scope=col>TypeScienceFiction</th><th scope=col>TypeThriller</th><th scope=col>TypeWar</th><th scope=col>TypeWestern</th><th scope=col>year</th><th scope=col>season</th><th scope=col>company1</th><th scope=col>company2</th><th scope=col>company3</th><th scope=col>company4</th></tr></thead>\n",
       "<tbody>\n",
       "\t<tr><th scope=row>3</th><td>20.59620 </td><td>245000000</td><td>1        </td><td>1        </td><td>0        </td><td>0        </td><td>1        </td><td>0        </td><td>0        </td><td>0        </td><td>...      </td><td>0        </td><td>0        </td><td>0        </td><td>0        </td><td>2015     </td><td>3        </td><td>1        </td><td>0        </td><td>2        </td><td>0        </td></tr>\n",
       "\t<tr><th scope=row>14</th><td>18.30740 </td><td>255000000</td><td>1        </td><td>1        </td><td>0        </td><td>0        </td><td>0        </td><td>0        </td><td>0        </td><td>0        </td><td>...      </td><td>0        </td><td>0        </td><td>0        </td><td>1        </td><td>2013     </td><td>2        </td><td>2        </td><td>0        </td><td>4        </td><td>0        </td></tr>\n",
       "\t<tr><th scope=row>22</th><td>19.55424 </td><td>200000000</td><td>1        </td><td>1        </td><td>0        </td><td>0        </td><td>0        </td><td>0        </td><td>0        </td><td>0        </td><td>...      </td><td>0        </td><td>0        </td><td>0        </td><td>0        </td><td>2010     </td><td>1        </td><td>1        </td><td>0        </td><td>2        </td><td>1        </td></tr>\n",
       "\t<tr><th scope=row>43</th><td>20.78809 </td><td>200000000</td><td>0        </td><td>0        </td><td>1        </td><td>1        </td><td>0        </td><td>0        </td><td>0        </td><td>1        </td><td>...      </td><td>0        </td><td>0        </td><td>0        </td><td>0        </td><td>2010     </td><td>2        </td><td>1        </td><td>0        </td><td>1        </td><td>0        </td></tr>\n",
       "\t<tr><th scope=row>47</th><td>20.43273 </td><td>250000000</td><td>1        </td><td>1        </td><td>0        </td><td>0        </td><td>0        </td><td>0        </td><td>0        </td><td>0        </td><td>...      </td><td>1        </td><td>0        </td><td>0        </td><td>0        </td><td>2014     </td><td>1        </td><td>1        </td><td>0        </td><td>3        </td><td>3        </td></tr>\n",
       "</tbody>\n",
       "</table>\n"
      ],
      "text/latex": [
       "\\begin{tabular}{r|lllllllllllllllllllllllllll}\n",
       "  & revenue & budget & TypeAction & TypeAdventure & TypeAnimation & TypeComedy & TypeCrime & TypeDocumentary & TypeDrama & TypeFamily & ... & TypeScienceFiction & TypeThriller & TypeWar & TypeWestern & year & season & company1 & company2 & company3 & company4\\\\\n",
       "\\hline\n",
       "\t3 & 20.59620  & 245000000 & 1         & 1         & 0         & 0         & 1         & 0         & 0         & 0         & ...       & 0         & 0         & 0         & 0         & 2015      & 3         & 1         & 0         & 2         & 0        \\\\\n",
       "\t14 & 18.30740  & 255000000 & 1         & 1         & 0         & 0         & 0         & 0         & 0         & 0         & ...       & 0         & 0         & 0         & 1         & 2013      & 2         & 2         & 0         & 4         & 0        \\\\\n",
       "\t22 & 19.55424  & 200000000 & 1         & 1         & 0         & 0         & 0         & 0         & 0         & 0         & ...       & 0         & 0         & 0         & 0         & 2010      & 1         & 1         & 0         & 2         & 1        \\\\\n",
       "\t43 & 20.78809  & 200000000 & 0         & 0         & 1         & 1         & 0         & 0         & 0         & 1         & ...       & 0         & 0         & 0         & 0         & 2010      & 2         & 1         & 0         & 1         & 0        \\\\\n",
       "\t47 & 20.43273  & 250000000 & 1         & 1         & 0         & 0         & 0         & 0         & 0         & 0         & ...       & 1         & 0         & 0         & 0         & 2014      & 1         & 1         & 0         & 3         & 3        \\\\\n",
       "\\end{tabular}\n"
      ],
      "text/markdown": [
       "\n",
       "| <!--/--> | revenue | budget | TypeAction | TypeAdventure | TypeAnimation | TypeComedy | TypeCrime | TypeDocumentary | TypeDrama | TypeFamily | ... | TypeScienceFiction | TypeThriller | TypeWar | TypeWestern | year | season | company1 | company2 | company3 | company4 |\n",
       "|---|---|---|---|---|---|---|---|---|---|---|---|---|---|---|---|---|---|---|---|---|---|\n",
       "| 3 | 20.59620  | 245000000 | 1         | 1         | 0         | 0         | 1         | 0         | 0         | 0         | ...       | 0         | 0         | 0         | 0         | 2015      | 3         | 1         | 0         | 2         | 0         |\n",
       "| 14 | 18.30740  | 255000000 | 1         | 1         | 0         | 0         | 0         | 0         | 0         | 0         | ...       | 0         | 0         | 0         | 1         | 2013      | 2         | 2         | 0         | 4         | 0         |\n",
       "| 22 | 19.55424  | 200000000 | 1         | 1         | 0         | 0         | 0         | 0         | 0         | 0         | ...       | 0         | 0         | 0         | 0         | 2010      | 1         | 1         | 0         | 2         | 1         |\n",
       "| 43 | 20.78809  | 200000000 | 0         | 0         | 1         | 1         | 0         | 0         | 0         | 1         | ...       | 0         | 0         | 0         | 0         | 2010      | 2         | 1         | 0         | 1         | 0         |\n",
       "| 47 | 20.43273  | 250000000 | 1         | 1         | 0         | 0         | 0         | 0         | 0         | 0         | ...       | 1         | 0         | 0         | 0         | 2014      | 1         | 1         | 0         | 3         | 3         |\n",
       "\n"
      ],
      "text/plain": [
       "   revenue  budget    TypeAction TypeAdventure TypeAnimation TypeComedy\n",
       "3  20.59620 245000000 1          1             0             0         \n",
       "14 18.30740 255000000 1          1             0             0         \n",
       "22 19.55424 200000000 1          1             0             0         \n",
       "43 20.78809 200000000 0          0             1             1         \n",
       "47 20.43273 250000000 1          1             0             0         \n",
       "   TypeCrime TypeDocumentary TypeDrama TypeFamily ... TypeScienceFiction\n",
       "3  1         0               0         0          ... 0                 \n",
       "14 0         0               0         0          ... 0                 \n",
       "22 0         0               0         0          ... 0                 \n",
       "43 0         0               0         1          ... 0                 \n",
       "47 0         0               0         0          ... 1                 \n",
       "   TypeThriller TypeWar TypeWestern year season company1 company2 company3\n",
       "3  0            0       0           2015 3      1        0        2       \n",
       "14 0            0       1           2013 2      2        0        4       \n",
       "22 0            0       0           2010 1      1        0        2       \n",
       "43 0            0       0           2010 2      1        0        1       \n",
       "47 0            0       0           2014 1      1        0        3       \n",
       "   company4\n",
       "3  0       \n",
       "14 0       \n",
       "22 1       \n",
       "43 0       \n",
       "47 3       "
      ]
     },
     "metadata": {},
     "output_type": "display_data"
    }
   ],
   "source": [
    "##################################### company ###########################\n",
    "target_col <- colnames(testData)[5]\n",
    "\n",
    "# company \n",
    "library(data.table)\n",
    "#q <- boxplot(revenue ~ TypeDocumentary,tesing_target_df,col=c('white',\"red\"),cex.axis=2,cex.lab=2.0)\n",
    "#q <- boxplot(revenue ~ TypeAnimation,tesing_target_df,col=c('white',\"blue\"),cex.axis=2,cex.lab=2.0)\n",
    "#q <- boxplot(revenue ~ TypeAdventure,tesing_target_df,col=c('white',\"green\"),cex.axis=2,cex.lab=2.0)\n",
    "target_col <- colnames(testData)[5]\n",
    "target <- fromJSON(toJSON(testData[[target_col]]))\n",
    "company_target_dict_df\n",
    "dummy_var <- dummyVars( ~ company ,data = company_target_dict_df,sep = '') # change\n",
    "trsf <- data.frame(predict(dummy_var, newdata = company_target_dict_df))\n",
    "#col name\n",
    "company_colnames_vector <- colnames(trsf)\n",
    "company_colnames_vector <- sub(\"\\\\.\", \"\", company_colnames_vector) #\n",
    "dummycol <- data.frame(matrix(0, nrow = nrow(testData), ncol = length(company_colnames_vector), dimnames = list(NULL, paste0(\"ColumnName_\", 1:length(company_colnames_vector)))))\n",
    "colnames(dummycol) <- colnames(trsf)\n",
    "for (j in seq(1,length(target))){\n",
    "  df_j <- fromJSON(target[j])\n",
    "  if (class(df_j) == 'data.frame'){\n",
    "    #id sequence\n",
    "    colnames(df_j) <- c('company','id')\n",
    "    fill_colname <- rep('company',length(df_j$company)) #change\n",
    "    # company to group number\n",
    "    vector <- company_target_dict_df[which(df_j[['company']]  %in% company_target_dict_df[['name']]),   'company'  ]\n",
    "    fill_colname <- paste(fill_colname,sub(\" \", \"\",vector),sep = '') #\n",
    "    c1 <- length (which(fill_colname == colnames(dummycol)[1]))\n",
    "    c2 <- length (which(fill_colname == colnames(dummycol)[2]))\n",
    "    c3 <- length (which(fill_colname == colnames(dummycol)[3]))\n",
    "    c4 <- length (which(fill_colname == colnames(dummycol)[4]))\n",
    "    \n",
    "    dummycol[j,colnames(dummycol)[1]]<- c1\n",
    "    dummycol[j,colnames(dummycol)[2]]<- c2\n",
    "    dummycol[j,colnames(dummycol)[3]]<- c3\n",
    "    dummycol[j,colnames(dummycol)[4]]<- c4\n",
    "  }\n",
    "}\n",
    "sum(dummycol$company1)\n",
    "sum(dummycol$company2)\n",
    "sum(dummycol$company3)\n",
    "sum(dummycol$company4)\n",
    "\n",
    "tesing_target_df<- cbind(tesing_target_df,dummycol)\n",
    "head(tesing_target_df,5)"
   ]
  },
  {
   "cell_type": "code",
   "execution_count": 191,
   "metadata": {
    "vscode": {
     "languageId": "r"
    }
   },
   "outputs": [],
   "source": [
    "\n",
    "##################################### keywords ###########################\n",
    "\n",
    "test_df <- tesing_target_df\n",
    "target_col <- colnames(testData)[4]\n",
    "target <- fromJSON(toJSON(testData[[target_col]]))\n",
    "#col name\n",
    "dummycol <- data.frame(matrix(0, nrow = nrow(testData), ncol = length(keywords_colnames_vector), dimnames = list(NULL, paste0(\"ColumnName_\", 1:length(keywords_colnames_vector)))))\n",
    "colnames(dummycol) <- colnames(trsf_keywords)\n",
    "for (t in seq(1,nrow(test_df))){\n",
    "    df_t <- fromJSON(target[t])\n",
    "    if (class(df_t) == 'data.frame'){\n",
    "        #id sequence\n",
    "        colnames(df_t) <- c('id','name')\n",
    "        fill_colname <- rep('level',length(df_t$name)) #change\n",
    "        # company to group number\n",
    "        vector <- keywords_reference_dict_df[which(keywords_reference_dict_df[['name']] %in% df_t[['name']]),   'level'  ] ######\n",
    "        fill_colname <- paste(fill_colname,sub(\" \", \"\",vector),sep = '') #\n",
    "        c1 <- length (which(fill_colname == colnames(dummycol)[1]))\n",
    "        c2 <- length (which(fill_colname == colnames(dummycol)[2]))\n",
    "        c3 <- length (which(fill_colname == colnames(dummycol)[3]))\n",
    "        dummycol[t,colnames(dummycol)[1]]<- c1\n",
    "        dummycol[t,colnames(dummycol)[2]]<- c2\n",
    "        dummycol[t,colnames(dummycol)[3]]<- c3\n",
    "        }\n",
    "    \n",
    "}\n",
    "tesing_target_df <- cbind(tesing_target_df,dummycol) "
   ]
  },
  {
   "cell_type": "code",
   "execution_count": 494,
   "metadata": {
    "vscode": {
     "languageId": "r"
    }
   },
   "outputs": [
    {
     "data": {
      "text/html": [
       "<table>\n",
       "<thead><tr><th></th><th scope=col>revenue</th><th scope=col>budget</th><th scope=col>TypeAction</th><th scope=col>TypeAdventure</th><th scope=col>TypeAnimation</th><th scope=col>TypeComedy</th><th scope=col>TypeCrime</th><th scope=col>TypeDocumentary</th><th scope=col>TypeDrama</th><th scope=col>TypeFamily</th><th scope=col>...</th><th scope=col>TypeWestern</th><th scope=col>year</th><th scope=col>season</th><th scope=col>company1</th><th scope=col>company2</th><th scope=col>company3</th><th scope=col>company4</th><th scope=col>level1</th><th scope=col>level2</th><th scope=col>level3</th></tr></thead>\n",
       "<tbody>\n",
       "\t<tr><th scope=row>3</th><td>20.59620 </td><td>245000000</td><td>1        </td><td>1        </td><td>0        </td><td>0        </td><td>1        </td><td>0        </td><td>0        </td><td>0        </td><td>...      </td><td>0        </td><td>2015     </td><td>3        </td><td>1        </td><td>0        </td><td>2        </td><td>0        </td><td>0        </td><td>6        </td><td>1        </td></tr>\n",
       "\t<tr><th scope=row>14</th><td>18.30740 </td><td>255000000</td><td>1        </td><td>1        </td><td>0        </td><td>0        </td><td>0        </td><td>0        </td><td>0        </td><td>0        </td><td>...      </td><td>1        </td><td>2013     </td><td>2        </td><td>2        </td><td>0        </td><td>4        </td><td>0        </td><td>0        </td><td>5        </td><td>8        </td></tr>\n",
       "\t<tr><th scope=row>22</th><td>19.55424 </td><td>200000000</td><td>1        </td><td>1        </td><td>0        </td><td>0        </td><td>0        </td><td>0        </td><td>0        </td><td>0        </td><td>...      </td><td>0        </td><td>2010     </td><td>1        </td><td>1        </td><td>0        </td><td>2        </td><td>1        </td><td>2        </td><td>6        </td><td>0        </td></tr>\n",
       "\t<tr><th scope=row>43</th><td>20.78809 </td><td>200000000</td><td>0        </td><td>0        </td><td>1        </td><td>1        </td><td>0        </td><td>0        </td><td>0        </td><td>1        </td><td>...      </td><td>0        </td><td>2010     </td><td>2        </td><td>1        </td><td>0        </td><td>1        </td><td>0        </td><td>1        </td><td>8        </td><td>4        </td></tr>\n",
       "\t<tr><th scope=row>47</th><td>20.43273 </td><td>250000000</td><td>1        </td><td>1        </td><td>0        </td><td>0        </td><td>0        </td><td>0        </td><td>0        </td><td>0        </td><td>...      </td><td>0        </td><td>2014     </td><td>1        </td><td>1        </td><td>0        </td><td>3        </td><td>3        </td><td>4        </td><td>5        </td><td>1        </td></tr>\n",
       "\t<tr><th scope=row>53</th><td>20.83993 </td><td>195000000</td><td>1        </td><td>1        </td><td>0        </td><td>0        </td><td>0        </td><td>0        </td><td>0        </td><td>0        </td><td>...      </td><td>0        </td><td>2011     </td><td>2        </td><td>1        </td><td>0        </td><td>2        </td><td>1        </td><td>2        </td><td>9        </td><td>1        </td></tr>\n",
       "</tbody>\n",
       "</table>\n"
      ],
      "text/latex": [
       "\\begin{tabular}{r|llllllllllllllllllllllllllllll}\n",
       "  & revenue & budget & TypeAction & TypeAdventure & TypeAnimation & TypeComedy & TypeCrime & TypeDocumentary & TypeDrama & TypeFamily & ... & TypeWestern & year & season & company1 & company2 & company3 & company4 & level1 & level2 & level3\\\\\n",
       "\\hline\n",
       "\t3 & 20.59620  & 245000000 & 1         & 1         & 0         & 0         & 1         & 0         & 0         & 0         & ...       & 0         & 2015      & 3         & 1         & 0         & 2         & 0         & 0         & 6         & 1        \\\\\n",
       "\t14 & 18.30740  & 255000000 & 1         & 1         & 0         & 0         & 0         & 0         & 0         & 0         & ...       & 1         & 2013      & 2         & 2         & 0         & 4         & 0         & 0         & 5         & 8        \\\\\n",
       "\t22 & 19.55424  & 200000000 & 1         & 1         & 0         & 0         & 0         & 0         & 0         & 0         & ...       & 0         & 2010      & 1         & 1         & 0         & 2         & 1         & 2         & 6         & 0        \\\\\n",
       "\t43 & 20.78809  & 200000000 & 0         & 0         & 1         & 1         & 0         & 0         & 0         & 1         & ...       & 0         & 2010      & 2         & 1         & 0         & 1         & 0         & 1         & 8         & 4        \\\\\n",
       "\t47 & 20.43273  & 250000000 & 1         & 1         & 0         & 0         & 0         & 0         & 0         & 0         & ...       & 0         & 2014      & 1         & 1         & 0         & 3         & 3         & 4         & 5         & 1        \\\\\n",
       "\t53 & 20.83993  & 195000000 & 1         & 1         & 0         & 0         & 0         & 0         & 0         & 0         & ...       & 0         & 2011      & 2         & 1         & 0         & 2         & 1         & 2         & 9         & 1        \\\\\n",
       "\\end{tabular}\n"
      ],
      "text/markdown": [
       "\n",
       "| <!--/--> | revenue | budget | TypeAction | TypeAdventure | TypeAnimation | TypeComedy | TypeCrime | TypeDocumentary | TypeDrama | TypeFamily | ... | TypeWestern | year | season | company1 | company2 | company3 | company4 | level1 | level2 | level3 |\n",
       "|---|---|---|---|---|---|---|---|---|---|---|---|---|---|---|---|---|---|---|---|---|---|\n",
       "| 3 | 20.59620  | 245000000 | 1         | 1         | 0         | 0         | 1         | 0         | 0         | 0         | ...       | 0         | 2015      | 3         | 1         | 0         | 2         | 0         | 0         | 6         | 1         |\n",
       "| 14 | 18.30740  | 255000000 | 1         | 1         | 0         | 0         | 0         | 0         | 0         | 0         | ...       | 1         | 2013      | 2         | 2         | 0         | 4         | 0         | 0         | 5         | 8         |\n",
       "| 22 | 19.55424  | 200000000 | 1         | 1         | 0         | 0         | 0         | 0         | 0         | 0         | ...       | 0         | 2010      | 1         | 1         | 0         | 2         | 1         | 2         | 6         | 0         |\n",
       "| 43 | 20.78809  | 200000000 | 0         | 0         | 1         | 1         | 0         | 0         | 0         | 1         | ...       | 0         | 2010      | 2         | 1         | 0         | 1         | 0         | 1         | 8         | 4         |\n",
       "| 47 | 20.43273  | 250000000 | 1         | 1         | 0         | 0         | 0         | 0         | 0         | 0         | ...       | 0         | 2014      | 1         | 1         | 0         | 3         | 3         | 4         | 5         | 1         |\n",
       "| 53 | 20.83993  | 195000000 | 1         | 1         | 0         | 0         | 0         | 0         | 0         | 0         | ...       | 0         | 2011      | 2         | 1         | 0         | 2         | 1         | 2         | 9         | 1         |\n",
       "\n"
      ],
      "text/plain": [
       "   revenue  budget    TypeAction TypeAdventure TypeAnimation TypeComedy\n",
       "3  20.59620 245000000 1          1             0             0         \n",
       "14 18.30740 255000000 1          1             0             0         \n",
       "22 19.55424 200000000 1          1             0             0         \n",
       "43 20.78809 200000000 0          0             1             1         \n",
       "47 20.43273 250000000 1          1             0             0         \n",
       "53 20.83993 195000000 1          1             0             0         \n",
       "   TypeCrime TypeDocumentary TypeDrama TypeFamily ... TypeWestern year season\n",
       "3  1         0               0         0          ... 0           2015 3     \n",
       "14 0         0               0         0          ... 1           2013 2     \n",
       "22 0         0               0         0          ... 0           2010 1     \n",
       "43 0         0               0         1          ... 0           2010 2     \n",
       "47 0         0               0         0          ... 0           2014 1     \n",
       "53 0         0               0         0          ... 0           2011 2     \n",
       "   company1 company2 company3 company4 level1 level2 level3\n",
       "3  1        0        2        0        0      6      1     \n",
       "14 2        0        4        0        0      5      8     \n",
       "22 1        0        2        1        2      6      0     \n",
       "43 1        0        1        0        1      8      4     \n",
       "47 1        0        3        3        4      5      1     \n",
       "53 1        0        2        1        2      9      1     "
      ]
     },
     "metadata": {},
     "output_type": "display_data"
    },
    {
     "data": {
      "text/html": [
       "<table>\n",
       "<thead><tr><th></th><th scope=col>revenue</th><th scope=col>budget</th><th scope=col>TypeAction</th><th scope=col>TypeAdventure</th><th scope=col>TypeAnimation</th><th scope=col>TypeComedy</th><th scope=col>TypeCrime</th><th scope=col>TypeDocumentary</th><th scope=col>TypeDrama</th><th scope=col>TypeFamily</th><th scope=col>...</th><th scope=col>TypeWestern</th><th scope=col>year</th><th scope=col>season</th><th scope=col>company1</th><th scope=col>company2</th><th scope=col>company3</th><th scope=col>company4</th><th scope=col>level1</th><th scope=col>level2</th><th scope=col>level3</th></tr></thead>\n",
       "<tbody>\n",
       "\t<tr><th scope=row>2463</th><td> 2.397895</td><td>       11</td><td>2        </td><td>1        </td><td>0        </td><td>0        </td><td>0        </td><td>0        </td><td>1        </td><td>0        </td><td>...      </td><td>0        </td><td>1978     </td><td>1        </td><td>1        </td><td>0        </td><td>1        </td><td>0        </td><td>0        </td><td> 0       </td><td> 0       </td></tr>\n",
       "\t<tr><th scope=row>2511</th><td>17.977333</td><td> 10000000</td><td>1        </td><td>1        </td><td>0        </td><td>0        </td><td>0        </td><td>0        </td><td>0        </td><td>0        </td><td>...      </td><td>0        </td><td>2016     </td><td>4        </td><td>1        </td><td>0        </td><td>2        </td><td>2        </td><td>0        </td><td> 4       </td><td>12       </td></tr>\n",
       "\t<tr><th scope=row>2227</th><td>16.653429</td><td> 15000000</td><td>2        </td><td>1        </td><td>0        </td><td>0        </td><td>0        </td><td>0        </td><td>1        </td><td>0        </td><td>...      </td><td>0        </td><td>1984     </td><td>1        </td><td>1        </td><td>0        </td><td>1        </td><td>0        </td><td>0        </td><td> 3       </td><td> 1       </td></tr>\n",
       "\t<tr><th scope=row>526</th><td>17.750130</td><td> 75000000</td><td>2        </td><td>2        </td><td>0        </td><td>1        </td><td>0        </td><td>0        </td><td>0        </td><td>0        </td><td>...      </td><td>0        </td><td>2003     </td><td>2        </td><td>1        </td><td>0        </td><td>1        </td><td>0        </td><td>0        </td><td> 0       </td><td> 2       </td></tr>\n",
       "\t<tr><th scope=row>195</th><td>19.589712</td><td>130000000</td><td>2        </td><td>1        </td><td>1        </td><td>1        </td><td>0        </td><td>0        </td><td>0        </td><td>1        </td><td>...      </td><td>0        </td><td>2010     </td><td>3        </td><td>0        </td><td>0        </td><td>1        </td><td>0        </td><td>3        </td><td>12       </td><td> 2       </td></tr>\n",
       "\t<tr><th scope=row>2986</th><td>16.410911</td><td>  4000000</td><td>1        </td><td>1        </td><td>0        </td><td>1        </td><td>0        </td><td>0        </td><td>1        </td><td>0        </td><td>...      </td><td>0        </td><td>2006     </td><td>3        </td><td>1        </td><td>0        </td><td>2        </td><td>0        </td><td>0        </td><td> 1       </td><td>12       </td></tr>\n",
       "</tbody>\n",
       "</table>\n"
      ],
      "text/latex": [
       "\\begin{tabular}{r|llllllllllllllllllllllllllllll}\n",
       "  & revenue & budget & TypeAction & TypeAdventure & TypeAnimation & TypeComedy & TypeCrime & TypeDocumentary & TypeDrama & TypeFamily & ... & TypeWestern & year & season & company1 & company2 & company3 & company4 & level1 & level2 & level3\\\\\n",
       "\\hline\n",
       "\t2463 &  2.397895 &        11 & 2         & 1         & 0         & 0         & 0         & 0         & 1         & 0         & ...       & 0         & 1978      & 1         & 1         & 0         & 1         & 0         & 0         &  0        &  0       \\\\\n",
       "\t2511 & 17.977333 &  10000000 & 1         & 1         & 0         & 0         & 0         & 0         & 0         & 0         & ...       & 0         & 2016      & 4         & 1         & 0         & 2         & 2         & 0         &  4        & 12       \\\\\n",
       "\t2227 & 16.653429 &  15000000 & 2         & 1         & 0         & 0         & 0         & 0         & 1         & 0         & ...       & 0         & 1984      & 1         & 1         & 0         & 1         & 0         & 0         &  3        &  1       \\\\\n",
       "\t526 & 17.750130 &  75000000 & 2         & 2         & 0         & 1         & 0         & 0         & 0         & 0         & ...       & 0         & 2003      & 2         & 1         & 0         & 1         & 0         & 0         &  0        &  2       \\\\\n",
       "\t195 & 19.589712 & 130000000 & 2         & 1         & 1         & 1         & 0         & 0         & 0         & 1         & ...       & 0         & 2010      & 3         & 0         & 0         & 1         & 0         & 3         & 12        &  2       \\\\\n",
       "\t2986 & 16.410911 &   4000000 & 1         & 1         & 0         & 1         & 0         & 0         & 1         & 0         & ...       & 0         & 2006      & 3         & 1         & 0         & 2         & 0         & 0         &  1        & 12       \\\\\n",
       "\\end{tabular}\n"
      ],
      "text/markdown": [
       "\n",
       "| <!--/--> | revenue | budget | TypeAction | TypeAdventure | TypeAnimation | TypeComedy | TypeCrime | TypeDocumentary | TypeDrama | TypeFamily | ... | TypeWestern | year | season | company1 | company2 | company3 | company4 | level1 | level2 | level3 |\n",
       "|---|---|---|---|---|---|---|---|---|---|---|---|---|---|---|---|---|---|---|---|---|---|\n",
       "| 2463 |  2.397895 |        11 | 2         | 1         | 0         | 0         | 0         | 0         | 1         | 0         | ...       | 0         | 1978      | 1         | 1         | 0         | 1         | 0         | 0         |  0        |  0        |\n",
       "| 2511 | 17.977333 |  10000000 | 1         | 1         | 0         | 0         | 0         | 0         | 0         | 0         | ...       | 0         | 2016      | 4         | 1         | 0         | 2         | 2         | 0         |  4        | 12        |\n",
       "| 2227 | 16.653429 |  15000000 | 2         | 1         | 0         | 0         | 0         | 0         | 1         | 0         | ...       | 0         | 1984      | 1         | 1         | 0         | 1         | 0         | 0         |  3        |  1        |\n",
       "| 526 | 17.750130 |  75000000 | 2         | 2         | 0         | 1         | 0         | 0         | 0         | 0         | ...       | 0         | 2003      | 2         | 1         | 0         | 1         | 0         | 0         |  0        |  2        |\n",
       "| 195 | 19.589712 | 130000000 | 2         | 1         | 1         | 1         | 0         | 0         | 0         | 1         | ...       | 0         | 2010      | 3         | 0         | 0         | 1         | 0         | 3         | 12        |  2        |\n",
       "| 2986 | 16.410911 |   4000000 | 1         | 1         | 0         | 1         | 0         | 0         | 1         | 0         | ...       | 0         | 2006      | 3         | 1         | 0         | 2         | 0         | 0         |  1        | 12        |\n",
       "\n"
      ],
      "text/plain": [
       "     revenue   budget    TypeAction TypeAdventure TypeAnimation TypeComedy\n",
       "2463  2.397895        11 2          1             0             0         \n",
       "2511 17.977333  10000000 1          1             0             0         \n",
       "2227 16.653429  15000000 2          1             0             0         \n",
       "526  17.750130  75000000 2          2             0             1         \n",
       "195  19.589712 130000000 2          1             1             1         \n",
       "2986 16.410911   4000000 1          1             0             1         \n",
       "     TypeCrime TypeDocumentary TypeDrama TypeFamily ... TypeWestern year season\n",
       "2463 0         0               1         0          ... 0           1978 1     \n",
       "2511 0         0               0         0          ... 0           2016 4     \n",
       "2227 0         0               1         0          ... 0           1984 1     \n",
       "526  0         0               0         0          ... 0           2003 2     \n",
       "195  0         0               0         1          ... 0           2010 3     \n",
       "2986 0         0               1         0          ... 0           2006 3     \n",
       "     company1 company2 company3 company4 level1 level2 level3\n",
       "2463 1        0        1        0        0       0      0    \n",
       "2511 1        0        2        2        0       4     12    \n",
       "2227 1        0        1        0        0       3      1    \n",
       "526  1        0        1        0        0       0      2    \n",
       "195  0        0        1        0        3      12      2    \n",
       "2986 1        0        2        0        0       1     12    "
      ]
     },
     "metadata": {},
     "output_type": "display_data"
    },
    {
     "data": {
      "text/html": [
       "30"
      ],
      "text/latex": [
       "30"
      ],
      "text/markdown": [
       "30"
      ],
      "text/plain": [
       "[1] 30"
      ]
     },
     "metadata": {},
     "output_type": "display_data"
    },
    {
     "data": {
      "text/html": [
       "30"
      ],
      "text/latex": [
       "30"
      ],
      "text/markdown": [
       "30"
      ],
      "text/plain": [
       "[1] 30"
      ]
     },
     "metadata": {},
     "output_type": "display_data"
    }
   ],
   "source": [
    "head(tesing_target_df)\n",
    "head(target_df)\n",
    "length(tesing_target_df)\n",
    "length(target_df)"
   ]
  },
  {
   "cell_type": "code",
   "execution_count": 592,
   "metadata": {
    "vscode": {
     "languageId": "r"
    }
   },
   "outputs": [
    {
     "data": {
      "text/html": [
       "'\\nlibrary(MASS)\\nstep.model &lt;- stepAIC(modelfull.final.fit, direction = \"both\")\\n'"
      ],
      "text/latex": [
       "'\\textbackslash{}nlibrary(MASS)\\textbackslash{}nstep.model <- stepAIC(modelfull.final.fit, direction = \"both\")\\textbackslash{}n'"
      ],
      "text/markdown": [
       "'\\nlibrary(MASS)\\nstep.model &lt;- stepAIC(modelfull.final.fit, direction = \"both\")\\n'"
      ],
      "text/plain": [
       "[1] \"\\nlibrary(MASS)\\nstep.model <- stepAIC(modelfull.final.fit, direction = \\\"both\\\")\\n\""
      ]
     },
     "metadata": {},
     "output_type": "display_data"
    },
    {
     "data": {
      "text/plain": [
       "32 x 1 sparse Matrix of class \"dgCMatrix\"\n",
       "                               1\n",
       "(Intercept)         1.158188e+01\n",
       "budget              8.920144e-09\n",
       "TypeAction          7.007010e-02\n",
       "TypeAdventure       1.957017e-01\n",
       "TypeAnimation       1.135043e-01\n",
       "TypeComedy          3.370427e-02\n",
       "TypeCrime          -2.833330e-02\n",
       "TypeDocumentary    -7.842211e-01\n",
       "TypeDrama          -1.897915e-01\n",
       "TypeFamily          2.733019e-01\n",
       "TypeFantasy         1.014273e-01\n",
       "TypeForeign        -2.438138e+00\n",
       "TypeHistory         8.413072e-02\n",
       "TypeHorror         -8.427743e-02\n",
       "TypeMusic           1.167856e-01\n",
       "TypeMystery         6.671678e-02\n",
       "TypeRomance         5.927596e-02\n",
       "TypeScienceFiction -5.652603e-02\n",
       "TypeThriller        1.329297e-02\n",
       "TypeWar            -9.253357e-02\n",
       "TypeWestern        -3.764721e-01\n",
       "year                2.304552e-03\n",
       "season2             6.590240e-02\n",
       "season3            -1.165736e-01\n",
       "season4             1.639459e-02\n",
       "company1            2.303067e-01\n",
       "company2           -4.622149e-01\n",
       "company3            8.565485e-02\n",
       "company4           -1.449686e-02\n",
       "level1              7.010316e-02\n",
       "level2              6.306443e-02\n",
       "level3             -1.642665e-03"
      ]
     },
     "metadata": {},
     "output_type": "display_data"
    },
    {
     "data": {
      "image/png": "[encoded data removed]",
      "text/plain": [
       "plot without title"
      ]
     },
     "metadata": {},
     "output_type": "display_data"
    },
    {
     "data": {
      "text/plain": [
       "32 x 1 sparse Matrix of class \"dgCMatrix\"\n",
       "                               1\n",
       "(Intercept)         1.639664e+01\n",
       "budget              1.932644e-08\n",
       "TypeAction          .           \n",
       "TypeAdventure       .           \n",
       "TypeAnimation       .           \n",
       "TypeComedy          .           \n",
       "TypeCrime           .           \n",
       "TypeDocumentary     .           \n",
       "TypeDrama           .           \n",
       "TypeFamily          .           \n",
       "TypeFantasy         .           \n",
       "TypeForeign        -1.387990e-01\n",
       "TypeHistory         .           \n",
       "TypeHorror          .           \n",
       "TypeMusic           .           \n",
       "TypeMystery         .           \n",
       "TypeRomance         .           \n",
       "TypeScienceFiction  .           \n",
       "TypeThriller        .           \n",
       "TypeWar             .           \n",
       "TypeWestern         .           \n",
       "year                .           \n",
       "season2             .           \n",
       "season3             .           \n",
       "season4             .           \n",
       "company1            1.339624e-02\n",
       "company2            .           \n",
       "company3            .           \n",
       "company4            .           \n",
       "level1              .           \n",
       "level2              6.296798e-02\n",
       "level3              .           "
      ]
     },
     "metadata": {},
     "output_type": "display_data"
    },
    {
     "data": {
      "text/html": [
       "0.01"
      ],
      "text/latex": [
       "0.01"
      ],
      "text/markdown": [
       "0.01"
      ],
      "text/plain": [
       "[1] 0.01"
      ]
     },
     "metadata": {},
     "output_type": "display_data"
    },
    {
     "data": {
      "text/html": [
       "2.39362203070425"
      ],
      "text/latex": [
       "2.39362203070425"
      ],
      "text/markdown": [
       "2.39362203070425"
      ],
      "text/plain": [
       "[1] 2.393622"
      ]
     },
     "metadata": {},
     "output_type": "display_data"
    },
    {
     "data": {
      "text/html": [
       "2.27078584619735"
      ],
      "text/latex": [
       "2.27078584619735"
      ],
      "text/markdown": [
       "2.27078584619735"
      ],
      "text/plain": [
       "[1] 2.270786"
      ]
     },
     "metadata": {},
     "output_type": "display_data"
    },
    {
     "data": {
      "text/html": [
       "2.14529619568356"
      ],
      "text/latex": [
       "2.14529619568356"
      ],
      "text/markdown": [
       "2.14529619568356"
      ],
      "text/plain": [
       "[1] 2.145296"
      ]
     },
     "metadata": {},
     "output_type": "display_data"
    },
    {
     "data": {
      "text/html": [
       "2.25152903097001"
      ],
      "text/latex": [
       "2.25152903097001"
      ],
      "text/markdown": [
       "2.25152903097001"
      ],
      "text/plain": [
       "[1] 2.251529"
      ]
     },
     "metadata": {},
     "output_type": "display_data"
    },
    {
     "data": {
      "text/html": [
       "2.24926150582938"
      ],
      "text/latex": [
       "2.24926150582938"
      ],
      "text/markdown": [
       "2.24926150582938"
      ],
      "text/plain": [
       "[1] 2.249262"
      ]
     },
     "metadata": {},
     "output_type": "display_data"
    },
    {
     "data": {
      "text/html": [
       "2.2856807648585"
      ],
      "text/latex": [
       "2.2856807648585"
      ],
      "text/markdown": [
       "2.2856807648585"
      ],
      "text/plain": [
       "[1] 2.285681"
      ]
     },
     "metadata": {},
     "output_type": "display_data"
    },
    {
     "data": {
      "text/html": [
       "2.31282475128866"
      ],
      "text/latex": [
       "2.31282475128866"
      ],
      "text/markdown": [
       "2.31282475128866"
      ],
      "text/plain": [
       "[1] 2.312825"
      ]
     },
     "metadata": {},
     "output_type": "display_data"
    },
    {
     "data": {
      "text/html": [
       "2.34442566701296"
      ],
      "text/latex": [
       "2.34442566701296"
      ],
      "text/markdown": [
       "2.34442566701296"
      ],
      "text/plain": [
       "[1] 2.344426"
      ]
     },
     "metadata": {},
     "output_type": "display_data"
    },
    {
     "data": {
      "text/html": [
       "2.22489772436255"
      ],
      "text/latex": [
       "2.22489772436255"
      ],
      "text/markdown": [
       "2.22489772436255"
      ],
      "text/plain": [
       "[1] 2.224898"
      ]
     },
     "metadata": {},
     "output_type": "display_data"
    },
    {
     "data": {
      "text/html": [
       "2.11724516051418"
      ],
      "text/latex": [
       "2.11724516051418"
      ],
      "text/markdown": [
       "2.11724516051418"
      ],
      "text/plain": [
       "[1] 2.117245"
      ]
     },
     "metadata": {},
     "output_type": "display_data"
    },
    {
     "data": {
      "text/html": [
       "2.24078200890396"
      ],
      "text/latex": [
       "2.24078200890396"
      ],
      "text/markdown": [
       "2.24078200890396"
      ],
      "text/plain": [
       "[1] 2.240782"
      ]
     },
     "metadata": {},
     "output_type": "display_data"
    },
    {
     "data": {
      "image/png": "[encoded data removed]",
      "text/plain": [
       "plot without title"
      ]
     },
     "metadata": {},
     "output_type": "display_data"
    },
    {
     "data": {
      "image/png": "[encoded data removed]",
      "text/plain": [
       "plot without title"
      ]
     },
     "metadata": {},
     "output_type": "display_data"
    }
   ],
   "source": [
    "library(tidyverse)\n",
    "library(caret)\n",
    "library(leaps)\n",
    "target_df$TypeAction <- as.numeric(target_df$TypeAction)\n",
    "target_df$TypeAdventure  <- as.numeric(target_df$TypeAdventure )\n",
    "#model_test[which (model_test$budget != 0),'budget'] <- log(model_test[which (model_test$budget != 0),'budget'])\n",
    "model_test <- target_df\n",
    "testing <- tesing_target_df\n",
    "library(car)\n",
    "library(glmnet)\n",
    "modelfull <- lm(revenue ~ . + season*TypeAction + season*TypeAdventure + season*TypeAnimation + season*TypeComedy\n",
    "        + season*TypeDocumentary + season*TypeDrama+ season*TypeFamily+ season*TypeFantasy + season*TypeHistory + season*TypeHorror + season*TypeMusic + season*TypeMystery + + season*TypeRomance +\n",
    "        + season*TypeScienceFiction +\n",
    "        + season*TypeWar +\n",
    "        + season*TypeWestern\n",
    "        ,data = model_test)\n",
    "#outlier\n",
    "#outlierTest(modelfull)\n",
    "modelfull.final.fit <- update(modelfull, data = model_test[-c(1510,2761,3015,2732,2587,1722,1604,2430,2463,2882),])\n",
    "\n",
    "# selection\n",
    "'\n",
    "library(MASS)\n",
    "step.model <- stepAIC(modelfull.final.fit, direction = \"both\")\n",
    "'\n",
    "dummy_train <- model.matrix(revenue ~ ., model_test)\n",
    "\n",
    "dummy_test <- model.matrix(revenue ~ ., testing)\n",
    "# ridge regression\n",
    "lambdas <- 10^seq(3, -2, by = -.1)\n",
    "cv_fit_ridge <- cv.glmnet( dummy_train[,seq(2,ncol(dummy_train))],model_test$revenue,alpha = 0, lambda = lambdas,intercept = TRUE)\n",
    "plot(cv_fit_ridge)\n",
    "coef(cv_fit_ridge)\n",
    "ridge_opt_lambda <- cv_fit_ridge$lambda.min\n",
    "# lasso regression\n",
    "cv_fit_lasso <- cv.glmnet( dummy_train[,seq(2,ncol(dummy_train))],model_test$revenue,alpha = 1, lambda = lambdas,intercept = TRUE)\n",
    "plot(cv_fit_lasso)\n",
    "coef(cv_fit_lasso)\n",
    "lasso_opt_lambda <- cv_fit_lasso$lambda.min\n",
    "lasso_opt_lambda\n",
    "# ELASTIC NET\n",
    "fit0 <- cv.glmnet( dummy_train[,seq(2,ncol(dummy_train))],model_test$revenue,alpha = 0.0, lambda = lambdas,intercept = TRUE)\n",
    "fit1 <- cv.glmnet( dummy_train[,seq(2,ncol(dummy_train))],model_test$revenue,alpha = 0.1, lambda = lambdas,intercept = TRUE)\n",
    "fit2 <- cv.glmnet( dummy_train[,seq(2,ncol(dummy_train))],model_test$revenue,alpha = 0.2, lambda = lambdas,intercept = TRUE)\n",
    "fit3 <- cv.glmnet( dummy_train[,seq(2,ncol(dummy_train))],model_test$revenue,alpha = 0.3, lambda = lambdas,intercept = TRUE)\n",
    "fit4 <- cv.glmnet( dummy_train[,seq(2,ncol(dummy_train))],model_test$revenue,alpha = 0.4, lambda = lambdas,intercept = TRUE)\n",
    "fit5 <- cv.glmnet( dummy_train[,seq(2,ncol(dummy_train))],model_test$revenue,alpha = 0.5, lambda = lambdas,intercept = TRUE)\n",
    "fit6 <- cv.glmnet( dummy_train[,seq(2,ncol(dummy_train))],model_test$revenue,alpha = 0.6, lambda = lambdas,intercept = TRUE)\n",
    "fit7 <- cv.glmnet( dummy_train[,seq(2,ncol(dummy_train))],model_test$revenue,alpha = 0.7, lambda = lambdas,intercept = TRUE)\n",
    "fit8 <- cv.glmnet( dummy_train[,seq(2,ncol(dummy_train))],model_test$revenue,alpha = 0.8, lambda = lambdas,intercept = TRUE)\n",
    "fit9 <- cv.glmnet( dummy_train[,seq(2,ncol(dummy_train))],model_test$revenue,alpha = 0.9, lambda = lambdas,intercept = TRUE)\n",
    "fit10 <- cv.glmnet( dummy_train[,seq(2,ncol(dummy_train))],model_test$revenue,alpha = 1, lambda = lambdas,intercept = TRUE)\n",
    "\n",
    "x.test <-dummy_test[,seq(2,ncol(dummy_test))]\n",
    "\n",
    "yhat0 <- predict(fit0, s=fit0$lambda.1se, newx=x.test)\n",
    "yhat1 <- predict(fit1, s=fit1$lambda.1se, newx=x.test)\n",
    "yhat2 <- predict(fit2, s=fit2$lambda.1se, newx=x.test)\n",
    "yhat3 <- predict(fit3, s=fit3$lambda.1se, newx=x.test)\n",
    "yhat4 <- predict(fit4, s=fit4$lambda.1se, newx=x.test)\n",
    "yhat5 <- predict(fit5, s=fit5$lambda.1se, newx=x.test)\n",
    "yhat6 <- predict(fit6, s=fit6$lambda.1se, newx=x.test)\n",
    "yhat7 <- predict(fit7, s=fit7$lambda.1se, newx=x.test)\n",
    "yhat8 <- predict(fit8, s=fit8$lambda.1se, newx=x.test)\n",
    "yhat9 <- predict(fit9, s=fit9$lambda.1se, newx=x.test)\n",
    "yhat10 <- predict(fit9, s=fit10$lambda.1se, newx=x.test)\n",
    "\n",
    "mse0 <- mean((testing$revenue - yhat0)^2)\n",
    "mse1 <- mean((testing$revenue - yhat1)^2)\n",
    "mse2 <- mean((testing$revenue - yhat2)^2)\n",
    "mse3 <- mean((testing$revenue - yhat3)^2)\n",
    "mse4 <- mean((testing$revenue - yhat4)^2)\n",
    "mse5 <- mean((testing$revenue - yhat5)^2)\n",
    "mse6 <- mean((testing$revenue - yhat6)^2)\n",
    "mse7 <- mean((testing$revenue - yhat7)^2)\n",
    "mse8 <- mean((testing$revenue - yhat8)^2)\n",
    "mse9 <- mean((testing$revenue - yhat9)^2)\n",
    "mse10 <- mean((testing$revenue - yhat10)^2)\n",
    "\n",
    "mse0\n",
    "mse1\n",
    "mse2\n",
    "mse3\n",
    "mse4\n",
    "mse5\n",
    "mse6\n",
    "mse7\n",
    "mse8\n",
    "mse9\n",
    "mse10\n",
    "\n",
    "plot (y = c(mse0 ,mse1 ,mse2, mse3 ,mse4, mse5 ,mse6 ,mse7 ,mse8 ,mse9,mse10), x = seq(0.0,1.0,0.1),xlab = 'alpha', ylab = 'MSE',type=\"l\", col=\"green\")"
   ]
  },
  {
   "cell_type": "code",
   "execution_count": 593,
   "metadata": {
    "vscode": {
     "languageId": "r"
    }
   },
   "outputs": [
    {
     "data": {
      "text/html": [
       "32"
      ],
      "text/latex": [
       "32"
      ],
      "text/markdown": [
       "32"
      ],
      "text/plain": [
       "[1] 32"
      ]
     },
     "metadata": {},
     "output_type": "display_data"
    },
    {
     "data": {
      "text/html": [
       "32"
      ],
      "text/latex": [
       "32"
      ],
      "text/markdown": [
       "32"
      ],
      "text/plain": [
       "[1] 32"
      ]
     },
     "metadata": {},
     "output_type": "display_data"
    },
    {
     "data": {
      "text/html": [
       "376"
      ],
      "text/latex": [
       "376"
      ],
      "text/markdown": [
       "376"
      ],
      "text/plain": [
       "[1] 376"
      ]
     },
     "metadata": {},
     "output_type": "display_data"
    },
    {
     "data": {
      "text/html": [
       "376"
      ],
      "text/latex": [
       "376"
      ],
      "text/markdown": [
       "376"
      ],
      "text/plain": [
       "[1] 376"
      ]
     },
     "metadata": {},
     "output_type": "display_data"
    },
    {
     "data": {
      "text/html": [
       "1335.0998037574"
      ],
      "text/latex": [
       "1335.0998037574"
      ],
      "text/markdown": [
       "1335.0998037574"
      ],
      "text/plain": [
       "[1] 1335.1"
      ]
     },
     "metadata": {},
     "output_type": "display_data"
    },
    {
     "data": {
      "text/html": [
       "796.084180353331"
      ],
      "text/latex": [
       "796.084180353331"
      ],
      "text/markdown": [
       "796.084180353331"
      ],
      "text/plain": [
       "[1] 796.0842"
      ]
     },
     "metadata": {},
     "output_type": "display_data"
    },
    {
     "data": {
      "text/html": [
       "514.532770967979"
      ],
      "text/latex": [
       "514.532770967979"
      ],
      "text/markdown": [
       "514.532770967979"
      ],
      "text/plain": [
       "[1] 514.5328"
      ]
     },
     "metadata": {},
     "output_type": "display_data"
    },
    {
     "name": "stdout",
     "output_type": "stream",
     "text": [
      "[1] 0.4037268\n"
     ]
    }
   ],
   "source": [
    "test <- tesing_target_df\n",
    "library(lmridge)\n",
    "#test[which (test$budget != 0),'budget'] <- log(test[which (test$budget != 0),'budget'])\n",
    "ncol(dummy_train)\n",
    "ncol(dummy_test)\n",
    "y_predicted <- predict(fit9, s = fit9$lambda.1se, newx = dummy_test[,seq(2,ncol(dummy_test))])\n",
    "test.y    <- testing$revenue\n",
    "y_predicted <- as.numeric(y_predicted)\n",
    "length(test.y)\n",
    "length(y_predicted)\n",
    "SS.residual   <- sum((test.y - y_predicted)^2)\n",
    "SS.total      <- sum((test.y - mean(test.y))^2)\n",
    "regss <- sum((y_predicted - mean(y_predicted)) ^ 2)\n",
    "sum((test.y - mean(test.y))^2)\n",
    "sum((test.y - y_predicted)^2)\n",
    "regss\n",
    "print( 1.0 - SS.residual/SS.total)"
   ]
  },
  {
   "cell_type": "code",
   "execution_count": 594,
   "metadata": {
    "vscode": {
     "languageId": "r"
    }
   },
   "outputs": [
    {
     "name": "stderr",
     "output_type": "stream",
     "text": [
      "`geom_smooth()` using formula 'y ~ x'\n"
     ]
    },
    {
     "data": {
      "image/png": "[encoded data removed]",
      "text/plain": [
       "plot without title"
      ]
     },
     "metadata": {},
     "output_type": "display_data"
    }
   ],
   "source": [
    "modelb <- lm(revenue ~ budget\n",
    "        ,data = target_df) \n",
    "# 1. Add predictions \n",
    "pred.int <- predict(modelb, interval = \"prediction\", newdata = tesing_target_df)\n",
    "mydata <- cbind(tesing_target_df, pred.int)\n",
    "# 2. Regression line + confidence intervals\n",
    "library(\"ggplot2\")\n",
    "p <- ggplot(mydata, aes(budget, revenue)) +\n",
    "  geom_point() +\n",
    "  stat_smooth(method = lm)\n",
    "# 3. Add prediction intervals\n",
    "p + geom_line(aes(y = lwr), color = \"red\", linetype = \"dashed\")+\n",
    "    geom_line(aes(y = upr), color = \"red\", linetype = \"dashed\")\n"
   ]
  },
  {
   "cell_type": "code",
   "execution_count": 595,
   "metadata": {
    "vscode": {
     "languageId": "r"
    }
   },
   "outputs": [
    {
     "name": "stdout",
     "output_type": "stream",
     "text": [
      "[1] 0.3423604\n"
     ]
    }
   ],
   "source": [
    "test.pred.budget <- predict(modelb,newdata=tesing_target_df)\n",
    "test.y    <- tesing_target_df$revenue\n",
    "SS.residual   <- sum((test.y - test.pred.budget)^2)\n",
    "SS.total      <- sum((test.y - mean(test.y))^2)\n",
    "print( 1.0 - SS.residual/SS.total)"
   ]
  },
  {
   "cell_type": "code",
   "execution_count": 673,
   "metadata": {
    "vscode": {
     "languageId": "r"
    }
   },
   "outputs": [
    {
     "data": {
      "text/html": [
       "<span style=white-space:pre-wrap>'\\nfor ( i in loop){\\n    ames_bag1 &lt;- bagging(\\n      formula = revenue~ .,\\n      data = TRAIN_FULL,\\n      nbagg = i,\\n      coob = TRUE,\\n      control = rpart.control(minsplit = 2, cp = 0))\\n    Y_mse[i-9]&lt;-ames_bag1$err\\n}\\n'</span>"
      ],
      "text/latex": [
       "'\\textbackslash{}nfor ( i in loop)\\{\\textbackslash{}n    ames\\_bag1 <- bagging(\\textbackslash{}n      formula = revenue\\textasciitilde{} .,\\textbackslash{}n      data = TRAIN\\_FULL,\\textbackslash{}n      nbagg = i,\\textbackslash{}n      coob = TRUE,\\textbackslash{}n      control = rpart.control(minsplit = 2, cp = 0))\\textbackslash{}n    Y\\_mse{[}i-9{]}<-ames\\_bag1\\$err\\textbackslash{}n\\}\\textbackslash{}n'"
      ],
      "text/markdown": [
       "<span style=white-space:pre-wrap>'\\nfor ( i in loop){\\n    ames_bag1 &lt;- bagging(\\n      formula = revenue~ .,\\n      data = TRAIN_FULL,\\n      nbagg = i,\\n      coob = TRUE,\\n      control = rpart.control(minsplit = 2, cp = 0))\\n    Y_mse[i-9]&lt;-ames_bag1$err\\n}\\n'</span>"
      ],
      "text/plain": [
       "[1] \"\\nfor ( i in loop){\\n    ames_bag1 <- bagging(\\n      formula = revenue~ .,\\n      data = TRAIN_FULL,\\n      nbagg = i,\\n      coob = TRUE,\\n      control = rpart.control(minsplit = 2, cp = 0))\\n    Y_mse[i-9]<-ames_bag1$err\\n}\\n\""
      ]
     },
     "metadata": {},
     "output_type": "display_data"
    },
    {
     "data": {
      "text/html": [
       "<span style=white-space:pre-wrap>'\\nctrl &lt;- trainControl(method = \"cv\", number = 10)\\nbagged_cv &lt;- train(\\n  revenue~ .,\\n  data = TRAIN_FULL,\\n  method = \"treebag\", \\n  trControl = ctrl,\\n  importance = TRUE\\n)\\npred &lt;- predict(object = bagged_cv,newdata = TREE_TESTING_FULL)\\nSS.residual   &lt;- sum((test.y - pred)^2)\\nSS.total      &lt;- sum((test.y - mean_y)^2)\\nregss &lt;- 1 - SS.residual/SS.total\\nprint(regss)\\nprint(bagged_cv)\\n'</span>"
      ],
      "text/latex": [
       "'\\textbackslash{}nctrl <- trainControl(method = \"cv\", number = 10)\\textbackslash{}nbagged\\_cv <- train(\\textbackslash{}n  revenue\\textasciitilde{} .,\\textbackslash{}n  data = TRAIN\\_FULL,\\textbackslash{}n  method = \"treebag\", \\textbackslash{}n  trControl = ctrl,\\textbackslash{}n  importance = TRUE\\textbackslash{}n)\\textbackslash{}npred <- predict(object = bagged\\_cv,newdata = TREE\\_TESTING\\_FULL)\\textbackslash{}nSS.residual   <- sum((test.y - pred)\\textasciicircum{}2)\\textbackslash{}nSS.total      <- sum((test.y - mean\\_y)\\textasciicircum{}2)\\textbackslash{}nregss <- 1 - SS.residual/SS.total\\textbackslash{}nprint(regss)\\textbackslash{}nprint(bagged\\_cv)\\textbackslash{}n'"
      ],
      "text/markdown": [
       "<span style=white-space:pre-wrap>'\\nctrl &lt;- trainControl(method = \"cv\", number = 10)\\nbagged_cv &lt;- train(\\n  revenue~ .,\\n  data = TRAIN_FULL,\\n  method = \"treebag\", \\n  trControl = ctrl,\\n  importance = TRUE\\n)\\npred &lt;- predict(object = bagged_cv,newdata = TREE_TESTING_FULL)\\nSS.residual   &lt;- sum((test.y - pred)^2)\\nSS.total      &lt;- sum((test.y - mean_y)^2)\\nregss &lt;- 1 - SS.residual/SS.total\\nprint(regss)\\nprint(bagged_cv)\\n'</span>"
      ],
      "text/plain": [
       "[1] \"\\nctrl <- trainControl(method = \\\"cv\\\", number = 10)\\nbagged_cv <- train(\\n  revenue~ .,\\n  data = TRAIN_FULL,\\n  method = \\\"treebag\\\", \\n  trControl = ctrl,\\n  importance = TRUE\\n)\\npred <- predict(object = bagged_cv,newdata = TREE_TESTING_FULL)\\nSS.residual   <- sum((test.y - pred)^2)\\nSS.total      <- sum((test.y - mean_y)^2)\\nregss <- 1 - SS.residual/SS.total\\nprint(regss)\\nprint(bagged_cv)\\n\""
      ]
     },
     "metadata": {},
     "output_type": "display_data"
    },
    {
     "data": {
      "text/plain": [
       "\n",
       "Call:\n",
       " randomForest(formula = revenue ~ ., data = TRAIN_FULL, importance = TRUE) \n",
       "               Type of random forest: regression\n",
       "                     Number of trees: 500\n",
       "No. of variables tried at each split: 10\n",
       "\n",
       "          Mean of squared residuals: 2.146528\n",
       "                    % Var explained: 43.11"
      ]
     },
     "metadata": {},
     "output_type": "display_data"
    },
    {
     "name": "stderr",
     "output_type": "stream",
     "text": [
      "Using 354 trees...\n",
      "\n"
     ]
    },
    {
     "name": "stdout",
     "output_type": "stream",
     "text": [
      "[1] 0.5565154\n"
     ]
    },
    {
     "name": "stderr",
     "output_type": "stream",
     "text": [
      "Using 343 trees...\n",
      "\n"
     ]
    },
    {
     "name": "stdout",
     "output_type": "stream",
     "text": [
      "[1] 0.5652694\n"
     ]
    },
    {
     "name": "stderr",
     "output_type": "stream",
     "text": [
      "Using 265 trees...\n",
      "\n"
     ]
    },
    {
     "name": "stdout",
     "output_type": "stream",
     "text": [
      "[1] 0.5601631\n"
     ]
    },
    {
     "name": "stderr",
     "output_type": "stream",
     "text": [
      "Using 276 trees...\n",
      "\n"
     ]
    },
    {
     "name": "stdout",
     "output_type": "stream",
     "text": [
      "[1] 0.5694343\n"
     ]
    },
    {
     "name": "stderr",
     "output_type": "stream",
     "text": [
      "Using 351 trees...\n",
      "\n"
     ]
    },
    {
     "name": "stdout",
     "output_type": "stream",
     "text": [
      "[1] 0.5581722\n"
     ]
    },
    {
     "name": "stderr",
     "output_type": "stream",
     "text": [
      "Using 326 trees...\n",
      "\n"
     ]
    },
    {
     "name": "stdout",
     "output_type": "stream",
     "text": [
      "[1] 0.5629977\n"
     ]
    },
    {
     "name": "stderr",
     "output_type": "stream",
     "text": [
      "Using 264 trees...\n",
      "\n"
     ]
    },
    {
     "name": "stdout",
     "output_type": "stream",
     "text": [
      "[1] 0.5621471\n"
     ]
    },
    {
     "name": "stderr",
     "output_type": "stream",
     "text": [
      "Using 289 trees...\n",
      "\n"
     ]
    },
    {
     "name": "stdout",
     "output_type": "stream",
     "text": [
      "[1] 0.5637654\n"
     ]
    },
    {
     "name": "stderr",
     "output_type": "stream",
     "text": [
      "Using 296 trees...\n",
      "\n"
     ]
    },
    {
     "name": "stdout",
     "output_type": "stream",
     "text": [
      "[1] 0.5655858\n"
     ]
    },
    {
     "data": {
      "image/png": "[encoded data removed]",
      "text/plain": [
       "Plot with title \"random1\""
      ]
     },
     "metadata": {},
     "output_type": "display_data"
    }
   ],
   "source": [
    "# decision Tree\n",
    "\n",
    "set.seed(123)\n",
    "\n",
    "library(rpart)\n",
    "TREE_TRAIN <- model_test[-which(model_test$budget < 50),]\n",
    "TREE_DUMMY <- dummy_train[-which(model_test$budget < 50),]\n",
    "TREE_DUMMY<-TREE_DUMMY[,2:ncol(TREE_DUMMY)]\n",
    "TRAIN_FULL <- cbind(as.data.frame(TREE_DUMMY),TREE_TRAIN['revenue'])\n",
    "TREE_TEST <- testing[-which(testing$budget < 50),]\n",
    "TREE_TESTING_DUMMY<- dummy_test[-which(testing$budget < 50),]\n",
    "TREE_TESTING_DUMMY<-TREE_TESTING_DUMMY[,2:ncol(TREE_TESTING_DUMMY)]\n",
    "TREE_TESTING_FULL<- cbind(as.data.frame(TREE_TESTING_DUMMY),TREE_TEST['revenue'])\n",
    "\n",
    "cats_rpart_model <- rpart(revenue~ ., data = TRAIN_FULL, method = 'anova')\n",
    "cats_rpart_pred <- predict(cats_rpart_model, TREE_TESTING_FULL,type = 'vector')\n",
    "\n",
    "\n",
    "# Modeling packages\n",
    "library(caret)       # for general model fitting\n",
    "library(rpart)       # for fitting decision trees\n",
    "library(ipred)       # for fitting bagged decision trees\n",
    "set.seed(123)\n",
    "\n",
    "loop <- seq(10,20)\n",
    "Y_mse <- rep(0,length(loop))\n",
    "'\n",
    "for ( i in loop){\n",
    "    ames_bag1 <- bagging(\n",
    "      formula = revenue~ .,\n",
    "      data = TRAIN_FULL,\n",
    "      nbagg = i,\n",
    "      coob = TRUE,\n",
    "      control = rpart.control(minsplit = 2, cp = 0))\n",
    "    Y_mse[i-9]<-ames_bag1$err\n",
    "}\n",
    "'\n",
    "loop2 <- seq(10,20)\n",
    "Y_mse2 <- rep(0,length(loop))\n",
    "\n",
    "test.y    <- TREE_TEST$revenue\n",
    "mean_y <- mean(test.y)\n",
    "\n",
    "'\n",
    "ctrl <- trainControl(method = \"cv\", number = 10)\n",
    "bagged_cv <- train(\n",
    "  revenue~ .,\n",
    "  data = TRAIN_FULL,\n",
    "  method = \"treebag\", \n",
    "  trControl = ctrl,\n",
    "  importance = TRUE\n",
    ")\n",
    "pred <- predict(object = bagged_cv,newdata = TREE_TESTING_FULL)\n",
    "SS.residual   <- sum((test.y - pred)^2)\n",
    "SS.total      <- sum((test.y - mean_y)^2)\n",
    "regss <- 1 - SS.residual/SS.total\n",
    "print(regss)\n",
    "print(bagged_cv)\n",
    "'\n",
    "library(randomForest)\n",
    "#random1 <- randomForest(revenue~ ., data = TRAIN_FULL, importance = TRUE)\n",
    "pred <- predict(object = random1,newdata = TREE_TESTING_FULL)\n",
    "random1\n",
    "plot(random1)\n",
    "\n",
    "library(gbm)\n",
    "cv = c(4,6,8,10,12,14,16,18,20)\n",
    "for (i in cv){\n",
    "    gbm_algorithm <- gbm(revenue ~ ., data = TRAIN_FULL,distribution = \"gaussian\", cv.folds = i, n.trees = 500)\n",
    "    plot(gbm_algorithm)\n",
    "    pred <- predict(object = gbm_algorithm,newdata = TREE_TESTING_FULL)\n",
    "    y_predicted <- as.numeric(pred)\n",
    "    SS.residual   <- sum((test.y - y_predicted)^2)\n",
    "    SS.total      <- sum((test.y - mean(test.y))^2)\n",
    "    regss <- sum((y_predicted - mean(y_predicted)) ^ 2)\n",
    "    print( 1.0 - SS.residual/SS.total)\n",
    "}"
   ]
  },
  {
   "cell_type": "code",
   "execution_count": 672,
   "metadata": {
    "vscode": {
     "languageId": "r"
    }
   },
   "outputs": [
    {
     "name": "stdout",
     "output_type": "stream",
     "text": [
      "[1] 0.5505955\n"
     ]
    }
   ],
   "source": [
    "test.y    <- TREE_TEST$revenue\n",
    "y_predicted <- as.numeric(pred)\n",
    "SS.residual   <- sum((test.y - y_predicted)^2)\n",
    "SS.total      <- sum((test.y - mean(test.y))^2)\n",
    "regss <- sum((y_predicted - mean(y_predicted)) ^ 2)\n",
    "print( 1.0 - SS.residual/SS.total)"
   ]
  },
  {
   "cell_type": "code",
   "execution_count": null,
   "metadata": {
    "vscode": {
     "languageId": "r"
    }
   },
   "outputs": [],
   "source": []
  }
 ],
 "metadata": {
  "kernelspec": {
   "display_name": "R",
   "language": "R",
   "name": "ir"
  },
  "language_info": {
   "codemirror_mode": "r",
   "file_extension": ".r",
   "mimetype": "text/x-r-source",
   "name": "R",
   "pygments_lexer": "r",
   "version": "3.6.1"
  }
 },
 "nbformat": 4,
 "nbformat_minor": 4
}
